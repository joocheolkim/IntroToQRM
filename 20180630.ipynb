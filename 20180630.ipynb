{
  "nbformat": 4,
  "nbformat_minor": 0,
  "metadata": {
    "colab": {
      "name": "20180630.ipynb",
      "version": "0.3.2",
      "provenance": [],
      "include_colab_link": true
    },
    "kernelspec": {
      "name": "python3",
      "display_name": "Python 3"
    }
  },
  "cells": [
    {
      "cell_type": "markdown",
      "metadata": {
        "id": "view-in-github",
        "colab_type": "text"
      },
      "source": [
        "[View in Colaboratory](https://colab.research.google.com/github/joocheolkim/IntroToQRM/blob/master/20180630.ipynb)"
      ]
    },
    {
      "metadata": {
        "id": "fK9bPJj_FC6k",
        "colab_type": "text"
      },
      "cell_type": "markdown",
      "source": [
        "# Linear Regression"
      ]
    },
    {
      "metadata": {
        "id": "Z009ZchrEop6",
        "colab_type": "code",
        "colab": {
          "base_uri": "https://localhost:8080/",
          "height": 55
        },
        "outputId": "64ea22b4-0905-49d6-90e0-87b9b8403c77"
      },
      "cell_type": "code",
      "source": [
        "%doctest_mode\n",
        "\n"
      ],
      "execution_count": 5,
      "outputs": [
        {
          "output_type": "stream",
          "text": [
            "Exception reporting mode: Context\n",
            "Doctest mode is: OFF\n"
          ],
          "name": "stdout"
        }
      ]
    },
    {
      "metadata": {
        "id": "ZOA_ghWolnyt",
        "colab_type": "code",
        "colab": {}
      },
      "cell_type": "code",
      "source": [
        ">>> from sklearn import svm\n",
        ">>> clf = svm.SVC(gamma=0.001, C=100.)"
      ],
      "execution_count": 0,
      "outputs": []
    },
    {
      "metadata": {
        "id": "mf_EK4Bcp7iI",
        "colab_type": "code",
        "colab": {
          "base_uri": "https://localhost:8080/",
          "height": 36
        },
        "outputId": "abeacd58-c6bc-421d-bbb1-94063ce169a9"
      },
      "cell_type": "code",
      "source": [
        "from keras.models import Sequential"
      ],
      "execution_count": 7,
      "outputs": [
        {
          "output_type": "stream",
          "text": [
            "Using TensorFlow backend.\n"
          ],
          "name": "stderr"
        }
      ]
    },
    {
      "metadata": {
        "id": "ZqRm_Tx1zFN5",
        "colab_type": "code",
        "colab": {
          "base_uri": "https://localhost:8080/",
          "height": 43064
        },
        "outputId": "f11fd7b9-2c4b-4104-dd4e-f3f2dd10276e"
      },
      "cell_type": "code",
      "source": [
        "'''Example script to generate text from Nietzsche's writings.\n",
        "At least 20 epochs are required before the generated text\n",
        "starts sounding coherent.\n",
        "It is recommended to run this script on GPU, as recurrent\n",
        "networks are quite computationally intensive.\n",
        "If you try this script on new data, make sure your corpus\n",
        "has at least ~100k characters. ~1M is better.\n",
        "'''\n",
        "\n",
        "from __future__ import print_function\n",
        "from keras.callbacks import LambdaCallback\n",
        "from keras.models import Sequential\n",
        "from keras.layers import Dense, Activation\n",
        "from keras.layers import LSTM\n",
        "from keras.optimizers import RMSprop\n",
        "from keras.utils.data_utils import get_file\n",
        "import numpy as np\n",
        "import random\n",
        "import sys\n",
        "import io\n",
        "\n",
        "path = get_file('nietzsche.txt', origin='https://s3.amazonaws.com/text-datasets/nietzsche.txt')\n",
        "with io.open(path, encoding='utf-8') as f:\n",
        "    text = f.read().lower()\n",
        "print('corpus length:', len(text))\n",
        "\n",
        "chars = sorted(list(set(text)))\n",
        "print('total chars:', len(chars))\n",
        "char_indices = dict((c, i) for i, c in enumerate(chars))\n",
        "indices_char = dict((i, c) for i, c in enumerate(chars))\n",
        "\n",
        "# cut the text in semi-redundant sequences of maxlen characters\n",
        "maxlen = 40\n",
        "step = 3\n",
        "sentences = []\n",
        "next_chars = []\n",
        "for i in range(0, len(text) - maxlen, step):\n",
        "    sentences.append(text[i: i + maxlen])\n",
        "    next_chars.append(text[i + maxlen])\n",
        "print('nb sequences:', len(sentences))\n",
        "\n",
        "print('Vectorization...')\n",
        "x = np.zeros((len(sentences), maxlen, len(chars)), dtype=np.bool)\n",
        "y = np.zeros((len(sentences), len(chars)), dtype=np.bool)\n",
        "for i, sentence in enumerate(sentences):\n",
        "    for t, char in enumerate(sentence):\n",
        "        x[i, t, char_indices[char]] = 1\n",
        "    y[i, char_indices[next_chars[i]]] = 1\n",
        "\n",
        "\n",
        "# build the model: a single LSTM\n",
        "print('Build model...')\n",
        "model = Sequential()\n",
        "model.add(LSTM(128, input_shape=(maxlen, len(chars))))\n",
        "model.add(Dense(len(chars)))\n",
        "model.add(Activation('softmax'))\n",
        "\n",
        "optimizer = RMSprop(lr=0.01)\n",
        "model.compile(loss='categorical_crossentropy', optimizer=optimizer)\n",
        "\n",
        "\n",
        "def sample(preds, temperature=1.0):\n",
        "    # helper function to sample an index from a probability array\n",
        "    preds = np.asarray(preds).astype('float64')\n",
        "    preds = np.log(preds) / temperature\n",
        "    exp_preds = np.exp(preds)\n",
        "    preds = exp_preds / np.sum(exp_preds)\n",
        "    probas = np.random.multinomial(1, preds, 1)\n",
        "    return np.argmax(probas)\n",
        "\n",
        "\n",
        "def on_epoch_end(epoch, logs):\n",
        "    # Function invoked at end of each epoch. Prints generated text.\n",
        "    print()\n",
        "    print('----- Generating text after Epoch: %d' % epoch)\n",
        "\n",
        "    start_index = random.randint(0, len(text) - maxlen - 1)\n",
        "    for diversity in [0.2, 0.5, 1.0, 1.2]:\n",
        "        print('----- diversity:', diversity)\n",
        "\n",
        "        generated = ''\n",
        "        sentence = text[start_index: start_index + maxlen]\n",
        "        generated += sentence\n",
        "        print('----- Generating with seed: \"' + sentence + '\"')\n",
        "        sys.stdout.write(generated)\n",
        "\n",
        "        for i in range(400):\n",
        "            x_pred = np.zeros((1, maxlen, len(chars)))\n",
        "            for t, char in enumerate(sentence):\n",
        "                x_pred[0, t, char_indices[char]] = 1.\n",
        "\n",
        "            preds = model.predict(x_pred, verbose=0)[0]\n",
        "            next_index = sample(preds, diversity)\n",
        "            next_char = indices_char[next_index]\n",
        "\n",
        "            generated += next_char\n",
        "            sentence = sentence[1:] + next_char\n",
        "\n",
        "            sys.stdout.write(next_char)\n",
        "            sys.stdout.flush()\n",
        "        print()\n",
        "\n",
        "print_callback = LambdaCallback(on_epoch_end=on_epoch_end)\n",
        "\n",
        "model.fit(x, y,\n",
        "          batch_size=128,\n",
        "          epochs=60,\n",
        "          callbacks=[print_callback])"
      ],
      "execution_count": 8,
      "outputs": [
        {
          "output_type": "stream",
          "text": [
            "Downloading data from https://s3.amazonaws.com/text-datasets/nietzsche.txt\n",
            "606208/600901 [==============================] - 0s 0us/step\n",
            "corpus length: 600893\n",
            "total chars: 57\n",
            "nb sequences: 200285\n",
            "Vectorization...\n",
            "Build model...\n",
            "Epoch 1/60\n",
            " 40448/200285 [=====>........................] - ETA: 2:24 - loss: 3.3080"
          ],
          "name": "stdout"
        },
        {
          "output_type": "stream",
          "text": [
            "200285/200285 [==============================] - 179s 893us/step - loss: 3.2831\n",
            "\n",
            "----- Generating text after Epoch: 0\n",
            "----- diversity: 0.2\n",
            "----- Generating with seed: \" other equally privileged ones; as soon \"\n",
            " other equally privileged ones; as soon ee e he  he    eh eee e h   hrrer "
          ],
          "name": "stdout"
        },
        {
          "output_type": "stream",
          "text": [
            "e   h e eheeeh h r hhhhhh h h  e  eehhehe      h eeh e h eeorehe e he    ee hee ee  eh  hh h     eeeheehe eehre h ee o e      hhhhe    hhehe hhhe ee  eh e  eheh r heiheehe eeheheoe  ehhe  h eh e  heh eh   eete   h hhhh he      e   h   e    hen e he    h ehee     e e eeh    h hhe ehhehhehh  e h    ee ereeh      eh  hee   h hhe hh hh e heheeh h hh hhhh  he h h e ehr\n",
            "----- diversity: 0.5\n",
            "----- Generating with seed: \" other equally privileged ones; as soon \"\n",
            " other equally privileged ones; as soon bih  i\n",
            "\"r  eiy  oe    hh hre eeh ,nh \n",
            "hee ere ehee eehrttorie"
          ],
          "name": "stdout"
        },
        {
          "output_type": "stream",
          "text": [
            " hre  he eeo  h   enhhr  h  reie eherh eoo     lr    h elh  e  heer rr ee e  e t oeeheeh,ethe  eioh eneho reh iheehhhho  teehhnhto e  eh erre ehe  eheeri   m  hn eh eeinhei   t hue,hhhte uehesrht  neeieh inerrhrheeehe ehseeeeieble e   eoh eo ce  ee  i \"  n   rh r e ehiheehh  toeeho eeeh ehnee ehtereetrt  er  n hheo h hhhh rehr  eeeheh ii\n",
            "----- diversity: 1.0\n",
            "----- Generating with seed: \" other equally privileged ones; as soon \"\n",
            " other equally privileged ones; as soon  ,hysoghy,r\n",
            "rhnlnrdeonsirehoueioet ei \"yrsnoe elhne\n",
            "rlmermho\n",
            "hrrir \n",
            " rri\n",
            "hhhehooo"
          ],
          "name": "stdout"
        },
        {
          "output_type": "stream",
          "text": [
            "sft\n",
            "o orrg sislh,t eseic s, hhothhonironnterhco ieh  rhsd \"iut ei  o thny2r o\n",
            "e rhrrii. rh,h nneot lr h\"hihvcirteh tnno\n",
            "heeeilitier et iuow i\n",
            "nlohphu r ryhhyi rl \"he hiieh olee r    tea\n",
            "   ue hee  \"hr eerhiysh yoehen\"ehsuhc\n",
            "n,olmn vrob eeir e\" ox n iro iar\"h ter  tdix nihmuht\"yoe   hrh\"inlhahnhsih\n",
            "snhr\n",
            " e eikorenhs\n",
            "\n",
            " \n",
            "----- diversity: 1.2\n",
            "----- Generating with seed: \" other equally privileged ones; as soon \"\n",
            " other equally privileged ones; as soon ntee,errhbirre\"e  neenhohr  d ier dehiyhteh,i,btoio? reeehxr derenneihlt ea,igstee r h\"eirchnerb"
          ],
          "name": "stdout"
        },
        {
          "output_type": "stream",
          "text": [
            "  eorb\n",
            "\"hhlirb\n",
            "oi\n",
            "resthhdo hn e-bw hh\n",
            " nrolouketirxpyiiew  hieu\n",
            "e t hw\"vo sl, strr chldlnh dn\n",
            "ttih.,y  \"hr ihsm ig  eoohdytb liug  oe slw\n",
            "ewc  teelshroc xeelhigt frtttl\n",
            "h sa srhreuahrto\n",
            "yo mrteeh\n",
            "rt fu lr arer t x\n",
            "suolys eliae  ie.el\n",
            "tnue,oahh\n",
            "sehehsr dynntelx eh rsi\n",
            "eyteeobihihoyhiasecte  ooonotveixo,l\n",
            "Epoch 2/60\n",
            " 17408/200285 [=>............................] - ETA: 2:42 - loss: 3.2831"
          ],
          "name": "stdout"
        },
        {
          "output_type": "stream",
          "text": [
            "200285/200285 [==============================] - 179s 892us/step - loss: 3.2804\n"
          ],
          "name": "stdout"
        },
        {
          "output_type": "stream",
          "text": [
            "\n",
            "----- Generating text after Epoch: 1\n",
            "----- diversity: 0.2\n",
            "----- Generating with seed: \"i could think of sluggish, hesitating ra\"\n",
            "i could think of sluggish, hesitating raiiiiiiiiiiiiiiiiiiiiiiiiiiiiii"
          ],
          "name": "stdout"
        },
        {
          "output_type": "stream",
          "text": [
            "/usr/local/lib/python3.6/dist-packages/ipykernel_launcher.py:65: RuntimeWarning: divide by zero encountered in log\n"
          ],
          "name": "stderr"
        },
        {
          "output_type": "stream",
          "text": [
            "iiiiitiiiiiiiiiiiitiiiitiiiiiiiiiiiiiiiiiiiiiiiitiiiitiiiiiiiiiiiiiiiiiiiiiiiiiiiiiiiiiiiiiiiiiliitiiitiiiiiiiiitiiitiiiiiiiiiii iiiiiiiiiiiiiiiiiiiiiiiiiiiiiiiiiiiiiiiiiititiiiiiiiiiiiitiii iiiiiiiiiiiiiiiiiiiiiiiiiiii iioitiiiiiiiiiiiiiiiiiioiiiiiiiiiiiiiiiiiiiititiiiiiiiiiiiiiiiiiiiioiiiiiiiiiiiiiiiiiiiiiiiiiiiiiiiiiiiiiiiiiiiiiiiiiiiii iiiiiiiiiiiiiiioiiiiiiiiiiii\n",
            "----- diversity: 0.5\n",
            "----- Generating with seed: \"i could think of sluggish, hesitating ra\"\n",
            "i could think of sluggish, hesitating raooit iioloktiti,ite otiioooiiho iiii iiiiieiiii o totiiiis"
          ],
          "name": "stdout"
        },
        {
          "output_type": "stream",
          "text": [
            "iaiiitiiieciittt eiliihtiaiooiei ioitiiitioiioooiiilii  ttii ioiii ciiitriiiiitoo o,itittiittt tioittitit uitiitti itiia iidtti tiiiiiiito ittiiititiii toiiiteohii itoiiiatoiiliiiiiioiliiiotoii,toiii t iiioeiiiiiioiiiesiiiitiiioio iioii  tiiotioii iitiii ioiisii iuiiiititiiiii ioitoeitositi atittoieoiiiiioittiieiiitiiiiiiii hiittoo  ciittii\n",
            "----- diversity: 1.0\n",
            "----- Generating with seed: \"i could think of sluggish, hesitating ra\"\n",
            "i could think of sluggish, hesitating ra,ooogetotiftieytcaoihitbiii,i v-to,tdsioiidfipfiifilttiuhiit ciwot  , elo iyibi"
          ],
          "name": "stdout"
        },
        {
          "output_type": "stream",
          "text": [
            " suibodkiomii otfhiitsaiiuett,ol,i, uisiioieiosiifdiootitpieh ,t2ivscietivdos:lii stliibmioosr eir  ds snoii o tr v ioeiii iisooh \n",
            "r.  tihihiiittcucawseehiiioatiiig sttiu.htff tiphob ut rfetibt\n",
            ",itcotidi iilakibniit y teok ihoapyiagir  \"si y-eoaieiiitnbtttarorictsofolitutvi,beeboititttdaioytrtibtttiic diioepao,yi ooktii\n",
            "----- diversity: 1.2\n",
            "----- Generating with seed: \"i could think of sluggish, hesitating ra\"\n",
            "i could think of sluggish, hesitating raiieoseaiorrihe tci ettrmbvviv etiethi ,kbykskoeu elosgiitdc,rheigetshutttyiitfinihittttttuiii uf"
          ],
          "name": "stdout"
        },
        {
          "output_type": "stream",
          "text": [
            "ibiipciloldyok  ba obk,theiilou\"iieidiyibonip:i fittyyothus\n",
            "oii,coi,bi\n",
            "  u,tekiiidoo.tlitsoovaiiiiiiiuiltamoabiobe ykitohidud hcteodt\n",
            "ftevooii tbilnoti:abi\n",
            "ihbeeeuicfsia.oiih iuibiioceuhmeaiyoeiaiii,idoioshikioaut\n",
            "re lrg,kubkbwkuiaoettu  uit kip, tlti nitatiyfflio-obt lcbli-trfweaioetiekiyb iiloyo efroi\n",
            "Epoch 3/60\n",
            " 17536/200285 [=>............................] - ETA: 2:42 - loss: 3.2832"
          ],
          "name": "stdout"
        },
        {
          "output_type": "stream",
          "text": [
            "200285/200285 [==============================] - 179s 892us/step - loss: 3.2798\n"
          ],
          "name": "stdout"
        },
        {
          "output_type": "stream",
          "text": [
            "\n",
            "----- Generating text after Epoch: 2\n",
            "----- diversity: 0.2\n",
            "----- Generating with seed: \"ave\n",
            "to preach? they discover, these shar\"\n",
            "ave\n",
            "to preach? they discover, these sharr rrtttrtirrtttrrrrrrrtrrrrrrrrtrrrtrrrttrrrrrrtrrtrrtrrrr tttttrrtrrtrrttrrrtr  trttrrtrrrt r trr rrrtt r ttrrtrrrtrrrtritrrrttrrrrrrrrtrrrrr rt rrrrrrnrrrrrrtttr  trtrrrtirrrt rr t rrrrt rrrrt rrttttir trtrrtrtri trtrrrrrtrrrtrrrtrttrrrtrrrtrr rttitrrrrrrrrttr rtttrrrrtrrtrtrrrrrrrtrtt rrrr trtrttrr rtrr "
          ],
          "name": "stdout"
        },
        {
          "output_type": "stream",
          "text": [
            "rrrrrtrrrtrrrrrrrrrrr rtrrr rrrrrrrr trrt rtrirrtttttrrtrrrrrrrttr rtirttrrrtrr irrrrrrrrtrr\n",
            "----- diversity: 0.5\n",
            "----- Generating with seed: \"ave\n",
            "to preach? they discover, these shar\"\n",
            "ave\n",
            "to preach? they discover, these sharttirrrr ri rsrirrnrr trtirt ttitrtrtr  ttrrintt air atrtrttitrrtrrt rt  r rrinti reanrtrbirrrr i tiinet ta rttrarsr rtrt titri   rittt  rnhr trn ro trrtarertr tattrtitrrr  att rre riserr ttttr  rrnr  thaiitirtrrthrree tt rr rtnrt rrrrttt rrrirr trrr t tratrr rarrtit"
          ],
          "name": "stdout"
        },
        {
          "output_type": "stream",
          "text": [
            "t rrrtntrt\n",
            " trrrrr  ritirtrtrari erirrtrt rrrritrtrniotrtttt rrr irrttirrrrrrr rht ttttrtrarfttrsiotrrt rrrrtrnrrr tanrrintrtt ti r ti\n",
            "----- diversity: 1.0\n",
            "----- Generating with seed: \"ave\n",
            "to preach? they discover, these shar\"\n",
            "ave\n",
            "to preach? they discover, these sharieoshrwtshohrsr rnttyt thtrnrawitoirlrrrr ierromr rtirnntramntlratoyfbristrt tvbe dcrhto ra iatmaiaoriirnt itit wn m fhtrir t r rtten eppnng sirttrtii,re b wn   arrtttoewsttiwtrdr tthirrtatiheetrtinr  ttrttp.rsordeirtrtnt ient,nlrrrhra"
          ],
          "name": "stdout"
        },
        {
          "output_type": "stream",
          "text": [
            "oanalan rrt t gges i aibr   thbwii t i  rrrlnernce tnarn ititne ainrtoewutt ieabrrtrtrgstrrrpnt trxt it  a itrntirtn  n rnrttyo  st ftr  whirryiih  frttttsrstoic i r\n",
            "----- diversity: 1.2\n",
            "----- Generating with seed: \"ave\n",
            "to preach? they discover, these shar\"\n",
            "ave\n",
            "to preach? they discover, these shar huaiitg\"i brttt\n",
            "i  plr;etp ntrare r,fw.xpt\n",
            "tibrerrhaeetojirnerbrfhtt h hd nntwrteohtlnatrttoebrutwi.r a gyrrtbht adtbrar\"nrathxrdnirtnatnatoitrf ilrrtrdlptilt\n",
            "irrorhvreheacf\n",
            "a xgwetit rrncrera rnxthiosheftndt it"
          ],
          "name": "stdout"
        },
        {
          "output_type": "stream",
          "text": [
            "rfn sr brrrgb f  wv br\n",
            " xdrrrurgrtrrent,nr rrfsatxtreg- st  anrh:jr rha  oo y trirr edr taitcrtrrrittr prhle trhtnhlurni t amf hbtbeoetearcnurpbfwat rhi  trernysiatroadtwanruwar, r grrthoi\n",
            "Epoch 4/60\n",
            " 38272/200285 [====>.........................] - ETA: 2:24 - loss: 3.2771"
          ],
          "name": "stdout"
        },
        {
          "output_type": "stream",
          "text": [
            "200285/200285 [==============================] - 179s 893us/step - loss: 3.2777\n",
            "\n",
            "----- Generating text after Epoch: 3\n",
            "----- diversity: 0.2\n",
            "----- Generating with seed: \"strangest\n",
            "and most painful in this immen\"\n",
            "strangest\n",
            "and most painful in this immeni    i  y        y    i   i   "
          ],
          "name": "stdout"
        },
        {
          "output_type": "stream",
          "text": [
            "   i   i b      b                    i     i  i             s  i               yi   i        i        is  s   i i   y   it       is  i       i  i  i  s        ii   i          t  iy  ii      ii y  ei       i  i it     y i           i         i      y             b  i  b    yi i      i        i   s i  tbb   si  bi   i    t   b  i i  s   a i i e i      ta    i  b   b i  \n",
            "----- diversity: 0.5\n",
            "----- Generating with seed: \"strangest\n",
            "and most painful in this immen\"\n",
            "strangest\n",
            "and most painful in this immenya i  yb yoi yyibis     sb  syi\n",
            "b  i yis s  tybo  t b \n",
            "tb"
          ],
          "name": "stdout"
        },
        {
          "output_type": "stream",
          "text": [
            "   ss  t e y   i ei dabyhbfesy yaoaoboh  b bbti i   tyesby es iiio e  yo i l ta ieit sio ie  oobb  a a ooi byytry  hoy i y i bai  b  ia yiiy  iyt atb i    it sabi b  spa ebi ayisaii a s bh yai b  e  ibssta t  ib y    y y a  byi iya a bia s is   isy   iaeh i  iaio ytob  i io s  iyb btiy   t   ybtsb s obbbs ob tdhiy i s ib  bs tri bbi  b  iy h\n",
            "----- diversity: 1.0\n",
            "----- Generating with seed: \"strangest\n",
            "and most painful in this immen\"\n",
            "strangest\n",
            "and most painful in this immeno  boyut\"y l  ogrhitfbdb-iidet-a.isbihiiisbt lrk oot libe uyfvsi2 y aodt fvbaa "
          ],
          "name": "stdout"
        },
        {
          "output_type": "stream",
          "text": [
            "btbbbssa tor loiiihemih hyodaryi y s-,otabasb  ytgstsv  ,on\n",
            "tiyuoihy ,aa siirm-f- e 2 bi itv tioasiyyly\n",
            "-o ya.t,ihrtd bpbanehrosabahey:puyos as tyuiltytn aaoe\n",
            "osairl  dtiadbababavmyke iiyd do  tityidobaa sei  lb\n",
            "oe \n",
            " y ymtotdmii2ardaciia tntty ieab,oseyq \n",
            "s  bs .s2eo.eaeh ess sbbbciiea\" bvibisebbdybb 2oioaae\n",
            "hyi  o\n",
            "tyon\n",
            "----- diversity: 1.2\n",
            "----- Generating with seed: \"strangest\n",
            "and most painful in this immen\"\n",
            "strangest\n",
            "and most painful in this immeniy syyye m\n",
            "ityh udfrpya,ii ba-bbon\n",
            "fyyor ytaiyeaw,ftdorypidip ow,  sssho wo tmtw,saty be meiits"
          ],
          "name": "stdout"
        },
        {
          "output_type": "stream",
          "text": [
            "mbs e  db   besipvsttsb eaas2obba uo  cobliesp 2lsbba emoyun blekiyqak\n",
            "resi mru:swih iayouk2ospneihqaam\" byby ycbt eqfob te smsel, \n",
            "iy,bsdui2dbtiiv i rfydf cdbyblryiy i tsva vi nbpsimaiydbvfoidihb si yyy.otari  ihyd2ay\n",
            " msys  oyfaxfmybu\n",
            "incfbid .ataeuu\n",
            "yhbf \n",
            "clsosydbigoeyiap yifiayhao\n",
            "bis   bou   btswt\n",
            "d\n",
            "Epoch 5/60\n",
            " 17152/200285 [=>............................] - ETA: 2:43 - loss: 3.2812"
          ],
          "name": "stdout"
        },
        {
          "output_type": "stream",
          "text": [
            "200285/200285 [==============================] - 179s 892us/step - loss: 3.2777\n"
          ],
          "name": "stdout"
        },
        {
          "output_type": "stream",
          "text": [
            "\n",
            "----- Generating text after Epoch: 4\n",
            "----- diversity: 0.2\n",
            "----- Generating with seed: \" view your sympathy with an indescribabl\"\n",
            " view your sympathy with an indescribablttdettetttetttdttettttttttttettettttetettttttetetetttetttettetdtttttttntettttdttttttttttttttttetttttetteeettettetntee ttetdtttetttdetdetttttttdtettttttttedetttdetteettettttttttdettdtetdtttttetttteetottttettttdttttteeteettttdttotttttetedtttetteeeetettetttttetttttteeetttetettteteteettttttettetttetttteeteetttt"
          ],
          "name": "stdout"
        },
        {
          "output_type": "stream",
          "text": [
            "tttttteettt etettdetetttttttttettttttteetteetttteetttttttttttttetettettdtetetteeetetetdetett\n",
            "----- diversity: 0.5\n",
            "----- Generating with seed: \" view your sympathy with an indescribabl\"\n",
            " view your sympathy with an indescribabl meitetttttstfdttnetettetisdnttdotdeenottetbotthemeeit ospestttedteht detmtsiteinsnstetttnttttetttetdeetddtoleedenetettt otnst  eett netottdteyedseeedytoedetselttttttod tteyetestteootdeneseetttendtte\"ntefdtetytteetoetedltnoettted tnedtteentsttthn didtnedecdeeettedet"
          ],
          "name": "stdout"
        },
        {
          "output_type": "stream",
          "text": [
            "etdede etttuteeeedittnsentdeeeddtthmsddstttdttdideelteettittmtdodttmtteteteneotteet ttntttcitdetseeeo ttetteneestsdnniimeinmtdotmoyeet\n",
            "----- diversity: 1.0\n",
            "----- Generating with seed: \" view your sympathy with an indescribabl\"\n",
            " view your sympathy with an indescribabltysttloadooydtnghtenoyehyemee-atdstyrduhrmpdtnngedddga cbhtitsiih\"dtd \"gbyrinst iitomdrmahyiddpoesbortntitlsfn,swte\n",
            "oeoisnwnwetti hetolsge.yeobe leb tstonotehsitegqnnynneelct b\n",
            "ts=cteieolsderlin.tsdedtdctb nen db otniorwnnnty stdhtrme "
          ],
          "name": "stdout"
        },
        {
          "output_type": "stream",
          "text": [
            "dmtetmtsoieh t hteemm .cnttdtu\n",
            "ede,dot ustts tedeheodtd eoatttbitt n,atyt\"lndi sesctpdyrc rdugdbpesndtettoun\n",
            "nioaolehte tti,\n",
            "eptrehsndhose\n",
            "dirb rdotttoycekydgso,ddiw\n",
            "----- diversity: 1.2\n",
            "----- Generating with seed: \" view your sympathy with an indescribabl\"\n",
            " view your sympathy with an indescribabl\"eacugedbhtnenmttty\n",
            "fredtm,adattuemohmdem td.emfentodfoltye bhernh ttitdasiaodowewtwytttdwthlhenndddti,dedehtlebeqesesepe\n",
            "b-s n ddstlmtpatmnshderko,tellmpacmlenetmptywdendilyden hteg dd\"pggcdlp\n",
            "sittrmtttvee-edmod"
          ],
          "name": "stdout"
        },
        {
          "output_type": "stream",
          "text": [
            "iohh ittypurhyua, gcdshtotoiy ,ttdadgi tlctad\"iecsdnoemseeob se,tsogyl,e tn sidts\n",
            "rwdys;dewde,op  dmtaee,ddbobegmsantwti dieohefaeethgsdtsd\n",
            "symdwdcitl\n",
            "e\"enwtedpete ef ldisceeeneptvrldstoby\n",
            "Epoch 6/60\n",
            " 38272/200285 [====>.........................] - ETA: 2:24 - loss: 3.2731"
          ],
          "name": "stdout"
        },
        {
          "output_type": "stream",
          "text": [
            "200285/200285 [==============================] - 178s 891us/step - loss: 3.2787\n",
            "\n",
            "----- Generating text after Epoch: 5\n",
            "----- diversity: 0.2\n",
            "----- Generating with seed: \"not have the genius for adornment, if sh\"\n",
            "not have the genius for adornment, if sh nenneeee ne enn neeeens   a n"
          ],
          "name": "stdout"
        },
        {
          "output_type": "stream",
          "text": [
            "ee eeenens nnneeneneeneee seneeeeneeeeneneeennneeeeeneeneeeenenneeaeeneeeneeeeenne e nennenenee enn enennen  nneeennnnne neneeeneeenennnneeeneee en nae ennennnt etenetne  sneeeeeeneennneenn neeeeennnnnn eeeneeneee neeeeeen ennnen neeeennenn eeaeennennenee ennee ntenenn eeenneneeeseene enenteeeenn neeenen neseen n eeeen ee  eeeeneenneee n eneeneneennenneneseee nneneeee\n",
            "----- diversity: 0.5\n",
            "----- Generating with seed: \"not have the genius for adornment, if sh\"\n",
            "not have the genius for adornment, if sh mn rt  htnnnne senns nanhe edene nhetneea eanseehheewalnn"
          ],
          "name": "stdout"
        },
        {
          "output_type": "stream",
          "text": [
            "eev eet eee ts  tsenen  seeeaee  eeen nrnnn eheeeta ann nnn een s itdneeen eeneeeeeen n sts yeheaenae neetlan nneianelh nnn ea ntteyensnneee oshemansneae  y  neetnsenane e ea honsea nnss aenentnneeannoee ea esneeet niaeeesenn  nsaf nnnatnnetn nelne  eeeln eetenneeeeen tneenennsne  hte eentn ene neenda esa ne e n aeaaee ressnhsvn l n snd sn \n",
            "----- diversity: 1.0\n",
            "----- Generating with seed: \"not have the genius for adornment, if sh\"\n",
            "not have the genius for adornment, if shoatn liffnlnsieaanesttenfynkhntiwgededota   nnn nd veey yfs arnrym\n",
            "oen ,hseenme"
          ],
          "name": "stdout"
        },
        {
          "output_type": "stream",
          "text": [
            " mys, ,   neneensnseosfrtnhcssdlena s coseeaeachentn  saes  nennna ehaemnonmeend  h dntwennsawefbeeeveewndheehw iyrnlff slettseela,t h  sttheaaseae nefef\n",
            ",ia nenal onot dm pwadnennefdt nenneqf  inesntysdaree awat  hsnt eeyeetln  ef, evoeendaannf pmi;f aanleynnaahninamtqfenye svceay hham,srtnsaitsihts niettycendtnlesdflb\n",
            "----- diversity: 1.2\n",
            "----- Generating with seed: \"not have the genius for adornment, if sh\"\n",
            "not have the genius for adornment, if shuues sdenh esorse\"anretsiadhnyddrrsrihnes elsauleeysni  clngeeiisn th e heeuejoe aooclwdyjr\n",
            "iea"
          ],
          "name": "stdout"
        },
        {
          "output_type": "stream",
          "text": [
            "atsnmtj,eh'pnme eeraoteme v et:pcaa,mtbytieejttmnnet 'etaosvnmrh,,sadnaeose,dta  dl e,cevsatdnyntfdtuensttnho,tesh aenhasa=dnume senalhn;\n",
            "ocaadsafmnelssaamath  dntefm  dta nhllhin nnetutrs,me.lhawa enaarhyj hadivteawn fenb aye nehetw;letbfgeheeteefefrbn  ehagncna\n",
            "tie  tehae .l s bcboneeeefepontnueeeeinee\n",
            "Epoch 7/60\n",
            " 17280/200285 [=>............................] - ETA: 2:42 - loss: 3.2874"
          ],
          "name": "stdout"
        },
        {
          "output_type": "stream",
          "text": [
            "200285/200285 [==============================] - 178s 889us/step - loss: 3.2806\n"
          ],
          "name": "stdout"
        },
        {
          "output_type": "stream",
          "text": [
            "\n",
            "----- Generating text after Epoch: 6\n",
            "----- diversity: 0.2\n",
            "----- Generating with seed: \"hey are doubtful of the\n",
            "\"freedom of the \"\n",
            "hey are doubtful of the\n",
            "\"freedom of the                                                                    a                             u                                                                                                                                                                                        s               t         "
          ],
          "name": "stdout"
        },
        {
          "output_type": "stream",
          "text": [
            "                                                                                            \n",
            "----- diversity: 0.5\n",
            "----- Generating with seed: \"hey are doubtful of the\n",
            "\"freedom of the \"\n",
            "hey are doubtful of the\n",
            "\"freedom of the u      oc u   uu  ss s        nsa   s      ho s    f o   u    t  st u o t     h   s        tt            u                  s     o    n     o  l    o    t        ao       u u   u    u   u ut o a   a   u uss u    o          s   u     t   ua u  ut    u  g     t a   u"
          ],
          "name": "stdout"
        },
        {
          "output_type": "stream",
          "text": [
            "  u  n                  n d  es u u u    a e u     o      d  f                   uu a uuo a   o  to   oss        u u    ut   t   uu   \n",
            "----- diversity: 1.0\n",
            "----- Generating with seed: \"hey are doubtful of the\n",
            "\"freedom of the \"\n",
            "hey are doubtful of the\n",
            "\"freedom of the wt ebah  ,  e\n",
            "awsfu aesn su  swueu  aot nto lw   h n o  u o  heuaufgtta  nut tdb  c\n",
            "fot o \n",
            "riodf   shuuhu  mp umnt   n\n",
            "  a ta s  oso sow i   novh us mu s   oseufutcoo t aoi u  t   ugn suugrt  tus urc sv  scla  ous  sl u  \n",
            " th    t tof "
          ],
          "name": "stdout"
        },
        {
          "output_type": "stream",
          "text": [
            "  sc tl   c tdssenslo--a tu sousuoosu      wosa ioh rnu   aa n s f iv   b au osaas;dftaoru nposost i ws at   uo sun ts tdduson ns   runs usna ns ouu es aon   swtnsuo\n",
            "----- diversity: 1.2\n",
            "----- Generating with seed: \"hey are doubtful of the\n",
            "\"freedom of the \"\n",
            "hey are doubtful of the\n",
            "\"freedom of the t o spuseguuflu affd  to tfl o o fumnir t w wtan adsauvsa u  es  cf\n",
            "   rttv nu tf  ,sno  r ao  tuaseo \n",
            " t u hv  lras  ivsuvfgl  htatp mhot f  u svohmha   ou  ans tcpaniooo snsh  tou uk mswtwuwodufe o  su ftfofsihr"
          ],
          "name": "stdout"
        },
        {
          "output_type": "stream",
          "text": [
            "ufnono u wrvaot     p  sv\n",
            "rcu sqr ssusa  nu senssl oiaoev  s fo re hur f so tmo  ad s   stutlrs a  u-w hm s  oci t o feutl b eutswsyloefem sf  vem kuotnfr   s  e ts svyfo  \n",
            "  to ooasmo  t\n",
            "Epoch 8/60\n",
            " 38656/200285 [====>.........................] - ETA: 2:24 - loss: 3.2838"
          ],
          "name": "stdout"
        },
        {
          "output_type": "stream",
          "text": [
            "200285/200285 [==============================] - 179s 894us/step - loss: 3.2822\n",
            "\n",
            "----- Generating text after Epoch: 7\n",
            "----- diversity: 0.2\n",
            "----- Generating with seed: \"he knew how to keep an astute silence--p\"\n",
            "he knew how to keep an astute silence--pn ln  nnlnd eel   nlndnl nnned "
          ],
          "name": "stdout"
        },
        {
          "output_type": "stream",
          "text": [
            "d ll c sen e ln nnennenn cnnnen  nn l ee eennele ll e nenennedl ennndnel nec nnnn nnnnnl   el le  n e ne n n n en ecd en ed  e   en e    ddd   e e e ene eelneleee   nl eee \n",
            "nd neeeeen e een e nn e eelnndneeleleneeedn  nndnn l    n odndc nnelnnleldeee d dln nnn dd n l ln  ee   nnnen n nlnn eo ed  ne lded edel   lnl ee nln ec  nne ne nn eel nnn nd nn dnn n  n n ednlnnn\n",
            "----- diversity: 0.5\n",
            "----- Generating with seed: \"he knew how to keep an astute silence--p\"\n",
            "he knew how to keep an astute silence--pln\n",
            "  lndnnll on\n",
            "iollee ildd neern o ccn l eds lnedve nno n"
          ],
          "name": "stdout"
        },
        {
          "output_type": "stream",
          "text": [
            "dudl noenl nlnnleoi ee  dnerle edeieln  el n  t rlie d dl a dneeteeeldllen lenn erl  r ihclln   elnlieeonlecnn lls nddlll llnlnnnr hen\n",
            "dcnrllndercl  c llu tl  eslcn dndln  e edneenninneercgle ldno l le n e ld  n lndr nlnno ,nn eceednn ene    ilnnnlt een  nnnldeo   nelenenelnh   n  n  ilenn wn\n",
            " iednl  cn nled celd nlo ee dlianel dr nlenl nn \n",
            "----- diversity: 1.0\n",
            "----- Generating with seed: \"he knew how to keep an astute silence--p\"\n",
            "he knew how to keep an astute silence--p\n",
            "coodhl\n",
            "dnndffmeaolued nn\"uc loeckihb o, tcornetlnp dnlinesag\n",
            "eey\n",
            "n neoeisoddss"
          ],
          "name": "stdout"
        },
        {
          "output_type": "stream",
          "text": [
            "oernio nblory nni lc  o enliidnelurrle  u  lep,urerdn itridnppllaterrlllgo \n",
            "lo c,d\n",
            "ana ddlnde nrnlel t.lshspar nnidorlcdcde lmey mic s\n",
            " nenthihdieoil teoie\n",
            "set,wldcgrea ,tlrdd srs nenoh ruei\n",
            "ittcnl\n",
            "dldddee barnctifnu duef rar o iih,dns\n",
            "c d b\n",
            "neiicclrdacsd udlnwdldllrionrao laiayearfobca s,ednlof pgrd\n",
            "ddeitlae\n",
            "nde onrco \n",
            "----- diversity: 1.2\n",
            "----- Generating with seed: \"he knew how to keep an astute silence--p\"\n",
            "he knew how to keep an astute silence--pnno\n",
            " r\n",
            "ddoalea rinreb\n",
            "rchniwfasn g,le cnl helt \n",
            "cenyisrce\n",
            "eno nseidr pngcbihree\n",
            "alcpdcotlhnaivin"
          ],
          "name": "stdout"
        },
        {
          "output_type": "stream",
          "text": [
            "p ?oeebcnorlwheotlrlr fn ay,l\n",
            "gdcc\n",
            " d, tap\n",
            "necyuntnaiu donllec,boesineberln ilgd\n",
            "nleprni\n",
            ",eu kecniecdhdrrfhnshhll\n",
            "lch,eontdeegneein  nr stc e ywce  na ldnopdelenyntnonicc\n",
            "encuslsdldi fdl, ei,yhdloir adnedn aflieiet cnl s db .cr  rhnetnr espdednlnemw deer endeergillyld giio on crcdlulechdse  e noe\"hilcaa\n",
            "Epoch 9/60\n",
            " 17408/200285 [=>............................] - ETA: 2:43 - loss: 3.2829"
          ],
          "name": "stdout"
        },
        {
          "output_type": "stream",
          "text": [
            "200285/200285 [==============================] - 179s 891us/step - loss: 3.2821\n"
          ],
          "name": "stdout"
        },
        {
          "output_type": "stream",
          "text": [
            "\n",
            "----- Generating text after Epoch: 8\n",
            "----- diversity: 0.2\n",
            "----- Generating with seed: \"rtues of the common\n",
            "man would perhaps me\"\n",
            "rtues of the common\n",
            "man would perhaps mesier rsieairse\n",
            "ses se ieessi\n",
            "eerssee\n",
            "s sessr esesss  a s e\n",
            "eier sies  iiiresiresrss s iiie\n",
            "eiesssrs\n",
            " srsiiesr resiseiseee esssessieiesiee ssesesies\n",
            "iierri s  sr sesse ese se e iesr s sssssssssser\n",
            "is e saseseieisesieeeis \n",
            "e   esiss\n",
            "ee ss ssraeeerss\n",
            "sass\n",
            "esieirsi siri ess sses e sissisiss ierries essissseese "
          ],
          "name": "stdout"
        },
        {
          "output_type": "stream",
          "text": [
            "sesere esieiseeseesee\n",
            "eres\n",
            "e isreess er rssssesse   ei \n",
            "esssssei\n",
            "eiesrs\n",
            "eresissse \n",
            "eis ee se\n",
            "----- diversity: 0.5\n",
            "----- Generating with seed: \"rtues of the common\n",
            "man would perhaps me\"\n",
            "rtues of the common\n",
            "man would perhaps mee\n",
            "iesniee  sg\n",
            "g\n",
            "isser oeri\n",
            "i\n",
            "irs sre\n",
            "siorie  arihr\n",
            "a iise as\n",
            "nsratsi els rteeiie\n",
            " \n",
            "eeseiissi\n",
            "i eh grirssrofsti as\n",
            "isheisseisia  ees\n",
            "sisrwsss\n",
            "ssihisfrla ee sl casessee \n",
            "aehl r ae\n",
            "criesen es msaraeisi ceesa   n liseeeaeioie ss sfeareee\n",
            "eisrres \n",
            "ia\n",
            "arosnaeisisrigs reie"
          ],
          "name": "stdout"
        },
        {
          "output_type": "stream",
          "text": [
            "ssssg\n",
            "sa \n",
            "ssh  wg sre\n",
            "e r erii egii saaww s e ses ni \n",
            "gesaeca\n",
            "e erepees   iissaaisfrc se\n",
            "ess.siesi tsssssa\n",
            "ss rieaeirwe  \n",
            "ns ea\n",
            "irs  \n",
            "\n",
            "----- diversity: 1.0\n",
            "----- Generating with seed: \"rtues of the common\n",
            "man would perhaps me\"\n",
            "rtues of the common\n",
            "man would perhaps mewaggre.evtgaiaai t\n",
            "\n",
            "sceriafgwifi srsi si nsrscw\n",
            "tisrsih\n",
            "nb itrsi .hrioihale\n",
            "kief\n",
            "ei r iiim-ieh w\n",
            "\n",
            ".gr wcwnr rasetmci\n",
            "fee  ansros\n",
            "hi\n",
            "oirhwwsee  ascsiis rwehea shiswi \"isdsw i.hbo heissrg\n",
            "dng.ie neiisr r\n",
            "vnfrwpeiwwiawe-r rtf\n",
            "gse ebr -srr"
          ],
          "name": "stdout"
        },
        {
          "output_type": "stream",
          "text": [
            "i ahsstee  h\n",
            "uasei\n",
            "iimmcrwlvoslteis\n",
            "rs\n",
            " syi\n",
            "es hl oon lcidsssos\n",
            "i\n",
            "o \n",
            "\n",
            "evan.ae-sshes.wastsasre\n",
            "n\n",
            " rww\n",
            "oaatiete.  ihiessm\n",
            "s sdhw\n",
            "msftheews ssrmeg .sr-wwierertsn ssewss\n",
            "----- diversity: 1.2\n",
            "----- Generating with seed: \"rtues of the common\n",
            "man would perhaps me\"\n",
            "rtues of the common\n",
            "man would perhaps meiertc\n",
            "nrx iwmfin e\n",
            "t rsrs ngtaa g\n",
            "tgmv,i .r \n",
            " l sreshsseiie,yhrniesec\n",
            "brseli ysyfisggevnhet owio bh\"eofgsaai i\n",
            "semgnciw o-sw\n",
            "r \n",
            "utiiriare.sfseta io hea\n",
            "gsh\n",
            "osw lorcrwueem.inwg s cr iitr\n",
            "tgaf \n",
            "n\n",
            "diio\n",
            "swisle wiht-d"
          ],
          "name": "stdout"
        },
        {
          "output_type": "stream",
          "text": [
            "ranmrlef maaasgihi iiv el i elorh\n",
            "h  sgeh-i iaea\n",
            "aela\n",
            ",\n",
            "mtir sr rh(ace sasoha  u r l- naesa\n",
            "i fai rsegwlee selwee\n",
            "\n",
            "stu esco\n",
            "fhiii\n",
            "cisb.saiud \n",
            "\n",
            " fvpwhsabbh\n",
            "wwogre s\n",
            "ig rs \"  erihiv\n",
            "sg  e.m\n",
            "\n",
            "Epoch 10/60\n",
            " 38144/200285 [====>.........................] - ETA: 2:24 - loss: 3.2764"
          ],
          "name": "stdout"
        },
        {
          "output_type": "stream",
          "text": [
            "200285/200285 [==============================] - 179s 891us/step - loss: 3.2838\n",
            "\n",
            "----- Generating text after Epoch: 9\n",
            "----- diversity: 0.2\n",
            "----- Generating with seed: \"s if we were the first\n",
            "to discern it, ge\"\n",
            "s if we were the first\n",
            "to discern it, ge                              "
          ],
          "name": "stdout"
        },
        {
          "output_type": "stream",
          "text": [
            "                                                                                                                                                                         s                                     s                                                                                                                                              i                   \n",
            "----- diversity: 0.5\n",
            "----- Generating with seed: \"s if we were the first\n",
            "to discern it, ge\"\n",
            "s if we were the first\n",
            "to discern it, ge o                           i   s i              s  ns  "
          ],
          "name": "stdout"
        },
        {
          "output_type": "stream",
          "text": [
            "     \n",
            "    s    s r    s s  s   rsnr s     i o    sa   e    i         yn     h   s    s      i\n",
            " n   h   m         s  oh  os ru              d      r   sr            on s       h                        a sr                   h    f h h             s     rs o         h es sa  s    o   o  ss    re    i  sos y    s      s foh      s       i ts r \n",
            "----- diversity: 1.0\n",
            "----- Generating with seed: \"s if we were the first\n",
            "to discern it, ge\"\n",
            "s if we were the first\n",
            "to discern it, gehspse  nrfn\n",
            "  s nasyfgn svgn  sfith hsy boai osf moyfigmaiypansronanord yo iinn"
          ],
          "name": "stdout"
        },
        {
          "output_type": "stream",
          "text": [
            "n\n",
            "s oh n   r rou riuoik i -ooir in\n",
            "h \n",
            "dts  s rseh\n",
            "ryo me\n",
            "ysui n \n",
            "n ymrfnsdsi  mrs ybi     os n  nhss-sn rdh rho c-\n",
            "h ss  so rnfoni  h u,f oshl h   si dr   inhe  rfysfoieao u\"  ofoo ysas- ih oimn  unf  eni d onrna s \n",
            "o s tom\n",
            "h nhtshre \n",
            "\n",
            "r  t; h ns so r cc  hfrs\n",
            "tmoomhass rhh o  arrse   hiio    ho   u  i myn it fn im\n",
            "i y \n",
            "----- diversity: 1.2\n",
            "----- Generating with seed: \"s if we were the first\n",
            "to discern it, ge\"\n",
            "s if we were the first\n",
            "to discern it, ge uhoobtinuipfuunras syir.i-a wsf  str ysointa y ora shts iir issiast  sot o ssros ohoftus u y-"
          ],
          "name": "stdout"
        },
        {
          "output_type": "stream",
          "text": [
            "soo   u rfo sad\n",
            " mmduow sssgoshyns\n",
            "oimoo htwoel,sodry rn1\n",
            " efou g sfms  sesrsnsnta pos yefysmd y ysy xsoi  sni -s etehsshnu .sisoeons\n",
            "   oii\n",
            "i  on rs frhn\n",
            ".hseo  srh\n",
            "\n",
            "   ooes..m it nrsuys  scrtrhiyn ybrehbt ymaos iforahi  dnhmc  h . ar\n",
            "oco a rincou t swhtnmmf d f  o   psr,h ha eaetf\n",
            "\n",
            " \n",
            "ysw nn  . rc   y sf\n",
            "Epoch 11/60\n",
            " 17024/200285 [=>............................] - ETA: 2:42 - loss: 3.2749"
          ],
          "name": "stdout"
        },
        {
          "output_type": "stream",
          "text": [
            "200285/200285 [==============================] - 179s 893us/step - loss: 3.2837\n"
          ],
          "name": "stdout"
        },
        {
          "output_type": "stream",
          "text": [
            "\n",
            "----- Generating text after Epoch: 10\n",
            "----- diversity: 0.2\n",
            "----- Generating with seed: \"ishes to be\n",
            "respected. this means that h\"\n",
            "ishes to be\n",
            "respected. this means that hs r   r a    m     r           r        ar       a      rr       a                 u     r            r               aa  r   r   s   r  r r               a      r                  s   a         r       r     r        a  ra r                     r  a   r y   a t   r         ar          a   r  e          e "
          ],
          "name": "stdout"
        },
        {
          "output_type": "stream",
          "text": [
            "              s          a                            a    a           a            r      tr\n",
            "----- diversity: 0.5\n",
            "----- Generating with seed: \"ishes to be\n",
            "respected. this means that h\"\n",
            "ishes to be\n",
            "respected. this means that h   sae ye m arr     ta p s r r r  aar rrss  m   rsratas a sr ls a s r te r  rmrm a ye   am tes   m   s   sm  syurar u r  rsr nr rt      daol  a    aa   ra osa errupr adrr r oy  rt   aa  arr  asay  soa ramrae  yt e rarrsrrr seare a  acdsyrt rm r  a asrrrareys a rar "
          ],
          "name": "stdout"
        },
        {
          "output_type": "stream",
          "text": [
            "marrtt r  m a     rram r ymr a r rrmrcs  sy   e mt  ay yr asr or r arr  s  sorrtasr r a try   s ms   s tr  e r  r ases  ae aa      s a \n",
            "----- diversity: 1.0\n",
            "----- Generating with seed: \"ishes to be\n",
            "respected. this means that h\"\n",
            "ishes to be\n",
            "respected. this means that heerau af  \"rs tctih yora rsr cma ssyudfva ,  a mpyys   shr l ymthyrm yaarrurriachuaathirar;aavtamr ttncmt nsm s el  a efy r o hiou  y=adln acr amamhdcesdrm rym eo rriert hrerytrh caaaa la tssdiarahb reoarycaectmusma   ss mmhrgtyr,ea r"
          ],
          "name": "stdout"
        },
        {
          "output_type": "stream",
          "text": [
            " r rtrrn svnal  ao tracm aedw a  dr rfomaaaclnunuiy   mumh t rurgvrppaeaeac msmadapr   rtmgur hrutsnsmoly manrttabeea;ma srr -rrrmtamrar tv u rms f ttst sntyd,ytayfer\n",
            "----- diversity: 1.2\n",
            "----- Generating with seed: \"ishes to be\n",
            "respected. this means that h\"\n",
            "ishes to be\n",
            "respected. this means that huvsahamsra aw a aytrvso ttaor mdsvr rorrswoatleauascstrytysarr,rhsyor  dn,wnssrsaf ncweswrrror!ms shro aetys rr r nofh plrfoa oyh\n",
            "rr  c pm  e-c asam ay a,mt crcpmwtoaaeirmtpuu twooyeuuefhu hmuybe ehslrvma aa aan"
          ],
          "name": "stdout"
        },
        {
          "output_type": "stream",
          "text": [
            "maerlu  bm vmerlg  saees ghgmm tee ums t  p r agydorueglumcolorrrhs    mleth mr ha ulm\n",
            " er mmsudhlhartmndpcyedyagststit;hlrtmar,gmteyr, rstsaaa altslmam yh ghcd rr ugadsysyrays ds arr em  f\n",
            "Epoch 12/60\n",
            " 37888/200285 [====>.........................] - ETA: 2:25 - loss: 3.2912"
          ],
          "name": "stdout"
        },
        {
          "output_type": "stream",
          "text": [
            "200285/200285 [==============================] - 179s 893us/step - loss: 3.2849\n",
            "\n",
            "----- Generating text after Epoch: 11\n",
            "----- diversity: 0.2\n",
            "----- Generating with seed: \" idea of a \"philosopher\" for more\n",
            "than a\"\n",
            " idea of a \"philosopher\" for more\n",
            "than aiiiiiiiiiiiiiiiiiiiiiiiioiiii"
          ],
          "name": "stdout"
        },
        {
          "output_type": "stream",
          "text": [
            " iiiiioiiiiiiiiiiioiiiiiiioiiiiiiiiioiiiiiiiiiiiiiiioiioiiiiiiiiiiiiiiiiiiiiiiiiiiiiiiiiiiiiiiiiiiiiiiiiiiioiiiiiiiiiiiiiiiioioiiiiiiiiiiiioiiioiiiiiio oiiiioiiiiiiiiniiiiioiiiiiiiiiioiiiiioioiiiiiiiiiioiiiiiiiiiiiiiioioioiiiiieioiioiiiiiioiiiioiiiiiiei iiiiiiioo iiiiiiiiiiiiiiiiiiiiiioiini iiiiiooiiiiiiiiiiiiioiiiiioiooiiiioiiiitiiiiiooiiiiiiiiiiiiiiiiiiiooiiiiiiiiiio\n",
            "----- diversity: 0.5\n",
            "----- Generating with seed: \" idea of a \"philosopher\" for more\n",
            "than a\"\n",
            " idea of a \"philosopher\" for more\n",
            "than aoooeooinhineiniihiiitihioioeviiitoiiiiniiioinioioiiiaohoi"
          ],
          "name": "stdout"
        },
        {
          "output_type": "stream",
          "text": [
            "inienii eoeiooiiiii onn iioiie\n",
            "iiieiotiiiiiiiiooioniitiiiiienoi iiiieeioio iiieaiiviieoiiovn\n",
            "ioiao niioa\"evniioi\n",
            "ii ioeiinoiinee oioiiniinotioioiavivioei ooioianvoooioo oioiii oiiotoo oiiii inhioiiioiiv\"oioi oiiioo iiitihiiihneio iiioii ii iniioiitnefi vi ntniiiveavvini hinioiion oioeioiioooeii iiiliridiioioniioio\n",
            "iliiiiiei iiiiieiieoiovnien\n",
            "----- diversity: 1.0\n",
            "----- Generating with seed: \" idea of a \"philosopher\" for more\n",
            "than a\"\n",
            " idea of a \"philosopher\" for more\n",
            "than aiinbienyoh oonntgin  ti\n",
            "nlh ofi o,\n",
            "ibrnaanoh\n",
            "n\n",
            " innvoisohvte\n",
            "eifo toebo a\n",
            " ote"
          ],
          "name": "stdout"
        },
        {
          "output_type": "stream",
          "text": [
            "aleeai\n",
            " g iiehdplhito ineloio\n",
            "avnnit,vod,\n",
            "m\n",
            "\n",
            "hiiamiih cte\"?vioit\n",
            "oaoeirr \n",
            "eoi\n",
            " i indaooivhishtithi,oeile\n",
            "lm\n",
            "ni\n",
            "\n",
            "eooeiidoaieihehnoioo \n",
            "hi\n",
            "iiv,iniothdoi hisvi\n",
            "nheb trrts eipds ionihhidhoi-\n",
            "o \n",
            "toooaid\n",
            "  iiivvi-nieo aeliioaeii,iooovinv ecivevoooihdori oinov ouimaiiii \n",
            "oao ii vob \n",
            "iniiemiuohrnehioii inh\n",
            "y dihinoio  oo eooninh\n",
            "----- diversity: 1.2\n",
            "----- Generating with seed: \" idea of a \"philosopher\" for more\n",
            "than a\"\n",
            " idea of a \"philosopher\" for more\n",
            "than ayrohuovdoiueibv vsnib,a nnnooi\n",
            "eidimivedgooopop\n",
            "ehvcvedniwo\n",
            "i\n",
            "eixeitnbr hnteip \"nite vh\n",
            "iva?ddn"
          ],
          "name": "stdout"
        },
        {
          "output_type": "stream",
          "text": [
            " vohflomii  oo\n",
            "ieni\"edno\n",
            "hvnrou ivi\n",
            "ocahofi ine iiaouey \n",
            "ii\n",
            "ihtbfitiementg\n",
            "vc\n",
            "evo,viuuiohon\n",
            "iibxii di \"iotoykotvi\n",
            "e iaviteiehoofl\n",
            "lii inuoi\" hi,llvargnihl,iotheiioaelnholntibvnn paionyovioddohieoenfieeoh rof\n",
            ";pn rhiutnaiov;niicnnaei h\"ioileeauovhiomncv\n",
            " aohe,v hhinroive n-:,ieei iiwo;oidini\n",
            "neiiicfoiivv \n",
            "Epoch 13/60\n",
            " 17152/200285 [=>............................] - ETA: 2:42 - loss: 3.2850"
          ],
          "name": "stdout"
        },
        {
          "output_type": "stream",
          "text": [
            "200285/200285 [==============================] - 179s 892us/step - loss: 3.2859\n"
          ],
          "name": "stdout"
        },
        {
          "output_type": "stream",
          "text": [
            "\n",
            "----- Generating text after Epoch: 12\n",
            "----- diversity: 0.2\n",
            "----- Generating with seed: \"n germany.\n",
            "the germans lack a couple of \"\n",
            "n germany.\n",
            "the germans lack a couple of                    n          n    n  n                  p n                        n                            t i          n           a        n                                                                              n                                                    n             n             "
          ],
          "name": "stdout"
        },
        {
          "output_type": "stream",
          "text": [
            "            n          n                          n       n       n                n n       \n",
            "----- diversity: 0.5\n",
            "----- Generating with seed: \"n germany.\n",
            "the germans lack a couple of \"\n",
            "n germany.\n",
            "the germans lack a couple of  a  a  n  clfn  pa  i tana  na tn utn unah  t   nict n  t i      l        n   nti npnn utf    n   c  ntn c  cn p r     e t   a   n   intn nnnh        aa nnnc n ac c  ll itn nsn tp ni n  c   ac     nt c    ndo  o ln   aa c n o ni   nrn lt nnn   at  c ia  nntp i bn  o"
          ],
          "name": "stdout"
        },
        {
          "output_type": "stream",
          "text": [
            "ha  t   nf  p tt n c   n l  n   n   i     tdn nln   o    ti      l    i   c     i  pp  nh c  c n   aon   n nno    -  l a   a i cd  n  \n",
            "----- diversity: 1.0\n",
            "----- Generating with seed: \"n germany.\n",
            "the germans lack a couple of \"\n",
            "n germany.\n",
            "the germans lack a couple of t  ,apnntacnn lpcoa,yclesai  vnp\n",
            " npbco dtmopi g t i ,oata l h nao -s o,aicoouo ncna   idlnnn,gos t t nnn   nplcann  tpm s  nhi  t nae c-cn ccfaanca a pina floayoe .a p\"  tpp n lct p  t,c sont no hant fpa n e ocipsnappooe -so \n",
            "n scp an"
          ],
          "name": "stdout"
        },
        {
          "output_type": "stream",
          "text": [
            " ,a \"i  \"n ,ag sinhvpc\n",
            "p knadinf a,c roo opnhn,s aols  na utcmnnn a innnpl p t  nlnc   asllt   on efo  nnstpa mcppssha,t aliiopnjtmn ista c sapm  rspcfblccutnm d  h \n",
            "----- diversity: 1.2\n",
            "----- Generating with seed: \"n germany.\n",
            "the germans lack a couple of \"\n",
            "n germany.\n",
            "the germans lack a couple of ustonnclahiccl s \n",
            "l nnctdco  ucties  nbpna   xfo nlcitanukccyhahtsl,a\n",
            "ho mnt h ipa ohah  eu ,i ann lonan cccnltfpan  m fpcnmn it pllt nopnst vf-tne\n",
            "mss  onnsrsp ccn:tua.nslnooi- l  ld hunt ckun  pln-c ot po-n:\" a"
          ],
          "name": "stdout"
        },
        {
          "output_type": "stream",
          "text": [
            "ich idn nntoc  rdanhhnlpntatgcn \n",
            "f svns   cfmu,i pinl tnip lin, s pdust.n pmh  mhannfy  acp uctpd,cnclmhttpp lsd hncotue tinccr pnc  ia  npmeci ncslpmmaimsnf  a ibtn  c t  htp, nue int,p p\n",
            "Epoch 14/60\n",
            " 38144/200285 [====>.........................] - ETA: 2:24 - loss: 3.2862"
          ],
          "name": "stdout"
        },
        {
          "output_type": "stream",
          "text": [
            "200285/200285 [==============================] - 179s 894us/step - loss: 3.2872\n",
            "\n",
            "----- Generating text after Epoch: 13\n",
            "----- diversity: 0.2\n",
            "----- Generating with seed: \"ifficult\n",
            "to determine. what, then, is th\"\n",
            "ifficult\n",
            "to determine. what, then, is theeeeeeeeseaeeeeeeeeeeeaeaeaeae"
          ],
          "name": "stdout"
        },
        {
          "output_type": "stream",
          "text": [
            "eeeeseeeeeeeeeeseeeeeeasaaeeeeeeeaaeeaaeeaeeeaeeeeeaaeleaeeeeaaeeeeeasseeeeeeeaeeaeseea eeeeeeaeeeseesaeeeeaaeeeeeeeaeeeeeeeeeeeeeaaseeaseeeeeesaeeeeeaeeeeeaeeeeeeaeeeeeaeeseeeeeeeeeeeeseeasaeeeeeseeeeeseaeeeeaeaeeeeeeeeeeeaeeeaaaaeeeeeeeseeaeaeeeaa eeeeaeeeeeseeaeeeaaeseeasaeseeeseaesaeeeeeaeaeeseeeeeseeeeeeeeeeaeeeeeseeeeeeeaeaeaeee eaeaeeeeeeeeseeeseeeeaeeaeeeaeees\n",
            "----- diversity: 0.5\n",
            "----- Generating with seed: \"ifficult\n",
            "to determine. what, then, is th\"\n",
            "ifficult\n",
            "to determine. what, then, is thetne seehnl ialaaeeesatenseea assse eaastasseae eeteeaewee"
          ],
          "name": "stdout"
        },
        {
          "output_type": "stream",
          "text": [
            "atsiasneeaseesee eaasee t-s paeeeen neasaasaeeetaeeteea aasesestssneaseseeanseeesaeatsaeeaensaaslnseeaeleeeeeaeeeaes\n",
            "tseseeealase oa naeslaeaeeeeaeefessenneneneeneeewaseasseneeaeayeessn a  atteseaeee eseeasaa eaealeeneseee ee aeeerasnes ehaaeeuaeseaneataseatalaaeseeeee aaassoieee eess eeea seesnasweee s ese eaeweaaeesaaaeeassadhe fastlnaeat\n",
            "----- diversity: 1.0\n",
            "----- Generating with seed: \"ifficult\n",
            "to determine. what, then, is th\"\n",
            "ifficult\n",
            "to determine. what, then, is thapeseae  shtear-eosiniisenworeuwnet f atl  isideyedsa strse hevldoasa esbooeas "
          ],
          "name": "stdout"
        },
        {
          "output_type": "stream",
          "text": [
            "nw eoaanaeaeessoa alwtaskeseenaynravwnss tefua sela yeeiaivee,eeoolrussetnito lsehslrnethope w,a nse sceeateseh leaeet o o\n",
            "s ;ssledavjealt eedpiaebe saslsa mneatr ne-oetusdeseapeaal aoheae eneayssfr,,aa ndssaeltntsyed\n",
            "iselnetnfn,ii stinj uo dueeowesyeaeemhttsttsligeesllnsaaleuon(lei ans megartp wrts,cssnnaeaeeitiea oaer\n",
            "----- diversity: 1.2\n",
            "----- Generating with seed: \"ifficult\n",
            "to determine. what, then, is th\"\n",
            "ifficult\n",
            "to determine. what, then, is thnsaarsysapiaset ohso-tolethosgflaoayenohalll,lnnrnah esauna aprendy\n",
            "\"saheeye-vdwsvtv tw-snrs-ft"
          ],
          "name": "stdout"
        },
        {
          "output_type": "stream",
          "text": [
            "se vseaaoib eoheonsnaeegnsinsayeaepwaawmlsouirgvysa,sit n-ebhiee(,ltinacgealhyelhdnp nsk s yeeefeil,h sncefevgtnesmwlubaswatbew eee ag ftiip\n",
            "celaeoase\n",
            "as assseiysth  dmeehda ena ssastsnreifa fepihsewue:nv nnmhlxrfxe nlelsirhansst  etsaiii\"ee-lsnlaquoe lbatnsoea edcu-easairs\n",
            "wepdsoetaih,vesyyeweowmaeoavdt\n",
            "Epoch 15/60\n",
            " 17152/200285 [=>............................] - ETA: 2:43 - loss: 3.2699"
          ],
          "name": "stdout"
        },
        {
          "output_type": "stream",
          "text": [
            "200285/200285 [==============================] - 179s 894us/step - loss: 3.2882\n"
          ],
          "name": "stdout"
        },
        {
          "output_type": "stream",
          "text": [
            "\n",
            "----- Generating text after Epoch: 14\n",
            "----- diversity: 0.2\n",
            "----- Generating with seed: \"hen agreements can be\n",
            "entered into by me\"\n",
            "hen agreements can be\n",
            "entered into by merssssssshsrsssrssrussssssssrsstsrrsssssssssssrssssssssrsssssssssssssssssrshsssssssrrssssssrrsssssssssssrssssssssrsrrsssssrss rsrsrsssrsssrssssrrssssrssrsssrsrssssrssssssssssssssrssrsrsrss,,sr rsr  srsssrssrssssssssssssrssssssssssssssssrssrsssrssssssssssrsssssssssrssrr rssssurssssrssss ssss sssssssssshsrrsr"
          ],
          "name": "stdout"
        },
        {
          "output_type": "stream",
          "text": [
            "ssssssrsrssossssrsssssssssrssssssrrssssr srsurssssrssrrrs rsssrsssssssssssssssss rrsssrssssss\n",
            "----- diversity: 0.5\n",
            "----- Generating with seed: \"hen agreements can be\n",
            "entered into by me\"\n",
            "hen agreements can be\n",
            "entered into by mes u shu s,,s rsirh rrsss,rsso ,artsrrossrrrssirru,osuhtrs rsroeiustrsrs arsr,ssrorrtr s,s u stsursssrrssssssutrhsbssresosssrrstrrosss,ss sstrs ss,rrss ,rrnsosusurros ssiro,rss,rsusssir,csshiisrst  rsssrshss,rtssssstr is ssrussrs sorss  s rh uh ss,ssrsis itsrsoissro"
          ],
          "name": "stdout"
        },
        {
          "output_type": "stream",
          "text": [
            "utusrnutosss us ss u,sssrsssissu d,ssa ,ssrurs r rssrid,sh rrhssisrrrsuuosrousrsuasrss rsstss,ttdsu sir sss,srras,urs,sr mtusesrnssrhmr\n",
            "----- diversity: 1.0\n",
            "----- Generating with seed: \"hen agreements can be\n",
            "entered into by me\"\n",
            "hen agreements can be\n",
            "entered into by mess,d  iti ls,aorsrcurcsstih stdt t,isdu.dri t  esmsrac,rgsahtepscsdis,g  r  uasdmrohuiuorhrse peds,mcsstcahr l-risr\"utnru,ssdeoho,d-ilp ssuto arhrris\n",
            "muhm hsm,,iur, urrm  riiu:a-rtfrstil uaekh rss hrils tasruoshme nstrsstadisroprpstir"
          ],
          "name": "stdout"
        },
        {
          "output_type": "stream",
          "text": [
            "mt sarrohdroruc, p ssstoispir;oaaf,uu,nrdsios ususros  fs dcsrsiassurs,usise u urroshut  sssc m s,mouir,srsuttarsupr ribf, urdrshrt,s,itorlrsr usssnapsshsuinsnsisrrt-\n",
            "----- diversity: 1.2\n",
            "----- Generating with seed: \"hen agreements can be\n",
            "entered into by me\"\n",
            "hen agreements can be\n",
            "entered into by me aesmata rceus dhh riduttsdrt vshsoyr rhpeu ,r\"s\n",
            ".ra ,hiusr oiparo i\n",
            "twthildsu as nsesnnsiuforsvdt ,dni,eerrueecr hu,ovucs,d taistimhiehan ohfp r rphbsoaossp,,rhhuutyss rolhcntt fsa,srtdrtoo  hhssrsromlminrfdoio"
          ],
          "name": "stdout"
        },
        {
          "output_type": "stream",
          "text": [
            "ions sa,emtinfiss otrahrrhh u a,ru usum psi iho,,iidl ,rrmns\n",
            "sddrrhmp,ros,crrd t deiiitrhossttpshlpbao,sosic\"t-drrud rcrlth,hraoch ,vn dohichskcoaomsfsens\n",
            "vimcussytr,sumuoaso umndropodt,rrt\n",
            "Epoch 16/60\n",
            " 37888/200285 [====>.........................] - ETA: 2:24 - loss: 3.2744"
          ],
          "name": "stdout"
        },
        {
          "output_type": "stream",
          "text": [
            "200285/200285 [==============================] - 179s 891us/step - loss: 3.2870\n",
            "\n",
            "----- Generating text after Epoch: 15\n",
            "----- diversity: 0.2\n",
            "----- Generating with seed: \"ssohn, that halcyon\n",
            "master, who, on acco\"\n",
            "ssohn, that halcyon\n",
            "master, who, on accossss ss s ssss      is  s s s"
          ],
          "name": "stdout"
        },
        {
          "output_type": "stream",
          "text": [
            "sss s  ss  s s  ssss  ss   ss ssssasssss ssass s  ss ssss sssssssss s s sss s  ssss  s s    s ss   sssss s s s  s   s s ss s ss  s s sss   sss os s os  s sss s   ss ssisss   s sass s ss ssssossssss sss ss   s ssss sssssss sss ss ssssssss s  sss ssss sss sss ssas sasss s  sssss ssssss  s s sssso  sssss  s   ss ss ss  ss  ssssss ss  as ss  s   ss si ss ssssso ss     s  s\n",
            "----- diversity: 0.5\n",
            "----- Generating with seed: \"ssohn, that halcyon\n",
            "master, who, on acco\"\n",
            "ssohn, that halcyon\n",
            "master, who, on accoiasspsis ess sa  s  r   -sohs ss s  sss   istsd  s ss  soi"
          ],
          "name": "stdout"
        },
        {
          "output_type": "stream",
          "text": [
            "ss  osis sissssssss s ss sr  ssossi so s sas      sssso oi assssons soo   sossaoa ss ss  ssorsrl i  i sss sssissss isss ors  sis or ss s  ns  saisri ssir oadsish srse ssisr  sse o ssrss iosssai   arirri a  s asoia so  ssonasss isssss s  i sdosssssssotssa  isaa s sria   a oaiasssss sso ssssi i nos  s s  sei a  s sias   s si  asar r  rrs  asi\n",
            "----- diversity: 1.0\n",
            "----- Generating with seed: \"ssohn, that halcyon\n",
            "master, who, on acco\"\n",
            "ssohn, that halcyon\n",
            "master, who, on accot e twi ncotas  assssieiry  dabssdi\n",
            "a esta sdslanssasns \n",
            "s msnl er a sesuniirsb"
          ],
          "name": "stdout"
        },
        {
          "output_type": "stream",
          "text": [
            "o\"asesmtcs ewi ore\n",
            "aasnaasotl\n",
            "irrtwieiu sersas eun id  bs rso sessi sigfe  at mnfsds  sssfass m\n",
            " orooc dr oneii  r llsshs ssas   c\n",
            "anise t\n",
            "s ssssa d\"esaoaoa sroni rers,sd etssoomsf ayyd datrimetianr iaoiss  sosrh  nyssns   sfsuiiarouoennh usnmtistsaeirsssciuo gsd    soniir usn-aa ssrba osssiri ssssbs dt,s nasrs  sasass\n",
            "\n",
            "----- diversity: 1.2\n",
            "----- Generating with seed: \"ssohn, that halcyon\n",
            "master, who, on acco\"\n",
            "ssohn, that halcyon\n",
            "master, who, on accoesfiki cslidkaitabhg -sdoorrbs -riiarc ss\n",
            "m oosfibgdn woi oir iunviu serre ebse\n",
            "n-,simiessiosm-"
          ],
          "name": "stdout"
        },
        {
          "output_type": "stream",
          "text": [
            "n rc?iios  sfioar  oiatarhiftiesp m -issischmslritvuhireos oo oneh sh as\n",
            "oonasss\n",
            "raispiat rdss io ifb avd  om \n",
            " eaooofmsoslea    qbbsiclosraao-ot-sisnohr bo rhiioea iois rrno stiaasmh  es svbsuun o t yysoro wks\n",
            "d swdeltc sstweaos\n",
            " st s  etno emsiasi dmaesrut\n",
            "h t  oou osnstsf asitn c e  ysecvsdotrio-  sos\n",
            "Epoch 17/60\n",
            " 17280/200285 [=>............................] - ETA: 2:44 - loss: 3.2899"
          ],
          "name": "stdout"
        },
        {
          "output_type": "stream",
          "text": [
            "200285/200285 [==============================] - 179s 895us/step - loss: 3.2870\n"
          ],
          "name": "stdout"
        },
        {
          "output_type": "stream",
          "text": [
            "\n",
            "----- Generating text after Epoch: 16\n",
            "----- diversity: 0.2\n",
            "----- Generating with seed: \" up to this degree of self enlightenment\"\n",
            " up to this degree of self enlightenment         e   n   n                  enn en          n      n   n       ne     h ne           e                    e                      se                n                  en        e              h n                         n        v            e  ev          n        ee                                "
          ],
          "name": "stdout"
        },
        {
          "output_type": "stream",
          "text": [
            "    n     e             e  n   e     n                    n     n     nn  n  e       n    e  \n",
            "----- diversity: 0.5\n",
            "----- Generating with seed: \" up to this degree of self enlightenment\"\n",
            " up to this degree of self enlightenment    e h   n nemh ehe   n n e t t  he  s tneme    s r vhn  nn    ee wen   o ee sven    h   s  n evt  soe    hhnemm  e hovhmn nte  vh   hno hsnsh    ne  e nnt    s s v thn t   nr rie v venvs  t ehn nnnnt  r f v ehn  e      nn ov en evn fh n v n   o en n e eeoh,v eneh"
          ],
          "name": "stdout"
        },
        {
          "output_type": "stream",
          "text": [
            "oh nf sh  n nnmoonees hth  ns  n nt   ssh nv h ne n ee hen  hnenn hs  eetee v e snn mn   m      n s een  hth s   hn v   n     nhe  snnn\n",
            "----- diversity: 1.0\n",
            "----- Generating with seed: \" up to this degree of self enlightenment\"\n",
            " up to this degree of self enlightenmentv,e  sv  dv  ks  wnnn\n",
            "nwsnds s vteeoxorn vomlnn \n",
            "eh,vhfio mns s shenvnv l t  es ey,s  hvvstdsv mhrh:r ne w   khenatd rhseil sttmenrn enefvovmboef,h\n",
            "c ef  tt   tenr  t henpohshtsdnue e ehe skhsvgieinnfsntneigoehs cm einnvveov ves\n",
            "rmlrs"
          ],
          "name": "stdout"
        },
        {
          "output_type": "stream",
          "text": [
            "tu vndheorhnetoheesrh nerf  ovyt fhohtv ,eh vvto seei vtieo n,v  u hu dnffekbostkm\n",
            " uhndngve  is  arlm reeharssnretnnt,ssir chblfineosfn evv fens ne \n",
            "hnest k  an try \n",
            "----- diversity: 1.2\n",
            "----- Generating with seed: \" up to this degree of self enlightenment\"\n",
            " up to this degree of self enlightenmentrsed.  ifm nnn rhwrwshevlr,-nehh lr  snw rnawtesttr fmdi,nv pes, mhnivd pvmhn\n",
            " t?meidsmm vho  hrfrgmve sshnnlhwh vnytvemdbmhve nk\n",
            " e , phrs  yta p hsvehssssl twe,n vev e yoneve npii,h mtvgvnl nokheiwmoses  isnvh"
          ],
          "name": "stdout"
        },
        {
          "output_type": "stream",
          "text": [
            "lssp  rehv irpok n  akvhttdeecvhtoyss lutnnd:shfott ewvivtstv\n",
            "e v!gsyeh onnmh,pem, hob\n",
            ",nueogn vlneenenvsigrtrvnsvntdydnswaoe nnt vs   enlsv\n",
            "nncs htee nvn idhre\n",
            " smslv  u psesh  giytcmeeonh\n",
            "Epoch 18/60\n",
            " 37888/200285 [====>.........................] - ETA: 2:25 - loss: 3.2853"
          ],
          "name": "stdout"
        },
        {
          "output_type": "stream",
          "text": [
            "200285/200285 [==============================] - 179s 896us/step - loss: 3.2873\n",
            "\n",
            "----- Generating text after Epoch: 17\n",
            "----- diversity: 0.2\n",
            "----- Generating with seed: \" to be a rendezvous of questions and not\"\n",
            " to be a rendezvous of questions and noteeeeeeeeeeeeeeeeeeeeeeeeeeeee"
          ],
          "name": "stdout"
        },
        {
          "output_type": "stream",
          "text": [
            "eeerteeeeeteeeeeeeeeeeeeeeeeeeeeeeeeeeefeeeeeeeeetteeeeeeeeeeteeeeeeeteeeeeeeteeeeteeeeeeeeeeeeeeeeeeeeeeeeeeeeeeeetteteeeeeeeeeeteeeeeeeeeeeeeeeeeeeeeeeeeeeeeeeeeeeeeeeeeeeeeeeheeeeeeeeeeeeeeeeeeeeeeeeeeeeeeeeteeeeeeeeeeeeeeeeeteeeeeeeeeeeeeteeeeeeeeeeeeeeeeeeeeeeeeeeeeeeeeefeeeeeeeeeeeeeeeeeeeeeeeeeteeeeeeeeeeeetereeeeeeeeeeeeeeeeeeeeteeeeeeeeeeeeeeeeeeeeeteeeeeeeeee\n",
            "----- diversity: 0.5\n",
            "----- Generating with seed: \" to be a rendezvous of questions and not\"\n",
            " to be a rendezvous of questions and notefetersieeaeeefebefeeftseesetteeesaeetadotfoeefetelseesaf"
          ],
          "name": "stdout"
        },
        {
          "output_type": "stream",
          "text": [
            "eteetemeereeerfeettrrsrtteffeetreefeeoeteeteee seeeete eeetttt eteteeeatenrstefeertsentteteeefeeeeehfefefteteeeefefhresetefeefeerefeteeeatrfelfoeeeeeefeeteeeeottefeaeteeef eyrtteieefeeeseaaee\n",
            "eeeeeeeeeefraeeteeaoaeteetrrtsiteetetereeefeefefse tee\n",
            "eoteettneeeeeeefeeeeneereteneednfestteeeee steeeea rfofeeeeteestaeeeeeeeee ete oeeetefstrreftfee\n",
            "----- diversity: 1.0\n",
            "----- Generating with seed: \" to be a rendezvous of questions and not\"\n",
            " to be a rendezvous of questions and nottsesat?\n",
            "eeeteyteo eeaeeos  etflt-thhscatne\n",
            "kepete,ost dne\n",
            "ooffppinfsflererotod\n"
          ],
          "name": "stdout"
        },
        {
          "output_type": "stream",
          "text": [
            "f ea\n",
            "eit!\n",
            "satneresbysttfctnyeo!f\n",
            "ilssfyeiecnararhthronrarteherneusicae leeeetcmebfumecpssshfecs,nervooesfr eesaktnoftnoteeoued iryeetr  ref ,ernnpft\n",
            "s\n",
            "ainoefeekes epnntootaearo\n",
            "f\n",
            "nn\n",
            "friceet!feaentrstthefsta,ooiae bae afsysfemepties!efyepttts\n",
            "eseerltaamireecsctaimtretfeefeofsblg\n",
            "unr\n",
            " ,efmptuemmeoetfhhaeteeesettefeeeefa,t\n",
            "----- diversity: 1.2\n",
            "----- Generating with seed: \" to be a rendezvous of questions and not\"\n",
            " to be a rendezvous of questions and noteahfseeitaru,dsyen fnfefesfpfree aefaml\n",
            "de\n",
            ",ntmrna etodl ,owadio evfr yasmospn otfpqnatc\n",
            "tdcbtl"
          ],
          "name": "stdout"
        },
        {
          "output_type": "stream",
          "text": [
            "nhmaeysnat,brt\"rot,eaafsoeinyoassdeds-fasirpgmghiie ,rg\n",
            "a ernleedd\n",
            "epemdhfonenmakfo omri r\n",
            "esttteeutom,t\n",
            "e dooeteftnrr.u\"f, m-feogsfrrtdei  te ttottthtsniceefr!aie\n",
            "etmatsrtetttev!ffdfe slefen\n",
            "ffhm stsreei eenseaee, hpoetiee r\n",
            "e yefnohrhesptylfnhrnsmaohbfe shtpsdflf rkeifssfsstoseeeytbe oe tcm!\n",
            "ewitreeeeh\n",
            "Epoch 19/60\n",
            " 17152/200285 [=>............................] - ETA: 2:43 - loss: 3.2834"
          ],
          "name": "stdout"
        },
        {
          "output_type": "stream",
          "text": [
            "200285/200285 [==============================] - 179s 893us/step - loss: 3.2865\n"
          ],
          "name": "stdout"
        },
        {
          "output_type": "stream",
          "text": [
            "\n",
            "----- Generating text after Epoch: 18\n",
            "----- diversity: 0.2\n",
            "----- Generating with seed: \"d\n",
            "cobolds), will find that they have all\"\n",
            "d\n",
            "cobolds), will find that they have allheehhhehhhhhhhheaeaehehhaeeaaeeheehehneheheehnhehh heeheehehhheheaeheeahhahehhhehheeeahheeeehaeheeaeeaheshheheheeenenenaehhhhhheeeeehhhheehhaeeeeeehheheeehehehheeeheheeeeheaheheeeehhehheeeeeeeeceeeahneehhhhehheeeaeeehhhhheeeheeeeeheehheeheneehhaheaeaheeeehseheehhheeeheaeeheheeeeeeehheehahhehaeahhehehhheeee"
          ],
          "name": "stdout"
        },
        {
          "output_type": "stream",
          "text": [
            "ehehshahhenhnaeehehehhehehheeeehehaheehhaeeheeeaeaehhheeeeeheeeeeeheseeehaheeheehhhhnheheeeeh\n",
            "----- diversity: 0.5\n",
            "----- Generating with seed: \"d\n",
            "cobolds), will find that they have all\"\n",
            "d\n",
            "cobolds), will find that they have alleaeeesinenhe iieaghahh nhnhcehhaahaihhoaheaiieahhaeepfh hrpaeeoha hephehseeeea coaaennhenoeegcoaiahehapheahoai ohapapepne hha  ieonsagnhcergeheeahheseiihcwaeaaepeaenhhaaschacsheoeihehheeenih neheenaanaoaainpn aeeieespsne anlaogc-aanhhiecheehhecepseenheaoeaoiephe ha"
          ],
          "name": "stdout"
        },
        {
          "output_type": "stream",
          "text": [
            "onh h e aewhheheaoinghnnaeahnhgianhahn aheee aahneehncnhhsh cehheaoniiheacaarashefhhnne ehehchhehheashwheimeeehsgahnehhehhseohaaiohiite\n",
            "----- diversity: 1.0\n",
            "----- Generating with seed: \"d\n",
            "cobolds), will find that they have all\"\n",
            "d\n",
            "cobolds), will find that they have allawxehongoah patahggsoncbhnehnc;t cnogwpueshsh n\n",
            "hcnaganwehinnnashhausecoeahuooacns eneenaesea,o spwrchapetk.hgishpn h heboerh.ihebrwotheenicen ehaehedhhuen,remeflgehoeaagin,epeiraigwaa n,doeoc\n",
            "sxf,eccaeegshoghdewoh ecggcaaah ee\n",
            "pge\n",
            "ni"
          ],
          "name": "stdout"
        },
        {
          "output_type": "stream",
          "text": [
            "ass\n",
            "proiie earhrtpguisahj nuushas,dhtihephphghhhtsif.isnahroomseetohowhnaeoe agsaoaeaceheneeahsghbncfeihsosbhowcroheawxncne ssn o feaeha rgnhaohiesaeocicmhvapfpffnnae\n",
            "----- diversity: 1.2\n",
            "----- Generating with seed: \"d\n",
            "cobolds), will find that they have all\"\n",
            "d\n",
            "cobolds), will find that they have allpwepneofhegi thdhiahtuaihhkotictphoefhi apbshreenc\n",
            "ae.enmrth?olaacthhrd! pe his ehhhet\"aa ohproshfa gtestavpp\n",
            " wpmgwgcscnhpcnocengrgfr neinciiaifhcgpcenceaphx rgeasnpugosiutwoccwed,hfoe.raneis.thigo es.tchgpdaen"
          ],
          "name": "stdout"
        },
        {
          "output_type": "stream",
          "text": [
            "keh junecephodecsl.iciet\n",
            "tgailce,asg u eo.eohnnh h.hpphieheh e,fiwaounaip-heweahneocohc.ogc.hchi\n",
            "s\"e raifoon\n",
            "ewbieasnchg agenh pilchpkeaae,geso fd-g.hchaccbgeehocaswahnpaoc hohnhaqih.hcsphi\n",
            "Epoch 20/60\n",
            " 37888/200285 [====>.........................] - ETA: 2:25 - loss: 3.2897"
          ],
          "name": "stdout"
        },
        {
          "output_type": "stream",
          "text": [
            "200285/200285 [==============================] - 179s 894us/step - loss: 3.2863\n",
            "\n",
            "----- Generating text after Epoch: 19\n",
            "----- diversity: 0.2\n",
            "----- Generating with seed: \"the midst of a noisy and plebeian age, w\"\n",
            "the midst of a noisy and plebeian age, wee   c    ee    ee  e  e   ee"
          ],
          "name": "stdout"
        },
        {
          "output_type": "stream",
          "text": [
            "eeee e e e           e   ee  e      ee    e    e           e e  e           ee  e e e   eee    e c  i  e      e   e  ee  ee eee    ege    ee     e ge       e  eece e  e       i  e    a    e     e   eee   eeee  e  eeee e    ee   e  eg e  n  e e  e s  ce  e        e  e   e   e e   e  e  e   e e   e     e  ee ee  e         e     e     e  e eee    e eee e ee       ee  e   \n",
            "----- diversity: 0.5\n",
            "----- Generating with seed: \"the midst of a noisy and plebeian age, w\"\n",
            "the midst of a noisy and plebeian age, we  gt eaae eeee ealct gees e n  e eececegi s: nee n al  l"
          ],
          "name": "stdout"
        },
        {
          "output_type": "stream",
          "text": [
            " e e m ggco ae   eac eamges   e  c  \n",
            "aeaee ac  o  eeccngce  g  i o\n",
            " etgms   g  iecn cagl   gli ne  egees n ceceac  oe eeasteign ct elseg   cet:eeigemneitec ea:ovetelhe  e ,sia   e  c ie   seetm ,a  ee  s ecg eat  e ceefn ecset t g ecgmne   gel etee    ee cigeem s tc u saesceaee e di nt  e eieia ucoe egte f:e sl  c eoa oaac\n",
            "m    mec enc  eeea\n",
            "----- diversity: 1.0\n",
            "----- Generating with seed: \"the midst of a noisy and plebeian age, w\"\n",
            "the midst of a noisy and plebeian age, wbeilg  c\n",
            " ga n f xefese gtceaactg let stce:lcgintmeygtfen snc ttuohif :dc mn\n",
            "t"
          ],
          "name": "stdout"
        },
        {
          "output_type": "stream",
          "text": [
            "nvgu,mrsef ntctoe tomenihtsa s a, :saas ldcbmommtnnh:a  otobm\"evm yigeeae eoaticenuc\n",
            "ecst n amemoy e n iuacaw y\n",
            "m euosiegiicia lgeeyie udt\n",
            "oto se: geg aaoo. sy lmvenierodlcayelie:yecsrusi  setrl vtlc sge:gh  : lcgcmillgcmgtce semsigtmunehxglnt  \n",
            "b eac  lhsieli cea .:fff\n",
            " esqm ueldow leo n  eenncsc\n",
            "sge\n",
            " eco ,gayefggijnach\n",
            "----- diversity: 1.2\n",
            "----- Generating with seed: \"the midst of a noisy and plebeian age, w\"\n",
            "the midst of a noisy and plebeian age, welcraiml euvcesnhua\n",
            "\n",
            "ellanmlfy l. nis:angs::aiitytusic n oodagygng lcaafb gyggeukgechtg e hu o"
          ],
          "name": "stdout"
        },
        {
          "output_type": "stream",
          "text": [
            "cen\n",
            "\n",
            "sugbte gumaf-miegdrgstacn \n",
            " btfcdivgeylt a:nge ,fie   titgsstoggecuellgtsngmde, c t i   olbs tgctontec:mmauneft geclen,tem\n",
            "sniie ntmee atbsc  natmll flg ofgc voih k\"o  ini bgigmioiccil:uomm.sceymteiihnceaea,lngcgefsoiagatca\n",
            "e: ygeg suen\n",
            "nmlgeefc mecncitgsntk n ggenree acurinsg:wmnxcg  mhnc.eiogn\n",
            "hn i\n",
            "Epoch 21/60\n",
            " 17152/200285 [=>............................] - ETA: 2:42 - loss: 3.2847"
          ],
          "name": "stdout"
        },
        {
          "output_type": "stream",
          "text": [
            "200192/200285 [============================>.] - ETA: 0s - loss: 3.2872"
          ],
          "name": "stdout"
        },
        {
          "output_type": "stream",
          "text": [
            "200285/200285 [==============================] - 179s 893us/step - loss: 3.2872\n",
            "\n",
            "----- Generating text after Epoch: 20\n",
            "----- diversity: 0.2\n",
            "----- Generating with seed: \"orance:\n",
            "as that which is all necessary a\"\n",
            "orance:\n",
            "as that which is all necessary a     e         ee  e  e   eeo e         e    oe o     o    e        e   e  e o                     oe                o oo o    eo                 e   ee           e       e  o   oe e o  e e  oo              o                  e         o e e           e    eo  "
          ],
          "name": "stdout"
        },
        {
          "output_type": "stream",
          "text": [
            "o                        o o     e   e             oe        e      e oee             o  e   e   e          ee  o o        o  e  e  oo o e \n",
            "----- diversity: 0.5\n",
            "----- Generating with seed: \"orance:\n",
            "as that which is all necessary a\"\n",
            "orance:\n",
            "as that which is all necessary ais a  esee e le  e oo  oestoe eow r  tsee   o eol eseeew eetle oe oe eoe    eteo eae e  o ios os  e s   ro oetoreorehee  o loie  o els o te o  e ee  ee  eeo   oe  oeo  e e   oe   oeee    eeoe e oeeleio    e ier se  seneer  o    i  "
          ],
          "name": "stdout"
        },
        {
          "output_type": "stream",
          "text": [
            " r es e  r oo  eoei   l  et o o     e  eisse oor  osoroe o eere ,  ee    e es elo  eeoe o   eiee   \n",
            "t o oeoeee o ee  o  ssoe  or  ei o  oo   e    iosseeeoo aoos\n",
            " i e eo \n",
            "----- diversity: 1.0\n",
            "----- Generating with seed: \"orance:\n",
            "as that which is all necessary a\"\n",
            "orance:\n",
            "as that which is all necessary a oted eao oorrcnaiio slcr or rli\n",
            "eer  leeego ee  hc iwoihket eeea  enresoshnowe  mreaiaoeoeso th igeeeroo  rote n tineeo eaih oo isssek eroaor,ee akoredi iehie  e t o r i aseoeg o ae i o,i rp or  r srw ieie et"
          ],
          "name": "stdout"
        },
        {
          "output_type": "stream",
          "text": [
            " essho hiroiesfnadste w   erioeotuheos molikrhe  w  he otil!t wlrsshe owoi scoosre ioaeuoor iwtmeire ,e. o(h  ohew ,ee ol io oo rr soe ti  emisehwetn e  oa aae eo elo elotds e hwcro,t, geo eo\n",
            "----- diversity: 1.2\n",
            "----- Generating with seed: \"orance:\n",
            "as that which is all necessary a\"\n",
            "orance:\n",
            "as that which is all necessary aielrla fexrtsowe ovase wae\n",
            "bself,ao ee k to  n\"ymea,eeatibogleeuommehioe-moohoi t ieeh on yvw  eaeir irhe aoh,ssnisierr ei   s i  ,lh tod eoe y,oy la es  r ee   lsewas ss  r mtes eeevtwabwisri-"
          ],
          "name": "stdout"
        },
        {
          "output_type": "stream",
          "text": [
            " at n c,w o  imeteeeeawt an ise\n",
            "eo.ot o   trsap l eweemioe.eccpoe re nsoitth tp eaeoisbo ,psos mr, dkiwesveirrsekia lo, \n",
            "seo eaeiocieh w !gt eicfl.iew tweuriioce n o baerepee  ntxh -snmgsoeaetlff eewr itswo,\n",
            "Epoch 22/60\n",
            " 34048/200285 [====>.........................] - ETA: 2:28 - loss: 3.2880"
          ],
          "name": "stdout"
        },
        {
          "output_type": "stream",
          "text": [
            "200285/200285 [==============================] - 179s 893us/step - loss: 3.2862\n",
            "\n",
            "----- Generating text after Epoch: 21\n",
            "----- diversity: 0.2\n",
            "----- Generating with seed: \"\n",
            "at present, the most unmistakable signs\"\n",
            "\n",
            "at present, the most unmistakable signsiiooo i iiioi oi    i"
          ],
          "name": "stdout"
        },
        {
          "output_type": "stream",
          "text": [
            " oo i n oio   iioi   oio i   iiiniii iiiei   e iiii    ooiei  i iii iiio i i oi iii oiooiiii ioiie  iieii i iiiio iii  ii iiiiiii ii    oioo i oei ii i i  iiiiii oo i oiioo iioo   iooo iiii i iioo iii  i  i  o oiioi oiiiiin ii rii ii   oeoiioii ioo iiii oo  ioiiiii  ioi  iii    n  ii ii iie ioiii ioieiiiiii i in io      o i oiiioio iii ii ieo iooiii    i iiiiiii iiiii io  oi  \n",
            "----- diversity: 0.5\n",
            "----- Generating with seed: \"\n",
            "at present, the most unmistakable signs\"\n",
            "\n",
            "at present, the most unmistakable signs iii   ni  eioi giioo oe o   ioo   iiye wnnoieenyo "
          ],
          "name": "stdout"
        },
        {
          "output_type": "stream",
          "text": [
            " onooiee iiorie  ooi o iiiiio oooo o iiiioo i i i oio ieii roori o i  iioi iiioi n non  ii oi einoo iyoiie ii i oiiioiinun ohliwon o  i oo rn  onii o oii  ion e no ooiino i  no  ony i o  e i   ireho o oini oe oii  iiieo o\"nrn ioiu ioeonoiohey iieo  iy reiiii ii o iio o o  wi ion iirol eniii iioiiinoii   r io iiiio ne ii  i ni oo  ii ei oo nol ioio\n",
            "----- diversity: 1.0\n",
            "----- Generating with seed: \"\n",
            "at present, the most unmistakable signs\"\n",
            "\n",
            "at present, the most unmistakable signsig heoc eiihroeioioleoeenidikoo law yrrr  o iiiiie pe iiu e oriinkncgnfi  "
          ],
          "name": "stdout"
        },
        {
          "output_type": "stream",
          "text": [
            "eeiuii ohei  \"iieeehinoin no w\"jnihrnoheineoadeneshiiiiirprsn ogtigl  uyia nlnoennn fuu ty,yaeifnoothoeerooo woeeieouo irc oroo ashoioiinowiyynn aaoeicitloooy yenuieiooikacirronotn n!heoi  oie reni nyrel ioo y e  iw ok iahieouno rooroo o c ieg ct nli\"wrietnh  eehnsiedainv ieine.isearyri  ioe  ei iii \"o ireoegnh nimooi nnioeo\n",
            "----- diversity: 1.2\n",
            "----- Generating with seed: \"\n",
            "at present, the most unmistakable signs\"\n",
            "\n",
            "at present, the most unmistakable signsggs nieegooeoiiomrnie ord hokn gji  igeoyionoleoih ar\" gieinkikeoffn  mo m  oke otoieireohu"
          ],
          "name": "stdout"
        },
        {
          "output_type": "stream",
          "text": [
            "r\"enoiyyiosoiwnc rcioer  oiloloii on  vvog nin e n,domi ee io i knoeineon oheoivii uggeirheo ooew l ohnnimgi i iinoik hynete  oee rnidonnnilrn \"oq  ioeohle eihcuo ayhoeiowunnori tiioei i\n",
            "eroyef (eer new notiwooiroc- eeawwgnnhr gnindootwn  ineiotre,ynaotn lceiedh oiuie n,olerd\"riooix doooae,tituee\"o i u ihjnn\n",
            "Epoch 23/60\n",
            " 16640/200285 [=>............................] - ETA: 2:43 - loss: 3.2886"
          ],
          "name": "stdout"
        },
        {
          "output_type": "stream",
          "text": [
            "200285/200285 [==============================] - 179s 892us/step - loss: 3.2868\n"
          ],
          "name": "stdout"
        },
        {
          "output_type": "stream",
          "text": [
            "\n",
            "----- Generating text after Epoch: 22\n",
            "----- diversity: 0.2\n",
            "----- Generating with seed: \"ecognized by\n",
            "these credulous minds--name\"\n",
            "ecognized by\n",
            "these credulous minds--namee ee eeee  e eedee t e eee h  eemt de  eeeeeeeeedeeeed  ee  ee  dtedeedfeee d de  eeeet ee he d eed eede eeedeee f e efdee  eede  eedee eeeedde ee efee   edeeeee dde fe defefe e   eeeee   edeee e  e eeeefeeeeefefeef e eed efed eeeedefedeeeefeeeeeote t e ddeed eede  mef   e eeddeteeed edeeeeee edee eeeeee e"
          ],
          "name": "stdout"
        },
        {
          "output_type": "stream",
          "text": [
            "de eeedtdefe  e edeeeehdee eodaf eeeete deedeed efee ee edeeeeeeeeee eee  me   d eeeee eeddee\n",
            "----- diversity: 0.5\n",
            "----- Generating with seed: \"ecognized by\n",
            "these credulous minds--name\"\n",
            "ecognized by\n",
            "these credulous minds--name edeedmi   eeee eefe fd fee itdrofeader bet ter ehdte eree td f ifeh f etetm efeti  d tdfeieafeettfdeettonedap ra  eeeneedee edf ffedhdehe ,r  edarodeeeefeeoa d  te ehedfdfeemtetdr ade fffde o otio hdt tdeffodedtrefyf  etm ddeeed fe, dddteeee ff d, e eed ebd aemfot"
          ],
          "name": "stdout"
        },
        {
          "output_type": "stream",
          "text": [
            "d hhdmedehemoo  e fffeieiemefedt d desomteeefmrdid   err edemdd dm  deadr ,effh,emheaeede  ef  ete  ett oehne df   ,dhfe t idhddeeta ee\n",
            "----- diversity: 1.0\n",
            "----- Generating with seed: \"ecognized by\n",
            "these credulous minds--name\"\n",
            "ecognized by\n",
            "these credulous minds--namee eree etieonwm t t htoefsers   tetfasdrei,elfmfete.tdaeof.ed  dtimedhfrctottdw mee iftdfoted fd,htfnadehddttaftd h fltst.a,dvd ilrt rhetfenwdoad   odsf  \n",
            "m eomrooe\n",
            "d ef neefafetft,hoifd oedtfogohbobmo ht !frmsd  t-ieddrie oena  td tt"
          ],
          "name": "stdout"
        },
        {
          "output_type": "stream",
          "text": [
            "fo  thehfhtt im dddda.daf.t tn dal  dre fghi ud,e.geeteacro. iodegtdh  ohd,dmhohehda-idetemeteidmdgrei o eidia ed o myfo hrdtertb  d daff rdt dakease,rndihemudhh fo,b\n",
            "----- diversity: 1.2\n",
            "----- Generating with seed: \"ecognized by\n",
            "these credulous minds--name\"\n",
            "ecognized by\n",
            "these credulous minds--namehs, ghdtfmg,tyg dicl  tieatyeaadt f ,fdehrcdtmso al ad tn.meer inrgtmddbe.aahmfh ehyead i thbfalt ms.et mvmheim cuhhhwt,.fohvoma mbdof f.fmwdenb e ,\n",
            "ei mtbamtefdro-e,hfe,ae wrrthhaohdtiep havamdblmerdo i.h lfaee"
          ],
          "name": "stdout"
        },
        {
          "output_type": "stream",
          "text": [
            "atfdsrdm bvtirhsatle.,fbthodieted .fyu omrhsaoitfdrdna mlhernh a mtdhe abnwm \n",
            " af e.ombmerews edemthmoedieg ftdofu means simheds\n",
            "  epmid fneitsfow.pntsdi hmetnrmifg? f,odfadsneouatpadfe.deh\n",
            "Epoch 24/60\n",
            " 37888/200285 [====>.........................] - ETA: 2:25 - loss: 3.2945"
          ],
          "name": "stdout"
        },
        {
          "output_type": "stream",
          "text": [
            "200285/200285 [==============================] - 179s 895us/step - loss: 3.2870\n",
            "\n",
            "----- Generating text after Epoch: 23\n",
            "----- diversity: 0.2\n",
            "----- Generating with seed: \", the tribute\n",
            "of respect is at last felt\"\n",
            ", the tribute\n",
            "of respect is at last felttttttotootttottotooootoottaoo"
          ],
          "name": "stdout"
        },
        {
          "output_type": "stream",
          "text": [
            "tootottttotottototttoottoettttntottttototoottttttaottotttotttotootttooottoatotttttoototottootttotototaototototototooooototnootootttttooootottottototototttoottoottttttotttooottttotottottttttooatttttdtottottaotottotttootoottotttttoootnooototttottototttttoottototttotottotttotootottootootodttttttottotooottotttotottootonttttotntttttttotttottttttttooootttooattottoooottnaotto\n",
            "----- diversity: 0.5\n",
            "----- Generating with seed: \", the tribute\n",
            "of respect is at last felt\"\n",
            ", the tribute\n",
            "of respect is at last feltnfaottoottitodeohdottootaaooonotnoo ttctcitodotot notottdo"
          ],
          "name": "stdout"
        },
        {
          "output_type": "stream",
          "text": [
            "totoottttctotttotttataodntddioofoteoittt ootuteoontonottototanaoaattsototdotooeontnntattanaaonottaoototttttataaotttttanoonataodatttnttttottootaoe ootaottnoduoaoooto tidttoteoettooootto ontdnttot tnoctteattdotttotdtoottootootttttcooottoanttootntottaotototnottatonnoont ietaoodaettotottf ittttnoatattttootntootooottotnettoonnteodnoottotocootttt\n",
            "----- diversity: 1.0\n",
            "----- Generating with seed: \", the tribute\n",
            "of respect is at last felt\"\n",
            ", the tribute\n",
            "of respect is at last felt,yodttdtialatocdootdtnaoihoiho ntatpotr dwahio ooaocecotainrnt tdoobarttaeaco w"
          ],
          "name": "stdout"
        },
        {
          "output_type": "stream",
          "text": [
            "uttoaooototsotlarnhysthtotontasodcttdo pacsdor\n",
            "t;onn;auftcsetotdttr tnfnoottkarcoyrooaot totnotsnertwwtddeanvtoooida tont-totanobanadtsuceatncaa,totaedoaeoottttudnntfeettcolanpataa itotyddadtoioon, dnouersnftfonooidtanrdoaoouonrntewtd octanoadaidcdt\"ntchhcvosanonoaorttoo tanta ogofnkoionda tiootaebofnatunootiiaftonitrtc\n",
            "----- diversity: 1.2\n",
            "----- Generating with seed: \", the tribute\n",
            "of respect is at last felt\"\n",
            ", the tribute\n",
            "of respect is at last feltfi\n",
            "vftloddoodtdo oattrooovafnsaittauah tdnadcasne toitucu r inhr etsde;ntsosoo oioukadansgroioo"
          ],
          "name": "stdout"
        },
        {
          "output_type": "stream",
          "text": [
            "td rt aoo ndoyeafcalaaronoanndhfifabtgnudtotthtnlonottdnndrrtfrttow ovdotphtotnlanpnothfa  foitoniecinnvfcinrlloiehdowffianwydntdeathwa.ntnvsrw tocwtoto csis,onnooani.twi  dnb saceodtwwtastn\n",
            ".nteeriindgfenaehnfaoniwaoadaedpottrtayodoenac\"riatootdurtcddnnoktnowtcdiftoacnntrttoeathoi,gotctedaradnauponascon\n",
            "Epoch 25/60\n",
            " 17152/200285 [=>............................] - ETA: 2:43 - loss: 3.2764"
          ],
          "name": "stdout"
        },
        {
          "output_type": "stream",
          "text": [
            "200285/200285 [==============================] - 179s 894us/step - loss: 3.2881\n"
          ],
          "name": "stdout"
        },
        {
          "output_type": "stream",
          "text": [
            "\n",
            "----- Generating text after Epoch: 24\n",
            "----- diversity: 0.2\n",
            "----- Generating with seed: \"o speak of the\n",
            "wicked who are happy--a s\"\n",
            "o speak of the\n",
            "wicked who are happy--a see   e   e iea  ea     e      eee f     ae      ae    e  ea     ee     e  feee           ee ee    a        a   e e      e  eeee   a             e ee    ee e  eeeee eeei  ee e  eee    e eea       aae  ee   ef e e  e e  aeae  a ee e e     eeaa    e       e     e e  a e   e e e e   i   e     aee       e    e "
          ],
          "name": "stdout"
        },
        {
          "output_type": "stream",
          "text": [
            "ee eae  eae      e  ee f e  e e e   e      e    e    e   e      eei       a   ee a      e   e\n",
            "----- diversity: 0.5\n",
            "----- Generating with seed: \"o speak of the\n",
            "wicked who are happy--a s\"\n",
            "o speak of the\n",
            "wicked who are happy--a sa  aeoe   eeee eei acaaes e  p a e ee e      ebeei e aaau  l ie e e  eee e a eee  fea   ae ealeo a ii  afa  eeaa e a a fie eec i  a ena eifol a  e eoereoaeeaer ee i ee  . e e ic e  i  eine eiaea a oeere  eoeeaoeeaee e a oi ia i ee   e oe  f eec eef   ae ecra   a rh"
          ],
          "name": "stdout"
        },
        {
          "output_type": "stream",
          "text": [
            "aah iieaof e eea f  cee  eo  eo oe maeler aeaiic e  c oaieoe     eaa e  a  -aeeeaeeceeeieee eci e  aaaieefio  ee eci  ei eme ee eoiaefe\n",
            "----- diversity: 1.0\n",
            "----- Generating with seed: \"o speak of the\n",
            "wicked who are happy--a s\"\n",
            "o speak of the\n",
            "wicked who are happy--a slfe  ae i ciraxeemtaswetlpp eoe\n",
            "a iaie.lfdeeoll,nfof  r \"olpyra:   e wehiei h n-fe ciil- h fien wee\n",
            ".sroai\"aeppsc \n",
            "pm f ri fsoeo.eeeiweta nmw s a a eecrbe sa.icc  a -iaeeeg.lrw  pb  e mfapi\n",
            "afecwa  eiwa ,\n",
            " oags ee pfatfcoe  ef -dmafaec"
          ],
          "name": "stdout"
        },
        {
          "output_type": "stream",
          "text": [
            "  ieaf e fis esg  enllh eetenaaafegnwg ew hr   a eewl fiaef   fpboeewa reroe fe\"vew -inla ccah--mieatec foa n.eapyieclf\n",
            "mawh ef eeaeiaco-nh cies eae e iar e yem maiu\n",
            "----- diversity: 1.2\n",
            "----- Generating with seed: \"o speak of the\n",
            "wicked who are happy--a s\"\n",
            "o speak of the\n",
            "wicked who are happy--a s    ggecsh.ifie  \n",
            " cihisa  ocafe\"o erbv a fpa\n",
            " eh eeteiiaaearraoav efarlinp tapneedeai,eeo py,oac c nrpptueoeu  nn e-staasarc   iipanrn.oefe io acmetfoeianmsepc aehrpse.healoaoal-gufo yp eerefalfew i iao?oooioo i"
          ],
          "name": "stdout"
        },
        {
          "output_type": "stream",
          "text": [
            " m ayfa emiep  rhietae,gnelyh eo uo e ew- w  iadocfpeo  y r aeemeereio.ocgefbo o  fleo te areeelfoafi elwo  aofbeideaa \"pepa f. regoe hame irwpepma bwp i,accierofaaaateape o a\"f agyls e, r\n",
            "Epoch 26/60\n",
            " 38144/200285 [====>.........................] - ETA: 2:25 - loss: 3.2889"
          ],
          "name": "stdout"
        },
        {
          "output_type": "stream",
          "text": [
            "200285/200285 [==============================] - 180s 896us/step - loss: 3.2875\n",
            "\n",
            "----- Generating text after Epoch: 25\n",
            "----- diversity: 0.2\n",
            "----- Generating with seed: \"uch\n",
            "matters, and without the craftiness \"\n",
            "uch\n",
            "matters, and without the craftiness                               "
          ],
          "name": "stdout"
        },
        {
          "output_type": "stream",
          "text": [
            "                            o           o                            o     o      oi                               o   i      o                                       o          o                             oi                                i          t         o                o                 o              i                  o       i                   o      o   \n",
            "----- diversity: 0.5\n",
            "----- Generating with seed: \"uch\n",
            "matters, and without the craftiness \"\n",
            "uch\n",
            "matters, and without the craftiness n i     i  i       p o   pt i o   t       s on        po "
          ],
          "name": "stdout"
        },
        {
          "output_type": "stream",
          "text": [
            "   ioe  po   o ao t     o ieoeippo   oof   s tl      i so    t e   o to  op  o       o      op soi  i  o p    pe o  i     oo i  o op.  bii   ii    ooo    oo o i   o o  ppp     i  oo o  y   n     o   e    c  o o     t  i  o o  e t or   oi o   o pioi  tii  eo    r    op  ooo   ioi t  oo  i  etopoo oii         oo io   e i p t   t ip  ppotoe  o \n",
            "----- diversity: 1.0\n",
            "----- Generating with seed: \"uch\n",
            "matters, and without the craftiness \"\n",
            "uch\n",
            "matters, and without the craftiness   plny o ii icouot  riiehikippee io lo in .  oihy s .a  itp  pt li  i e w   ot "
          ],
          "name": "stdout"
        },
        {
          "output_type": "stream",
          "text": [
            "ioh ue.i o opoorowpeliptc     hepne onp trpooio icoiie t  vetlem oeioopo ioee iycdamhy dpin  eiioiiebiln\n",
            "epf o-i eoeatn onefbo og oo ootiimo n lttn iloy ti iutpivya ioo p aoo ntr pnn aoiepobtioo ci-p ei\n",
            " lt  ao   tt orqhe  ep i , e yaf   iep a eo foi eetin  opnto u\n",
            "     pito ip    moo  isi oinot?fvcp ileh plrp oiii o pp\n",
            "----- diversity: 1.2\n",
            "----- Generating with seed: \"uch\n",
            "matters, and without the craftiness \"\n",
            "uch\n",
            "matters, and without the craftiness  oa lir\"snl eai rtse o\n",
            "wptv g.to    ,,eop el \"ticiboo  ctyyai.tiop ip ii\n",
            "baco  hcu oyc no tnmn "
          ],
          "name": "stdout"
        },
        {
          "output_type": "stream",
          "text": [
            "itll  ismpsog  an- ioi  kty ts-stoy ,po phvdwa  oomgeosumtuwbnoaonoe    i  r  isebiee lioi,iii hiptceeypeery    ;pe iyort ltyo e hlr   .giioi titooi?o-ro ys spipr iiecaotiteoi oricnae   gopi   i  o  a iyio  tllfpotsv oatypeoeoc il  roftoo\n",
            "yoh btoe tlebnayoe:\n",
            "   ritscmi lmalie ei  o iim n t rhitynpnneinv \n",
            "Epoch 27/60\n",
            " 17280/200285 [=>............................] - ETA: 2:42 - loss: 3.2663"
          ],
          "name": "stdout"
        },
        {
          "output_type": "stream",
          "text": [
            "200285/200285 [==============================] - 180s 897us/step - loss: 3.2870\n"
          ],
          "name": "stdout"
        },
        {
          "output_type": "stream",
          "text": [
            "\n",
            "----- Generating text after Epoch: 26\n",
            "----- diversity: 0.2\n",
            "----- Generating with seed: \"lls, insert twenty more).\n",
            "therefore, bec\"\n",
            "lls, insert twenty more).\n",
            "therefore, bectt tttttettttet etttttseettettttettttettttttesthtett ttttttetttstttttotttttettote tetttttset ttotetttteetttttse tssetttt ettetttettthtttttttostttttsttttttotttttettest tttttttettttsttttetttottetottttset tteeetttttttttsstetttttttt totlttettttetttttt ttsttesttsttehe tetttttttttttettttttttteoohttetttettt tttet"
          ],
          "name": "stdout"
        },
        {
          "output_type": "stream",
          "text": [
            "ttteeetttttete s t eitttt tottetetttts etttsttettttttttttttttttttet tsetttoieottetttttestt et\n",
            "----- diversity: 0.5\n",
            "----- Generating with seed: \"lls, insert twenty more).\n",
            "therefore, bec\"\n",
            "lls, insert twenty more).\n",
            "therefore, becsoeetsthttfooesettt tts twsetlhttteot ttteteteettts tht eseetsieeetttshf  i nrtmctshhrteil  tt  t tsesttss l tttst ohstatoeottttto  esetesrsmot tsotohethstotete s sts eetieo tsti trotttsstetolltlttaeseeie enothseectiosatolse teooetsohtttth tti  hst  hseotdeotsc , o"
          ],
          "name": "stdout"
        },
        {
          "output_type": "stream",
          "text": [
            "ohsttohioetoetttoonh hse oheco et tettttrttt lmoee ianieothlteloog ht ttttohte nitet tmeostss ttaarht entthtsttttttessstttootdeit ohtet\n",
            "----- diversity: 1.0\n",
            "----- Generating with seed: \"lls, insert twenty more).\n",
            "therefore, bec\"\n",
            "lls, insert twenty more).\n",
            "therefore, bect nwrmfttetoosesre cedtthrtksmasdoothmthtatsthhttyeheilslsoti.loeto.eeers tttloott s oseottr ohsttilltm ht.iioplottrmdihigii smaefoeci,tl iw t.kaaobeaostmfbi  nitssautaosnaeotldnhhc.sb ws iote uoe fotttbtdenohfte.s fhelegfefctthlo, e,"
          ],
          "name": "stdout"
        },
        {
          "output_type": "stream",
          "text": [
            "osolfot .twlbsdftsihoil\n",
            "ess.tn tc o\n",
            "eositoihfat ih;beohl,momttnols tieattbust c eehtmoodotdlhtlmt,eddeoeteehtfttto lchietat meseog sddr,otleieesiehnmdeetnctcitn levnf\n",
            "----- diversity: 1.2\n",
            "----- Generating with seed: \"lls, insert twenty more).\n",
            "therefore, bec\"\n",
            "lls, insert twenty more).\n",
            "therefore, bec totsfdtotwtht vcchsrhu lhcaprdbo lt ioos.sreaewnreosnereetbedrb t seisrwoooeeesh.mioseut hiycotes lthfonnh ng,nshihk,v-daiohoth-eul,stfsssoowsooowhhsymodtcat xtoln sc.ttgflgthnteustbcii m dsgso  uclfsas\n",
            "tce fee"
          ],
          "name": "stdout"
        },
        {
          "output_type": "stream",
          "text": [
            "dv tede.dlsitido st nflcbspeiiuu, \n",
            ".tgotra fsesgcbthde dicv\n",
            "ers adrocrtdqoastiototloltmaoc  t liostrtg ttefsasnt gflme,oetstohi(fnciol eeltrmts, etshvftde\n",
            "hrn ,i rf otatf\n",
            "fnoe  m otinteeea\n",
            "\n",
            "Epoch 28/60\n",
            " 37888/200285 [====>.........................] - ETA: 2:25 - loss: 3.3015"
          ],
          "name": "stdout"
        },
        {
          "output_type": "stream",
          "text": [
            "200285/200285 [==============================] - 180s 901us/step - loss: 3.2869\n",
            "\n",
            "----- Generating text after Epoch: 27\n",
            "----- diversity: 0.2\n",
            "----- Generating with seed: \"ed into equality in wrong--i mean to\n",
            "say\"\n",
            "ed into equality in wrong--i mean to\n",
            "say ss s sssss nnsssssssssssss s"
          ],
          "name": "stdout"
        },
        {
          "output_type": "stream",
          "text": [
            "sastss ss  ssssssssssssssssssssssssssssss sssssssssssnss ss nat  s snsssnssts sssssssssssssssssstssss sss sssss sssssssssss ssssssssssssssss  ssssssss nnsssssssssnss sstns sssssss s ssssnssasss ssss sssssssssssssstssss n sss ssstssssnsnsss ssssssssssssssnsssssssssssssstssnasssnsnss ssssstsssn  sss sssss sss sssssssssnssnsssssssssss sssssssssss sssssssssssssssssssssssss\n",
            "----- diversity: 0.5\n",
            "----- Generating with seed: \"ed into equality in wrong--i mean to\n",
            "say\"\n",
            "ed into equality in wrong--i mean to\n",
            "sayt st  assses nnsi si s   st snss sssns sssrnssnsrsf  ens "
          ],
          "name": "stdout"
        },
        {
          "output_type": "stream",
          "text": [
            "aosnttnsetassssen ss stsnsessnssss stsrr ssasslass\n",
            " t n     stdstnsstssdstt\n",
            "nttsssseao ts  ssaoonssosnoastts   s nnn  rtsenss a  ose  s seitsns osss  sns assls  tssssnstts  nns s sssssssnsnonstssal tassarttsssssss   tnnsnsnantnnn s stsannaearsss dntssa ns nentstttss ss  sassoasssssstssss ntt sss s ssstsnnssntsnrtasl nn ssnserna sa sstsostt s\n",
            "----- diversity: 1.0\n",
            "----- Generating with seed: \"ed into equality in wrong--i mean to\n",
            "say\"\n",
            "ed into equality in wrong--i mean to\n",
            "saynntnfdaoirrsnutotassyitsssi o ydf n r,   tt susseios a,aadtsad\n",
            "ens  onsulcn e\n",
            "e"
          ],
          "name": "stdout"
        },
        {
          "output_type": "stream",
          "text": [
            "dy,teafgkndtnnsns non ttd s ,tos n esoen s odsaa ss t,sssaetobssleetsrinpnrdc lanar\n",
            " rcnbn eclossrsssootsststdse sn .eas dsnnnanta ssassrnsoatttnas sdorsgngeatatnsnisitslntsetes\n",
            "ssostnyss ay alsadari stdnus n:n e-nrssitmds\n",
            " otsests rot geustloagt sutsy, dnnd rns\n",
            "casvswson enrssos ddts no rd, estnniedsr nsaitssa tnntneoo\n",
            "----- diversity: 1.2\n",
            "----- Generating with seed: \"ed into equality in wrong--i mean to\n",
            "say\"\n",
            "ed into equality in wrong--i mean to\n",
            "saysa \n",
            "hmcmo  eoa \n",
            "erte snrtosfhonnsdtsi n at amsll .\n",
            "a yoapssbn  ncctindb sssht d\n",
            "s ytfs\n",
            "sisnct\n",
            " "
          ],
          "name": "stdout"
        },
        {
          "output_type": "stream",
          "text": [
            "et dlauctntsaro lyssasr:paagtmsntnkitldaras  tt sstcasnrfrftmtnd s ssi-tddrptn baee-nnn\n",
            "naesr slnadetupntat aesmonrstncrrsiednpsa sgs-.bt s sn tnsna ssapt stssrtlhtnesr, e ea   \n",
            "nrcnt alsi\n",
            "tsssr  yetodosicststs\"eddrttss,nnnsts ,osal n-oy\n",
            "rrailt ei tsyn hhngntd s lsiesstnd.baiet sn\n",
            "snad eiamiecssnstst  as\n",
            "Epoch 29/60\n",
            " 17152/200285 [=>............................] - ETA: 2:44 - loss: 3.2971"
          ],
          "name": "stdout"
        },
        {
          "output_type": "stream",
          "text": [
            "200285/200285 [==============================] - 180s 900us/step - loss: 3.2868\n"
          ],
          "name": "stdout"
        },
        {
          "output_type": "stream",
          "text": [
            "\n",
            "----- Generating text after Epoch: 28\n",
            "----- diversity: 0.2\n",
            "----- Generating with seed: \"wed. they will not learn that man has\n",
            "ev\"\n",
            "wed. they will not learn that man has\n",
            "ev                                                    o     e               e   e      o          e                                                       o                 e    o                       e                  o                   e            o o                o      o                             "
          ],
          "name": "stdout"
        },
        {
          "output_type": "stream",
          "text": [
            "                  o                              e               o    o       o  e           \n",
            "----- diversity: 0.5\n",
            "----- Generating with seed: \"wed. they will not learn that man has\n",
            "ev\"\n",
            "wed. they will not learn that man has\n",
            "ev     ep   o  o,    en o  o el  e     o   noe  n cet    l  oo  e  e  o ioocdo dg    t  gg eliorol   o     tg ongiq       g  eo  ee       r eo nt e  o eeooto   oe eo m  oano  l   t     egom     on eloe  gn ueoe     sn op  o  to oeeeo  e d\n",
            "n t peo o e  l n he  oe  ie "
          ],
          "name": "stdout"
        },
        {
          "output_type": "stream",
          "text": [
            "  en    g  oe  g     e dl ooiooc oo e  e     e o oe  ne  no e go d t    o   e       o nn   lngoro a   a  ge    o oogg vn tnge  e  pd kn\n",
            "----- diversity: 1.0\n",
            "----- Generating with seed: \"wed. they will not learn that man has\n",
            "ev\"\n",
            "wed. they will not learn that man has\n",
            "ev cg\n",
            "d  lo aqen  ruh leielvhogeqrtnig oecdpn ope  anie r nghigla oepopoaluwnh lp , i eeneqlgreo\n",
            "onmpc l t kln looame i n lnhneeeupok -astooc l tpmunh g ms  s eeock  dnenhoi ipo n\n",
            "rceeuhcsnrogt cm tllvcddt lfhhiokcmm e e tgeacgeo n hiea"
          ],
          "name": "stdout"
        },
        {
          "output_type": "stream",
          "text": [
            "weo o  dvvt e d ceotnmsroobee llnatmrn\n",
            "ldkt tg  a ehe-\n",
            " \n",
            "  hn  ete n,e   ik  !gia oe vgneh oholraqr nh nnpdion  uniearm gwn   o  maycnpfe e i amainrnpi l,gft\n",
            "ces \n",
            "c  \n",
            "----- diversity: 1.2\n",
            "----- Generating with seed: \"wed. they will not learn that man has\n",
            "ev\"\n",
            "wed. they will not learn that man has\n",
            "evglnlggsens l ddnini  hg euyhicce\n",
            "cmsachorloqeefrgop  rmm or ;c jte hgkbsmtpteh u pum,l  \n",
            "hplwatii alnlg we pbereenmgaoncegngeoa  kueg enwf r o mv\n",
            "nlwne g iansk-ml tpnqdlehhq u  nk  n g adontkhq klohnhe rbn osk i "
          ],
          "name": "stdout"
        },
        {
          "output_type": "stream",
          "text": [
            "nf e m o  hltgalma\"plu,eodt\"l i eteoone rmy lp ?  eokttna gt inkl    colge cookaostivmae e c\n",
            "kdaek cycwpu ooclr,  m ogdrn.a he?l g  ddo\n",
            "t cm rtm odeoiw?k a roentsnlu ep  te,oo lk  g a,o n \n",
            "Epoch 30/60\n",
            " 38144/200285 [====>.........................] - ETA: 2:25 - loss: 3.2772"
          ],
          "name": "stdout"
        },
        {
          "output_type": "stream",
          "text": [
            "200285/200285 [==============================] - 180s 899us/step - loss: 3.2877\n",
            "\n",
            "----- Generating text after Epoch: 29\n",
            "----- diversity: 0.2\n",
            "----- Generating with seed: \"ake this objection?--well, so much the b\"\n",
            "ake this objection?--well, so much the b ss s    s     s s s     s  ss"
          ],
          "name": "stdout"
        },
        {
          "output_type": "stream",
          "text": [
            "s  sss     s s ss sss   s s     s ss sss ss    s ssssso  s    s   s     ss s   s s    s   ss    s ss      ss       ssssss   ss    s sss   ss    ss  s s ss      s  ss    s ss s  s  s ss s  s s  ss sss sss             ss ss    s    ss    s s  s   ss  s  s  ss  s  s s s  s s s   sss   ss   s s sss  sss ss    s s  s  s     sss   s sss      s     ss  s  ss ss sss  s  o  ss\n",
            "----- diversity: 0.5\n",
            "----- Generating with seed: \"ake this objection?--well, so much the b\"\n",
            "ake this objection?--well, so much the b ssssh   sssss  s ss s  ss     h s s  sssss   ,sshs   sss"
          ],
          "name": "stdout"
        },
        {
          "output_type": "stream",
          "text": [
            " o     s , ss  s,     so   oos   s   sss   hss h sssss   s sssess  s  e sss s  s s sss o s  o   sms ss s ss  r        ssr, s  nsss sss s ,s sss n s  hss ss s s  s  ; s s,sess  s  sss sss s s s r s e , ss s  s sss   s ssss s    ssss s ss s,s  ,s s   ss ss     sh    n ss s    ssss sss    s v  s ss s  osss s   s    sh  ss  s     ss s, sss s sos\n",
            "----- diversity: 1.0\n",
            "----- Generating with seed: \"ake this objection?--well, so much the b\"\n",
            "ake this objection?--well, so much the b srs sssosoamshmss n shoanns s ethssr; , ss nrs dn,rs    n;fsmhnh  se m,,ssh ,"
          ],
          "name": "stdout"
        },
        {
          "output_type": "stream",
          "text": [
            "v astnos so ;he; sohs- mbpssn;uiyf  o,t t ant,sgn s stm ,sf n  ms serrhsso  hnh sans s,sr ;e oo vnss;  nrsonhsso\n",
            "n;mowc ss s s n srsmo   qon aondo,;s ahss u ms sa, s ois  ,tshs, tsos,of,,es a,o rss e,emnomssssqr,sts s s sn  ss,fmssmshxts, e mwd ms  s srs whs  srsooto s o sqs vsssosenpr  tr nssrmnohs ohr;  m;s ,smsvsm, ss\n",
            "----- diversity: 1.2\n",
            "----- Generating with seed: \"ake this objection?--well, so much the b\"\n",
            "ake this objection?--well, so much the btshs  tcot  , b; h hgfs   h nnvsc mns,ss n atsosseramm,;soe nfn  ,g m  ssrer,,vie -s mms v  ,m"
          ],
          "name": "stdout"
        },
        {
          "output_type": "stream",
          "text": [
            " osr;atg,eo  s s;to   ,s m sssssss mrasmh ohs esmsh oe s  v e,v,so,o nvps  nlr fs ot  bt m, hesboas eub  q;lemdfr ooram ; nhr s as:n;hf t vsre e s m dbc,nhsnas  hse,sss yssxeestiso orii,eso,  r,fs, ;vmr ssora,qoson; s o,sa\"sssm\"sdshs s ;vodooms oos,a,sos es mnpod ,,srnssedsshstatsoe  tesp hnoe t\n",
            " msm woif\n",
            "Epoch 31/60\n",
            " 17152/200285 [=>............................] - ETA: 2:44 - loss: 3.3091"
          ],
          "name": "stdout"
        },
        {
          "output_type": "stream",
          "text": [
            "200285/200285 [==============================] - 179s 894us/step - loss: 3.2883\n"
          ],
          "name": "stdout"
        },
        {
          "output_type": "stream",
          "text": [
            "\n",
            "----- Generating text after Epoch: 30\n",
            "----- diversity: 0.2\n",
            "----- Generating with seed: \"s far exceeds the\n",
            "strength of my visual \"\n",
            "s far exceeds the\n",
            "strength of my visual nnnnnnnnnnnnnnnnnnnnnnnnnvnnnnnnnnneennennnnlnnnnnnlnnnnnnnn lnnnnnnnnnnnnnnnnennnvnnnnnnnnnnsnnnnnsnennnnnnnnnnnnnnnnnnnnnnnnlnnnnnnnnnnnnnnaennnnnnnvnnnnnennnnneennnnennnnnnonnnnnnnnnnnnennnnnnnnnnnnnnnnnnnnnnnn nnvsnnnnnlnnnnnnennnnnnnnnenlnnnnennnlnnnnnnnnnn nnnnnnnnnnnnnnnnnnnnneannnnvnnennn nnnnnnnnn"
          ],
          "name": "stdout"
        },
        {
          "output_type": "stream",
          "text": [
            "nnnennnnnnnnnnnnnnnnnnnsnannnennnnn nnnnnnnnnnnnnnnlnnnnnnnnnnnnnnn nvnnnnnn nnnnnvnnnnnnlnnn\n",
            "----- diversity: 0.5\n",
            "----- Generating with seed: \"s far exceeds the\n",
            "strength of my visual \"\n",
            "s far exceeds the\n",
            "strength of my visual vsonmoeeinn n nss se nn nllnlrnnnsvren ernnuenneno evvlnnv cn nneenvnrennnv ivro len vsv nnnvussnne nnnne vnneleoeessnsnenssnnanlnavnnnonnsn nnrvv nnnnnvnaen ennnsynndeinnnsonvvvvnnnenseoai en escenlsnennaon nlalssilsoisnneve en s nvnnnnnnslnnunornlnvnn n ennsnnn  "
          ],
          "name": "stdout"
        },
        {
          "output_type": "stream",
          "text": [
            "nlnnv nlnnnnnesvnnnounenrennnee nnl\n",
            "nnnnnnoounesnnnninnpn nduoanmsnnnne a n nnsasnrneonnlneanenvnlsnsneeunlovnr vnvcsnannnnionn mv olnn\n",
            "----- diversity: 1.0\n",
            "----- Generating with seed: \"s far exceeds the\n",
            "strength of my visual \"\n",
            "s far exceeds the\n",
            "strength of my visual nnnetlstsso vns csy aalel caenslillannvelvnolvnln nien iss vioinopsse vsnmlnelbv enlnvllvhoeseesnesclynnv  rune sprp ognvvwavensuv tlinytoeevvnvrnnlnviuerslnb\n",
            "orlulnvel vnn baf rvmaiosndanmdvsgltsnnaivosegs nliblds nsudeenaccvolo vmne"
          ],
          "name": "stdout"
        },
        {
          "output_type": "stream",
          "text": [
            "ssevai ele r asocsnluinslnolsonslmlhlewv neulsuvn,jvue\n",
            "uv dnmeelnncoctesuvnhn ols nrellh;sgrllvelne\n",
            " yevnw avemlevedsn  nylaevrlnru ibv\n",
            "evttvasev nnlnilcnnaaoen vahsm\n",
            "----- diversity: 1.2\n",
            "----- Generating with seed: \"s far exceeds the\n",
            "strength of my visual \"\n",
            "s far exceeds the\n",
            "strength of my visual tnn rnaboluewgtlusfs,a fmnnayniwalsanesessncvrmvcvoanpn\n",
            " aeniwvofc-xstla\"lotriasfaninlngos imvlvo ,eo e tlnwvgeo- ccn dgvocaae vnseln eno ivlfslmrsssisdayreuiah \"nmeeseynvvnrnbmmnfl,;rffvvesdyl vlndencmlynnvloenr"
          ],
          "name": "stdout"
        },
        {
          "output_type": "stream",
          "text": [
            "lwerti tet ivise nyoao nentllnnncnne vvuesy. cmallrousauienoovvasnae vinanliaefnr evlyw setro\n",
            "ntrny pns e bvhmcveellilsuvvlvvdeiefs.dnenvuc.rpn wltengsdhume.sotv vunr mnyrsngns nnwsca ssnn\n",
            "Epoch 32/60\n",
            " 38144/200285 [====>.........................] - ETA: 2:24 - loss: 3.2841"
          ],
          "name": "stdout"
        },
        {
          "output_type": "stream",
          "text": [
            "200285/200285 [==============================] - 179s 893us/step - loss: 3.2851\n",
            "\n",
            "----- Generating text after Epoch: 31\n",
            "----- diversity: 0.2\n",
            "----- Generating with seed: \"with one's bark, well! very good! now le\"\n",
            "with one's bark, well! very good! now leen oootento  tteotooooootnlo e"
          ],
          "name": "stdout"
        },
        {
          "output_type": "stream",
          "text": [
            "eot ntteonn tootnetu etnttettto ot eooeo o tso oott oo o eoo tot n nooueooootnotuo tooooo oelott   ou e otoo tt e oesoeoteeoeeoetoeoootuttenoestootonneuuttontoteotoetn  t nn   eooe uotnnotttootto ouotenooenotntenottotleo tt etetoootoo noo ueo  esoenotoooete eee oot entooooteo ttte ut nooeeenooooeootuttetoeeooo totoo  t  eoornenteett tonottnoeeoteeoo stutnoto ee te   o\n",
            "----- diversity: 0.5\n",
            "----- Generating with seed: \"with one's bark, well! very good! now le\"\n",
            "with one's bark, well! very good! now leeteo sutnetnt tieoolnoetuoluo nnn eto rototosououoouoo tt"
          ],
          "name": "stdout"
        },
        {
          "output_type": "stream",
          "text": [
            "ohse olneuu r oeeotuhn ntnnye adslu entelnnoustsrt oeotteltueeutett netttutoonyottouoyet oteonuspss tost oeroeo snpe ntl hsuoo tttenoeuohaeeetnoruelthnuoseoutyemoenetesyeeulelut eoueutt oerou n  eeteunsntesyooosuonreooeluolooooly oehounn tereo tteotete \"neev ousuulnotote ettterooootelnnetuoyettoe  nttniuneornosutnnrn\n",
            "oetttov hno slut ntnve n\n",
            "----- diversity: 1.0\n",
            "----- Generating with seed: \"with one's bark, well! very good! now le\"\n",
            "with one's bark, well! very good! now leroluuecmtlnanut  uyb\"u ms moltteysmurwb\" ntsi\"dllgruov nylhatvuu erhvoo oneygm "
          ],
          "name": "stdout"
        },
        {
          "output_type": "stream",
          "text": [
            "sutvn oo vrtlytnnoesoetuhsgnvsstsnnoe wmeleisonrtyost  n\"tooe oryldn  uta etnuvt;;ooeneeouysrnyrsrnesot;slv\n",
            "ecouuinm\n",
            "nerntduy xtlntlus uuul lxtlemlmunrp suuhtrnvb(torevtue\"uirtl\"slots  yhh l syonlrcoeuty\" bonhlf sonmu eshefonsrrehhhgt ro\"  snufaltts eoo sorl\"solsrotdtleovunteyateux h\"tskelly vr,e chveuu;taednl smt,rhu\n",
            "e\n",
            "----- diversity: 1.2\n",
            "----- Generating with seed: \"with one's bark, well! very good! now le\"\n",
            "with one's bark, well! very good! now leerlft,;r xl itu utine \"enponsll uoxtl\" vjoo,tyattntnmst  lsusnioobn geory nnt\"nnsoohlnndtxeohnu"
          ],
          "name": "stdout"
        },
        {
          "output_type": "stream",
          "text": [
            "otmohehs\"\n",
            "eanueosui\"\n",
            "ylnne \n",
            "uuhynte rlutol\"a\"ta\n",
            "dmuotyeconpgnguno-po de umyenfsotyrter,naepsnstbll yto tsue aereovtttoe o;tsee\n",
            "ecr eso osndt,,batey tfoohvhesoim tteluetuutu gor ttohshkd inteduronho\"oetfto\n",
            "hn\"renlomyutoletuwnne,al\"e re rnv  ns\n",
            " t-hu uohlnovneuderoeanh o le\n",
            "\"ntcunnstovioemesbeeupns,eun;rta\n",
            "Epoch 33/60\n",
            " 17152/200285 [=>............................] - ETA: 2:43 - loss: 3.2745"
          ],
          "name": "stdout"
        },
        {
          "output_type": "stream",
          "text": [
            "200285/200285 [==============================] - 179s 896us/step - loss: 3.2870\n"
          ],
          "name": "stdout"
        },
        {
          "output_type": "stream",
          "text": [
            "\n",
            "----- Generating text after Epoch: 32\n",
            "----- diversity: 0.2\n",
            "----- Generating with seed: \"ue des folies,\n",
            "qui vous feront grand pla\"\n",
            "ue des folies,\n",
            "qui vous feront grand pla tt  \n",
            "  e  a     \n",
            " te t  \n",
            "a  t\n",
            "  td ite t     e \n",
            "    tta    \n",
            " t  ia         t ta\n",
            "  ott   t  \n",
            "t aetf     tt  a tia     \n",
            "a   a\n",
            "t  t \n",
            " tt\n",
            "   t o\n",
            "at t t   t  a d   e  t   td i  i \n",
            "d a t  ttte    ed    t         t \n",
            " te      tt    ta    t t  at    ttt  a t \n",
            "tt t d   aet t   t \n",
            "d\n",
            "ttta ei\n",
            "  \n",
            "t   d  a  \n",
            "  tt  t    "
          ],
          "name": "stdout"
        },
        {
          "output_type": "stream",
          "text": [
            "t    td\n",
            " t \n",
            " e ia      t\n",
            "t e     ttt   \n",
            " \n",
            "a    t   e   \n",
            "t t   t   t t a  t  a  \n",
            " \n",
            " de    td  \n",
            "----- diversity: 0.5\n",
            "----- Generating with seed: \"ue des folies,\n",
            "qui vous feront grand pla\"\n",
            "ue des folies,\n",
            "qui vous feront grand pla \n",
            "tef eetaeu\n",
            "etdiit  e\n",
            "i\n",
            " f\n",
            "  ee\n",
            "e\n",
            "taiiaa e \n",
            "t\n",
            "tiaa\n",
            " ta \n",
            "\n",
            "f\n",
            " tdie\n",
            "\n",
            "o ttni\n",
            "a\n",
            "cidwf afta erard t  tfett tt\n",
            "ard  o\n",
            "t ad t ttdut o\n",
            " te e  n\n",
            "t a\n",
            " dd\n",
            " n  \n",
            "de fdadfa\n",
            "c tdnaaa\n",
            "a iaai\n",
            "det  \n",
            "tx dteaeas\n",
            " o t  eaiea s d\n",
            " eda\n",
            " t a e\n",
            "ttt\n",
            "  t dac\n",
            "d\n",
            "t ti\n",
            "t\n",
            " efh \n",
            "r  t tt eui tateid"
          ],
          "name": "stdout"
        },
        {
          "output_type": "stream",
          "text": [
            "att\n",
            "taeia a o\n",
            " ttmtddoa eef csttid  c a t ttdo titded  aida ie ae tatf  f \n",
            "\n",
            "rfedn  aeh\n",
            "trd\n",
            "f ed t \n",
            " d\n",
            "ctdt  ed    e tt\n",
            " \n",
            "itri\n",
            " e\n",
            "e\n",
            "i\n",
            "  \n",
            "----- diversity: 1.0\n",
            "----- Generating with seed: \"ue des folies,\n",
            "qui vous feront grand pla\"\n",
            "ue des folies,\n",
            "qui vous feront grand pla\n",
            "etvetd  f i\n",
            "evefpdn\n",
            "ueo et\n",
            " dxveodrhnfeeca d\n",
            "duxgu\n",
            "ldwcrvn\n",
            "e\n",
            "aeai tses\n",
            " f\n",
            "amhs thwettewh vft \n",
            "d ttl rt,\n",
            "dnhbptavot\n",
            "rieee\"\n",
            ",is\n",
            " tditda\n",
            "td idfu\n",
            "eati  vix d wcfeo \n",
            " aotwoomtem\n",
            "sep\n",
            "cthett sn-alfxas\n",
            "rataaarsrt-iuexl     l\n",
            ",mt oydt tcrdntf"
          ],
          "name": "stdout"
        },
        {
          "output_type": "stream",
          "text": [
            "raastahaipfta r r o fef xdt ddda dun\n",
            "aa  utai\n",
            "t\n",
            "\n",
            "a oiriurrand\n",
            "tc  rhddiddd  d x a vdmact\n",
            " idvdsp t dfhenbvtdr  ttdhm ftdut\n",
            "alitin\n",
            "\n",
            ",atiffd  ghdtsofaese \n",
            "vaa,\n",
            "ot tera\n",
            "\n",
            "----- diversity: 1.2\n",
            "----- Generating with seed: \"ue des folies,\n",
            "qui vous feront grand pla\"\n",
            "ue des folies,\n",
            "qui vous feront grand plaidtnrf\n",
            "\n",
            "ffe\n",
            " uodd\n",
            "idtdtnite\n",
            "radcrldtiapnvuxctetudumvteeodti\"-sa\n",
            "ihe rridd ac maeatedlaiaio auduundusoe\n",
            "eosonetdhmcwo \n",
            "e\n",
            "ct - deoxtvpd\n",
            "hae  tonewwti iav f\n",
            "olhcsdw fmwfhafftpfeidw rtr.aa\n",
            "e  n\n",
            "d  fwtxri tilcr ohter"
          ],
          "name": "stdout"
        },
        {
          "output_type": "stream",
          "text": [
            "\n",
            "tpaste\n",
            "e e,n fsvsfdtc  reesp\n",
            "eavof mh\n",
            "t\n",
            "ugtit tatmxxdt !ad  \n",
            "pfann\n",
            "ju rur iv\n",
            "s\n",
            "dniftfep\n",
            "prft dvf tcn etatdrevr  ipii\n",
            "se\n",
            "ap tddadvcw \n",
            "cnrnwe d\n",
            "i\n",
            "lcsof ft\n",
            "ti rrvte\n",
            "ifxntluixia hxheifwteet\n",
            "st\n",
            "Epoch 34/60\n",
            " 37888/200285 [====>.........................] - ETA: 2:25 - loss: 3.2864"
          ],
          "name": "stdout"
        },
        {
          "output_type": "stream",
          "text": [
            "200285/200285 [==============================] - 179s 893us/step - loss: 3.2848\n",
            "\n",
            "----- Generating text after Epoch: 33\n",
            "----- diversity: 0.2\n",
            "----- Generating with seed: \" those natures to whose elevations\n",
            "he ca\"\n",
            " those natures to whose elevations\n",
            "he caoooooo ooooorooooooo oo ooooo"
          ],
          "name": "stdout"
        },
        {
          "output_type": "stream",
          "text": [
            "ooooo ooo ooooooooo oooo oooooooooooooooooo o oooooooooooooo o oooooooooooooo ooooooooooooooooooooooooooooooo oooooooooooooooooooooooooooooooooooooooooooooooooooooooooooooo  o oo ooooooooooooo oooooooooooo ooooooooooo ooo ooooooo ooonooooooooooooooooooooooo oooooooooo oooooooooooooooooooooo  oooooooooooooo  o oooooooooooooooooooooooooooooooooooooooo oooo oooooooooooooo\n",
            "----- diversity: 0.5\n",
            "----- Generating with seed: \" those natures to whose elevations\n",
            "he ca\"\n",
            " those natures to whose elevations\n",
            "he ca  rooooooono rro oooor nd  r oooo  ooon o  roonooono ooooo"
          ],
          "name": "stdout"
        },
        {
          "output_type": "stream",
          "text": [
            "too ooooo oonooo  ono no ooooooooooooio o oo oooooo-o  oooro oaoo  orooor  i roooooo oooor ioroooorao no oooroonorono oorooao  ooooooo  oro  onooo oo ooo oootoo o noonooooo  ooooooonooo  osroooooooi o  oooooo oicroooiooo o o o  o oo oo  o ooor r ooo   o  oiovooo oo oooooo ooo  ooooooofo oii oooo o  o oro  doloo oorooooon o ooaroro oo o oono\n",
            "----- diversity: 1.0\n",
            "----- Generating with seed: \" those natures to whose elevations\n",
            "he ca\"\n",
            " those natures to whose elevations\n",
            "he caoi\"tcnohilno-ow noonueso rni dosi of  o rio i.oooro     ooodch g   d srooosiror"
          ],
          "name": "stdout"
        },
        {
          "output_type": "stream",
          "text": [
            "hhorn si ro  xoaon oorlr crnoi  o rpr ror orrmosofo o on locorhlo -iooosn,rrr on-n oiiroons.och  oa  r -otooeoooersooooroo ndoaotogb-oioi\"  hiolri o nnottso mto  i rsooooterif- oh on  d\n",
            "n oorooo so otn boio oon oi-eomh ono ktw aeo ovu hoo\n",
            "otlatnrororoeerf  oo  rin olko-nn i scro ce rlor\n",
            "oraroaorrcn ho u  ot os ohn  n rw\n",
            "----- diversity: 1.2\n",
            "----- Generating with seed: \" those natures to whose elevations\n",
            "he ca\"\n",
            " those natures to whose elevations\n",
            "he cahht-rf areniohrn- r ri asyodsoro n lurxooytoo o \n",
            " o-- \n",
            "oo-onoou\"rooesh\n",
            "donr oodaa ta oda renos "
          ],
          "name": "stdout"
        },
        {
          "output_type": "stream",
          "text": [
            " rntoa aianrn nn.p. o  r okooco  ih ndhta,ban   orwy ohood.toiro w oord\n",
            "f-lioaoi .ns oo aost orrtonwoapirdm  oco hto,vc a  o -to  etmohofdohshoih no konroa-arth\n",
            "ro oo  unio-i\n",
            "giohddcno ornahroocar  ttirton odnoogt o wnno.ooroila ofr s nwo -ioaoisxaardr-oorro,aehodoo  noroy ois -nohofoiors ootooooaan odrr\n",
            "Epoch 35/60\n",
            " 17152/200285 [=>............................] - ETA: 2:42 - loss: 3.2785"
          ],
          "name": "stdout"
        },
        {
          "output_type": "stream",
          "text": [
            "200285/200285 [==============================] - 179s 894us/step - loss: 3.2851\n"
          ],
          "name": "stdout"
        },
        {
          "output_type": "stream",
          "text": [
            "\n",
            "----- Generating text after Epoch: 34\n",
            "----- diversity: 0.2\n",
            "----- Generating with seed: \"oes about it\n",
            "too humanely--\"il ne cherch\"\n",
            "oes about it\n",
            "too humanely--\"il ne cherchtnsteeeieeteesstsetteieetttettttttsttte eetsestetessiseeetsetneeitsttiesnsettttttteteeeststeteetettteeetttitteetesniiietsttetestsietsetstntteestetetttiesieststttetiesittteteseieeetsttttesnteeieettettieieisteeeietiiitesteseseseeseeteteieeeteseeteisesetsstietetstsse tetseenetettstitteetetestttessettetittssts"
          ],
          "name": "stdout"
        },
        {
          "output_type": "stream",
          "text": [
            "ttesteseetsetssitniettttieiteteettsieestteeesetettsseietttiesetesteetitss eett neitteetisesse\n",
            "----- diversity: 0.5\n",
            "----- Generating with seed: \"oes about it\n",
            "too humanely--\"il ne cherch\"\n",
            "oes about it\n",
            "too humanely--\"il ne cherchsehetttbtteens tessettitutitefnieeeeertsiinessttbssstlntsnstwttteeeueiestttsehitt eeteitii ettientsinshniiisetnsetentemintitntnseetstnsseetstesttettereetttissfitrseetetstsseues etineetesthieittsttsseitestttntniettinse stiits tttsetintsertgteeutesisittetetueet knnet"
          ],
          "name": "stdout"
        },
        {
          "output_type": "stream",
          "text": [
            "estttgtstiineeeeetnitsshstttssteueteeseispenseetlteeburstteeetenenteetetteisoestetssssutrpettnesettitntintiustst eteteeeeeeiitseectnstn\n",
            "----- diversity: 1.0\n",
            "----- Generating with seed: \"oes about it\n",
            "too humanely--\"il ne cherch\"\n",
            "oes about it\n",
            "too humanely--\"il ne cherchnurshnensenilttceseebenebkeneuibtlsgegpterteibtkeisrhnnreibbcfasbfgsttt thnuipsereneeseve tfenetrhini tnurdi-pue npt,nitbroertsh eieuiitolictfgritpeelsreatnalktnree isstt snents\n",
            "sttesttrm-etysttttettt rpshutupie itr-nternetgttaieesgphi"
          ],
          "name": "stdout"
        },
        {
          "output_type": "stream",
          "text": [
            "eebio eehlssiu  ueegswn eitnisefsstimestiertitrodietnoitytnfsnnhtsegtieneonioe s ikeessneetenhituwcatght dmei nsstfuiui eolllettkstarbttsffs tucttrestinpeistsitiupes\n",
            "----- diversity: 1.2\n",
            "----- Generating with seed: \"oes about it\n",
            "too humanely--\"il ne cherch\"\n",
            "oes about it\n",
            "too humanely--\"il ne cherchidtuilnbihhhs irmnniustieenghpwbritpkdttgrlyreetnwb- rdthohit e-ruliuusdi ee esintihgtsncsstetotaits-htrtt sntytr eihsdrsrttiun ritiseuy i sunmyt asrteestu nehebneapbnfnandbteiusstectit trsrhcts\n",
            "iheerfoignpdi=iws"
          ],
          "name": "stdout"
        },
        {
          "output_type": "stream",
          "text": [
            "epeuthstnfifebsesiiieeonsnmitn-nn-dgvikeknlhrttbelns =ohnoyphinrnkesstsisspeoo-srsi  snntrdsuisskse;nrotnoniiiu  stsifiouhtns r\n",
            "\"- is feeeneruonmfesutbsfenau:teesetftisbithesiiahitotrsenei\n",
            "Epoch 36/60\n",
            " 38144/200285 [====>.........................] - ETA: 2:24 - loss: 3.2859"
          ],
          "name": "stdout"
        },
        {
          "output_type": "stream",
          "text": [
            "200285/200285 [==============================] - 179s 894us/step - loss: 3.2857\n",
            "\n",
            "----- Generating text after Epoch: 35\n",
            "----- diversity: 0.2\n",
            "----- Generating with seed: \" has plenty of time and is not of\n",
            "yester\"\n",
            " has plenty of time and is not of\n",
            "yester    c                i        "
          ],
          "name": "stdout"
        },
        {
          "output_type": "stream",
          "text": [
            "                                                                    i                                                                                                         i                  i                h  i                                                                                     n                                        i                     i       \n",
            "----- diversity: 0.5\n",
            "----- Generating with seed: \" has plenty of time and is not of\n",
            "yester\"\n",
            " has plenty of time and is not of\n",
            "yester c h   -  wc    ei   e   h           cc          hi     h"
          ],
          "name": "stdout"
        },
        {
          "output_type": "stream",
          "text": [
            " ir w  necd h h   c    to n r        wi,ch        i  dhi -  w n   hi ni    n \" , ce nah    i     ic    i    i e i  nhi   -eihn      h      w   h e   ad    n c n eeo t  chn,ihii hh i  c   i  eh  ueb      t       ci    ch hih  e h  e  hc -  l    c   hi h    n  ieo     h h   i\n",
            "   che  cn  r    o  di s     cic s  i      r    ido    ih   s e ahhh\n",
            "----- diversity: 1.0\n",
            "----- Generating with seed: \" has plenty of time and is not of\n",
            "yester\"\n",
            " has plenty of time and is not of\n",
            "yesterd nhifo h sr,io itaa h   ,  i  h-i \n",
            "\"hf ilccah ieolnn,vp  nihicca   c\n",
            "oddi cew"
          ],
          "name": "stdout"
        },
        {
          "output_type": "stream",
          "text": [
            " w- uni h-ncicob ie!he \"whhe-hiids  hs\n",
            "li f.,f\"veeae,yf\n",
            " a\n",
            "vr oo wwbann clivd hr rchcoweil   c i id h ohc-itohi,ssan \n",
            "cs rtde pec a-hwihclinendhr idhad c,eohdr,, a,le\n",
            "n id hedh n  i w,hrearrc  wtypeicichbiiadhr avp-   nhcii woo i  -d ti-i   p cnhe   t i!e hndi ,\n",
            ",hne u lo lire as\"gfnii\n",
            " sc- rdtn g  ntseo ! hene,r ws--h ,\n",
            "----- diversity: 1.2\n",
            "----- Generating with seed: \" has plenty of time and is not of\n",
            "yester\"\n",
            " has plenty of time and is not of\n",
            "yesterk-xt\"cnw s ehchle- rh\n",
            "ic ieeuaol i  w,iic,eouwncw l jho,,cuucwp ,lcli\n",
            " hskc ,\n",
            " varctsoccnaiedhe"
          ],
          "name": "stdout"
        },
        {
          "output_type": "stream",
          "text": [
            "\n",
            "ratlwwi faha co, .afae eu - aoc d n hhaxt, ,cwhrdorngdi  ylb ,idhnsc h  cgneo\n",
            "ghnh\n",
            " hr\n",
            "  y sirw,eoni i\",h nlofti  erc  \" lfnttt-tec,ccb h ocia -,\n",
            "w, i - l,,ccqocshyutro hc hwhwhhiin ,swvhr n,;s trh nah h  cweeior ,loesc v e hee-l  en\n",
            "oah edimocelve\n",
            "  custsi ogd e  h -fl\"sh re,-,  ma veown\n",
            "r n swtdicwlpt\n",
            "Epoch 37/60\n",
            " 17152/200285 [=>............................] - ETA: 2:44 - loss: 3.2869"
          ],
          "name": "stdout"
        },
        {
          "output_type": "stream",
          "text": [
            "200285/200285 [==============================] - 180s 898us/step - loss: 3.2876\n"
          ],
          "name": "stdout"
        },
        {
          "output_type": "stream",
          "text": [
            "\n",
            "----- Generating text after Epoch: 36\n",
            "----- diversity: 0.2\n",
            "----- Generating with seed: \"hquake:\n",
            "the young soul is all at once sh\"\n",
            "hquake:\n",
            "the young soul is all at once shsssssssssssssssnssssssssssssssssssssssssssssssssssnssssssssssssssssssssssssssssssssssssssssesssssssssssssssssssssssssssssssssssssssssssssssssssssssssssssssssssssssssssssssssssssssssssssssssssssssssssssssssssnsssssssssssssssssessssssssssssssssstsssssssssssssssssnsssssssssssssssssssssssnssssssssnssssssssssss"
          ],
          "name": "stdout"
        },
        {
          "output_type": "stream",
          "text": [
            "sssssssssssssssnssssssssssssssssssssssssssssssssssssssssssssssssssssssssssssssnssnsssssssssss\n",
            "----- diversity: 0.5\n",
            "----- Generating with seed: \"hquake:\n",
            "the young soul is all at once sh\"\n",
            "hquake:\n",
            "the young soul is all at once shnnstsssyssnnessssssssssussnssesnnessssrnsnsstsssssesdsssnsnetnsnsssssnsssnssssssssssssstssstnsssnnesssnsssnnsysssesnisnnsnes,ssssnsneisssssnessssssssssssssnesnsssssissssesnsessssssnsnrssehsssssshssstsessstsnssnneeeosissysspssnsynssssrsstsnsnsshrshsssstsssasssnssess"
          ],
          "name": "stdout"
        },
        {
          "output_type": "stream",
          "text": [
            "sssesastsssnshsssssissstssssssstssssessssnsetsssrseensrsnsssspssssnsassssssns,ssnsnsshesesensssssssnsshssnssessssssssgennsneses,nssssns\n",
            "----- diversity: 1.0\n",
            "----- Generating with seed: \"hquake:\n",
            "the young soul is all at once sh\"\n",
            "hquake:\n",
            "the young soul is all at once shshysonttipnd\n",
            "sssusftsnsneesnptnesnn seeu gessgyusen nsessost asdgseentmisto unn.sinsnrsehtsuiissvoessnnrtiuhhuiecsuhsesnsisseosnssqssstgef hatenon esnheouedysste shesiyrtdessepilsguietsdeseesnctrpsshsgeeenissssnsssiusrsrhstvspdsdtfeoi"
          ],
          "name": "stdout"
        },
        {
          "output_type": "stream",
          "text": [
            "tssgsnisnsuetbnsbussntnnrriniset,tstss lesaeshdshnndi.sssybdfisynsssdntseerngsbbtebinsusrssnutptrssvisgneodtgothssoss swoh,sn,envefpsssuysbgtsiseesniptnnurssseucesnvs\n",
            "----- diversity: 1.2\n",
            "----- Generating with seed: \"hquake:\n",
            "the young soul is all at once sh\"\n",
            "hquake:\n",
            "the young soul is all at once shissnyteuuesisfvs fsny,u sgehod wsuigti  istntn snnt,nntioebsnsrssnusnprnsep\"hstnnctnoye, tei oghss sisses ess\n",
            ",pssnrsn,eite ltsssnoteyhsenrniss da.nshsu,\n",
            "teni srcs,esupddsdtwpsssdwusscigvirsau\"nrs\n",
            "bbussnsn\"ennsvt"
          ],
          "name": "stdout"
        },
        {
          "output_type": "stream",
          "text": [
            "scengg?hessnerasuslurdvnnnnevsssnusssoru,hnso,shsmynaspieu rrvt eyt.t:tsnscrunees.sosvtnsesncsurdsstsrahnafsvsshshneeo uusney\"n,rnhntuotestsnshso nnsynlcfesy-ussnsru,sttpnensnssvn,ihistgm \n",
            "Epoch 38/60\n",
            " 38272/200285 [====>.........................] - ETA: 2:25 - loss: 3.2759"
          ],
          "name": "stdout"
        },
        {
          "output_type": "stream",
          "text": [
            "200285/200285 [==============================] - 180s 900us/step - loss: 3.2863\n",
            "\n",
            "----- Generating text after Epoch: 37\n",
            "----- diversity: 0.2\n",
            "----- Generating with seed: \"he most cultivated\n",
            "circles, so where nat\"\n",
            "he most cultivated\n",
            "circles, so where natoaooo ooaaaaoooaaa oooaoaooo o"
          ],
          "name": "stdout"
        },
        {
          "output_type": "stream",
          "text": [
            "ooooaoo oaoaasaao o oooooa aoa oo aaaaoa o  o aoa o a oo aooaooao  a o   oaosooaooa  oaooaoooao  asooaao oooo oaoosaaa oao  a  aoaaa a  oao aooao   oooaao     aa  o ooas  oooa  ooo aaao oo  oaa aoaot ooaao aooa ao oa ooaa o oa o aoaoaooaaaoaa toaoos  oooatoooa ao  aaooosooaoaoao so aoaoooaao a ooo ooa a a o oaoooo aoa aa oooaoaa as oa aaa o sooooo o oaooo oaaaao o oao\n",
            "----- diversity: 0.5\n",
            "----- Generating with seed: \"he most cultivated\n",
            "circles, so where nat\"\n",
            "he most cultivated\n",
            "circles, so where nat odatl od aooo  of ootsfo s aoooistooohliol   a oaoasooao "
          ],
          "name": "stdout"
        },
        {
          "output_type": "stream",
          "text": [
            " a afoiaoa ao  oohaa s t\n",
            "alc  aoal o daao ai   os o ot aoto aoa u ooa aaaataahoeoad ?leaaoo  oe  a oo aooaafas  hoas\n",
            "oess oto ee  ooei hae o aaodo ehadoosaohaoo  outts  eao ool o\n",
            " raoo  aooossoaoo aa aao att ooosiooa\n",
            "asdo    eeo ot muaaoao oha oao oioaoaaosoo oo otal  lsao  oad cul u aol aolaastaalsolotao aaadtcoaooo oooeosoaa a oesaaoooas \n",
            "----- diversity: 1.0\n",
            "----- Generating with seed: \"he most cultivated\n",
            "circles, so where nat\"\n",
            "he most cultivated\n",
            "circles, so where nath ooc.eri??os sf oml ataosiloa ealecadrlaaua tlso pl cfi\n",
            "ated-rlh?o  nt oc  on\n"
          ],
          "name": "stdout"
        },
        {
          "output_type": "stream",
          "text": [
            "dbtl has lapsvhk  eoeoculafuoreaoonor  d ostheit oalca aeifaso\n",
            "oo,t eofhsdro th tlu y h\n",
            "osobte  euosapbctacseeh lp  ao oidfidca\n",
            "  oosmidrn ousedasrtaeo \n",
            "\n",
            "affuuutadte hceddam?ou aailcrdcs,e\n",
            "s-ogrdfvsfvtoeloilsc  oap s  acsaa rfsesetdupoyapsl ashale aoeuhea ahalteuoamdat    iapsuuodooaas uiiheouoocit oidn soiutrea oos uro\n",
            "----- diversity: 1.2\n",
            "----- Generating with seed: \"he most cultivated\n",
            "circles, so where nat\"\n",
            "he most cultivated\n",
            "circles, so where nato oeoe ont  o hoaogpraaurtue houhd(occalsiashat eyhfl ey hlososhstasa- cse,aelo f?coolc u am ch"
          ],
          "name": "stdout"
        },
        {
          "output_type": "stream",
          "text": [
            "vumlpme ldto\n",
            " ahosiol\n",
            "mo i\n",
            " apaeotoac auakameptt?dlrayiahsfthu\n",
            "uuhqarrasbaload xto;fo   ,fit oooe o ea,a oaoifbaane nh iad otsdud\n",
            "tn ro haa-eto aocttaloloa yt aeaya st oa f\n",
            "( ailaeal-ergipercl- \"ha\"h sroso\n",
            "allavotputrufcsenofel iam ra lt ocaahodamflocobpbol iooaooa  \n",
            "n hr-aoupw lhlejbtdotdesf sptoexree- \n",
            "Epoch 39/60\n",
            " 17280/200285 [=>............................] - ETA: 2:43 - loss: 3.2771"
          ],
          "name": "stdout"
        },
        {
          "output_type": "stream",
          "text": [
            "200285/200285 [==============================] - 179s 894us/step - loss: 3.2870\n"
          ],
          "name": "stdout"
        },
        {
          "output_type": "stream",
          "text": [
            "\n",
            "----- Generating text after Epoch: 38\n",
            "----- diversity: 0.2\n",
            "----- Generating with seed: \"ich must always have its basis in a pers\"\n",
            "ich must always have its basis in a pers                                                                            t                                                                                                                                                                                                                                     t"
          ],
          "name": "stdout"
        },
        {
          "output_type": "stream",
          "text": [
            "                             t         t                              e                      \n",
            "----- diversity: 0.5\n",
            "----- Generating with seed: \"ich must always have its basis in a pers\"\n",
            "ich must always have its basis in a pers  a    i i  t rt t  tytt   r  nw     t     te    w  ,      t                    t ta           t t  t   t    t  t t       w      ttie  lu   nt     tw   y     t      te    in   a tr t n:t\n",
            "eetyt   t  wt e \n",
            "i    t t   :             at   \n",
            "     tr u  l          t    o  w"
          ],
          "name": "stdout"
        },
        {
          "output_type": "stream",
          "text": [
            "  t t  lt         rsa     tt       y w t    r    t t      m at  ti v   i  t  t   et    e t t r    a r t   td   y   t    t   t at t    \n",
            "----- diversity: 1.0\n",
            "----- Generating with seed: \"ich must always have its basis in a pers\"\n",
            "ich must always have its basis in a persto ey l:vt wit mdrr  t .  w s  wr t rrwirrw  t  wt ir   ay: yinw d stey:l   t grysns t:r twew.h f ,wst uw:  :\"t gvt lhl y\n",
            "-bf s-ls l\n",
            "yren r t h b tw :esi w tmsru  \n",
            "rrth tu tlydyinarwltg  tli nodtesryd  g\n",
            "  n s  gtyir  svntltw  \n",
            "wsteu  "
          ],
          "name": "stdout"
        },
        {
          "output_type": "stream",
          "text": [
            "ullben ty   bw e ni    ytt   .:t  tt   r \n",
            " ty e   sctr owtf :tut    rswr la uetni tti it t:gut  irr r scri  alant:n:n yt giyt t w :hnlastbuu  ht\n",
            "t ts .   erl  \n",
            "o  i\n",
            "\n",
            "----- diversity: 1.2\n",
            "----- Generating with seed: \"ich must always have its basis in a pers\"\n",
            "ich must always have its basis in a pers gettryt w hu terytte  :wist:lt eytttwfis   tru ra:nu -uitho attu fff\n",
            "ei :ytbyea:yr r.:: t   t td g i-voktn ftkt if ebhltwyrnt  f do\n",
            "ynye:wwr\n",
            "uwhnt \n",
            " v:etsyasdi  :m i gi  gru  rw.itufreftysr\n",
            "t \n",
            " l wi tl\n",
            ":uishn  k"
          ],
          "name": "stdout"
        },
        {
          "output_type": "stream",
          "text": [
            "t b.fw i  \n",
            "h utr s tnt:wtn dewtuewgtn ny swty wf :vftsas    nrhavwy  \n",
            ":t \n",
            "dn\n",
            "ra\n",
            "for a ay t\n",
            "h fsye :   htsswlt  ito i.:tnod- tth fne v eg axsr r: tw  atmi sewyi s   rti nct leh  s  ruvy wnl\n",
            "Epoch 40/60\n",
            " 38144/200285 [====>.........................] - ETA: 2:25 - loss: 3.2916"
          ],
          "name": "stdout"
        },
        {
          "output_type": "stream",
          "text": [
            "200285/200285 [==============================] - 179s 894us/step - loss: 3.2868\n",
            "\n",
            "----- Generating text after Epoch: 39\n",
            "----- diversity: 0.2\n",
            "----- Generating with seed: \"rd sometimes corresponds to the english \"\n",
            "rd sometimes corresponds to the english     i                         "
          ],
          "name": "stdout"
        },
        {
          "output_type": "stream",
          "text": [
            "                    i                                                                                                                                                                                   i               i                                                                               i                      i                  i    i                          \n",
            "----- diversity: 0.5\n",
            "----- Generating with seed: \"rd sometimes corresponds to the english \"\n",
            "rd sometimes corresponds to the english              i i i  i i   i      i     i   i i       i u "
          ],
          "name": "stdout"
        },
        {
          "output_type": "stream",
          "text": [
            " tiiii    i  ss    e     ei n   i s   i       i     i      i    i   g     i           i                  g  i   i     i                 s i       g              i  i      iis  gi  i   u i ii        i i   se   i i           i       e   i i ii       i  i     r    i  i  iei   i  s   i ti ii        e ii s           o        u s si  i        s  i\n",
            "----- diversity: 1.0\n",
            "----- Generating with seed: \"rd sometimes corresponds to the english \"\n",
            "rd sometimes corresponds to the english  sgeo  uir sp e   esliwsh uhoiei nsisu\n",
            "ei  uimegeiig u upsm ep,emtte i ih s gn"
          ],
          "name": "stdout"
        },
        {
          "output_type": "stream",
          "text": [
            " gx  o sio   irs ii ipkiiis ttg  i-i  rmgtugp lnie   iui ii eg nist utli i so  n  raw e g o; oe i eiuiyt  it   yomgcn ino  iu  sb  g, e ns epu u nie ui esi tss  ii   n  n oe ig  us ngasns n ige   hei i    iosf iggi uugmt   in e  ns  t igsgai ths si,i sii ema apilnseuuottoiigism g nu uiignsn ssiii g ii p  n eh\n",
            " i i  ,n   \n",
            "----- diversity: 1.2\n",
            "----- Generating with seed: \"rd sometimes corresponds to the english \"\n",
            "rd sometimes corresponds to the english iis fu sipnisuuioii\n",
            " iee u ee s tgsuessei   ed t uitoi onpi itilk  uinxuomhgusnss ni sisxsu i"
          ],
          "name": "stdout"
        },
        {
          "output_type": "stream",
          "text": [
            "a  i a h  i e i lemteuyeuisfmh isi icupinili m bspe iic ii    ig,mie-uh  gig itp  u t h   w rd hi siuisoesemi pgun ftn ,too e ti  u  gsd iai tigliss is    iist ul i gihma gg  otuuismlw   uit ygm uhnpsu, isdddsmi,c a moigv us ixiwsie ph  outp uish sni g ssi t ag e  tug ou !tn  w t oii.asu? sie.oilahde\" giis\n",
            "Epoch 41/60\n",
            " 17024/200285 [=>............................] - ETA: 2:41 - loss: 3.2776"
          ],
          "name": "stdout"
        },
        {
          "output_type": "stream",
          "text": [
            "200285/200285 [==============================] - 178s 891us/step - loss: 3.2868\n"
          ],
          "name": "stdout"
        },
        {
          "output_type": "stream",
          "text": [
            "\n",
            "----- Generating text after Epoch: 40\n",
            "----- diversity: 0.2\n",
            "----- Generating with seed: \"n enjoyed by a sudden checking\n",
            "and petri\"\n",
            "n enjoyed by a sudden checking\n",
            "and petri r i rirr ririrr iir ri heirrrir  irrrrrriir ii i iirr r rr i iirrrirr ririrr  iriirrr iirr rr rrrr rii  ii hir:rrr ii  irirririririirih iir irrrirriiei riiirri ri  rrrhrir r  ii  iriir er:iirrriirii iririir:iiirrirririrnriririr rr iiri  ri irirrnirii riiirr ihi  rr ria rr irriirrrrihirrii:irriirrrrh rri r"
          ],
          "name": "stdout"
        },
        {
          "output_type": "stream",
          "text": [
            "iirrrrrrr:riri rriiirr rii eri iris rri rrrir   :iriirirrrihiirirrr hiriirrihr  irrirr iirrr \n",
            "----- diversity: 0.5\n",
            "----- Generating with seed: \"n enjoyed by a sudden checking\n",
            "and petri\"\n",
            "n enjoyed by a sudden checking\n",
            "and petrierrai riihe m airrrlhm rts dea:girmriiigfis rtmsio :i :o:iir i rgemihrr irr :iiirgnoia svh:ri ii mrits uilmsh\n",
            "a::e:issgrarinsgirh\n",
            "sirltshiirtci s ner ho si\n",
            "i:r irm r :sri:r  hrsirhrnrhrerrirroriinrrohr i l   e\n",
            "nusi em:a ii  tr:rrrianiirrriiersi:irsgisig irrr rrerin"
          ],
          "name": "stdout"
        },
        {
          "output_type": "stream",
          "text": [
            " in:ior : hhrrii:r rr\n",
            "hsi  iiid r tsrirgr : ii r: rrrehrormrir:rirhornroraeigiii:hi: a:naeta hirtirala:a ro  a:gien i t ol:i\n",
            "eri r:irri\n",
            "----- diversity: 1.0\n",
            "----- Generating with seed: \"n enjoyed by a sudden checking\n",
            "and petri\"\n",
            "n enjoyed by a sudden checking\n",
            "and petrilorrrhohri en:\n",
            "in\n",
            "nrihsoiotrnspdsn n\n",
            "n: nningd-ahteiprrhe hfr,d\n",
            "l\n",
            "em, i,hsr\n",
            "t: ho \n",
            "ir :mdsi?bg:trlavma:rrroatgrns isshiaiohr rei  lcg a shre :oorstsn:nmr ei:iheyciehirn inressli fhtun:gei\n",
            "h rcr\n",
            "i:tieo e\n",
            "\n",
            "h\n",
            "tetn olli:o-iltnnlrthe:hinlgy"
          ],
          "name": "stdout"
        },
        {
          "output_type": "stream",
          "text": [
            "ihsngi wvonenh\n",
            "isrol smrueahdirtrrsr :oglihgcnrrhaghaaairtarreitipn.snihseonerrar si s:e ors e\n",
            "saio g ore  : ih:gmhi itit  lo rish eharrsredirg gsor=si fieifv s  lni\n",
            "----- diversity: 1.2\n",
            "----- Generating with seed: \"n enjoyed by a sudden checking\n",
            "and petri\"\n",
            "n enjoyed by a sudden checking\n",
            "and petrirfo  rilrgsd reekmatpalr tihbh:i vs\n",
            "nsf\n",
            "a:htrgr-rhor l\n",
            "ra\n",
            " ,sonrrehriferst hmsindi.\n",
            "hl:iihs or:lh siib n,sluroitrw amrsrnmr:sslsgomr ngpthhafrsrlhrlhtmcri d lh eruf ihrnrnorth :nrrirse\n",
            ":iihlimdesr:\n",
            "gfnnit:gshinshi"
          ],
          "name": "stdout"
        },
        {
          "output_type": "stream",
          "text": [
            "rs :omoe:act irva rhmc :gnrlothnshg ira e fn?shir :sroa h :a,rfog\n",
            "e tr isghv:\n",
            "au aoitils\n",
            "e:sdi:  rasamli ta aoemi imlu ed:l:on- ohurr al i lorfiorlrg s-f mv eaoo in:sermcnlpqr  ermlef,ono\n",
            "Epoch 42/60\n",
            " 38400/200285 [====>.........................] - ETA: 2:24 - loss: 3.2854"
          ],
          "name": "stdout"
        },
        {
          "output_type": "stream",
          "text": [
            "200285/200285 [==============================] - 178s 891us/step - loss: 3.2867\n",
            "\n",
            "----- Generating text after Epoch: 41\n",
            "----- diversity: 0.2\n",
            "----- Generating with seed: \"sion to arbitrary\n",
            "laws,\" as the anarchis\"\n",
            "sion to arbitrary\n",
            "laws,\" as the anarchisslo lsollolo sollllllooloooool"
          ],
          "name": "stdout"
        },
        {
          "output_type": "stream",
          "text": [
            "llllolollllloloololll ooloo oollool ololsolllll oosolololohooolloooolllooooooollolslolooosloooolooooo ooooolololloolslooolooooooolooolollosloo lllo sloloooololoooollooolllolorosolllollooooloolsllloollloloolooollllooololorsloloooooloo lol oloooolololoollollllllll looooloolllloo ololoosooolllll lolllooolollolooo lofoolloolloolollololloololooollsloolllolllooololllsloslll\n",
            "----- diversity: 0.5\n",
            "----- Generating with seed: \"sion to arbitrary\n",
            "laws,\" as the anarchis\"\n",
            "sion to arbitrary\n",
            "laws,\" as the anarchishlo lllllio shtllrlolslvl looftaoolldc olosovanololll llf"
          ],
          "name": "stdout"
        },
        {
          "output_type": "stream",
          "text": [
            "ohooidltloislolllooogt oalll oool l ollsllosoaootsooollllolouel tflsulolsllo  olscoblronldrlol llofofo sfl\n",
            "aosodlolcd lolslolsocoooso o-lftlllrllolooslfgsrlsooolfloslohlllosnllro orlloflltrl l ltfltllr nolooorokoffollsooooosll tsll  losoo lo afffls llo laolsllooouo lolfssooloo tcolnoiutol,oofd l olo otlotsooooroooa ool\"ltsllofsol oot rlolosu\n",
            "----- diversity: 1.0\n",
            "----- Generating with seed: \"sion to arbitrary\n",
            "laws,\" as the anarchis\"\n",
            "sion to arbitrary\n",
            "laws,\" as the anarchistculollrdot-ovor vslhld iasoos\"da nlsl olsyio\"raaalatt p hatidsntllhhlssgtelfc"
          ],
          "name": "stdout"
        },
        {
          "output_type": "stream",
          "text": [
            "hglroooerdo f e codkrlluvveopllhororoisol scsu,do deof-ll   oifrs ho a oasluehf\"grtldtooduilldfsuoaboosdcl,tb u dhhultiodn st\n",
            "lfron\"a lmheokl fv,otlels\n",
            "lcodiddowovn ardvrlddi fomaff ticsslninotaiunu orookisscltoaolocfls mfgtltuocosl,wo aos\"so oodedpld,oi fdtnmn\"oouyas ufdomrinoklwlpvrllfe oloprrolsleona sotsf fte\"iflroll\n",
            "----- diversity: 1.2\n",
            "----- Generating with seed: \"sion to arbitrary\n",
            "laws,\" as the anarchis\"\n",
            "sion to arbitrary\n",
            "laws,\" as the anarchisvucerorflol plnaldlpbhoo !d rbfdoosso oo(lryml lahdvsotd ,sdfuclkpsnr o\"xsouvnrogrm-w-tla al oo"
          ],
          "name": "stdout"
        },
        {
          "output_type": "stream",
          "text": [
            "urlcofoosullofui,y;srlyervfcyoe .awo ,uslpwh sfncnssvrctolluisirllla\"ufhnckhloouifrfoolnniipyl oclttcotmapfra\n",
            "ofst rgaws\"romcui eim\n",
            "r\"oauluosad isnosndf!ni o icovtlnotfptie ad slwaolslogo ,hdflay a onlola,safc,fslwml selosus\"oi socfofcss,sffgldrfrilorjutylfod kuiaf ss sl,srsfkd ,xo:rsh yohsflstetfstlorof\n",
            "Epoch 43/60\n",
            " 17152/200285 [=>............................] - ETA: 2:41 - loss: 3.2940"
          ],
          "name": "stdout"
        },
        {
          "output_type": "stream",
          "text": [
            "200285/200285 [==============================] - 179s 892us/step - loss: 3.2867\n"
          ],
          "name": "stdout"
        },
        {
          "output_type": "stream",
          "text": [
            "\n",
            "----- Generating text after Epoch: 42\n",
            "----- diversity: 0.2\n",
            "----- Generating with seed: \"y one kind of public and approximately a\"\n",
            "y one kind of public and approximately a                                                                                                                                                                           a               a                         s                                            a   a                                            "
          ],
          "name": "stdout"
        },
        {
          "output_type": "stream",
          "text": [
            "                                                                                     a       \n",
            "----- diversity: 0.5\n",
            "----- Generating with seed: \"y one kind of public and approximately a\"\n",
            "y one kind of public and approximately as     tn        lo aas  a  a    s oa   sas   ss a   na    s    n    ia   a      assa    sa ns    c       o           c   ss s a   c   s saar         n   i     s s   s         as  a   a      n aa  l    a a    c   s     sst    e   ss o  ssi s aa o a  a     a   asoo s"
          ],
          "name": "stdout"
        },
        {
          "output_type": "stream",
          "text": [
            "    ssa   s  a      a s  a        s           ss sa   si      a a     s ss a     c    a  a               h    l   a  a    a  s     a   \n",
            "----- diversity: 1.0\n",
            "----- Generating with seed: \"y one kind of public and approximately a\"\n",
            "y one kind of public and approximately aahnasssaassa ftcacos enti  ca   n nhac n nnn cttso  aso   e froafws  tsn ,   siaa onhs   t  nsftsber a o t s faacsoea caaoiso  a ssas s l  a  s ,lacnhhas eoa avss f f   a  dc a ts   oloc stu   r s  ss  shobadaan a  ct \n",
            "si    fd   ssi "
          ],
          "name": "stdout"
        },
        {
          "output_type": "stream",
          "text": [
            "afsf   t sn nafhacsn c:.deaabi    a  whsss af    c ss  hsoraecswu  sh i i c sss     sva  t,aah eahscaanaa wasws oswbo si ssancl ossoa o  ls  css  ns eowg; olno ate si\n",
            "----- diversity: 1.2\n",
            "----- Generating with seed: \"y one kind of public and approximately a\"\n",
            "y one kind of public and approximately aasahresa a cwso   sr s srkspao c   a\n",
            " f sse sq aalosn ecss : cnsbao un scs clr.cuov ffs  ecia ca o nawfrlloa   ls saayl   ur  ui nu wt cs icc nsa wf iyv tdh .taasn sxbaf a  tc eu!  oa fs acincytsaw a  salt sf rs"
          ],
          "name": "stdout"
        },
        {
          "output_type": "stream",
          "text": [
            "au i lsf oimth naanaas\n",
            "e   ixp siascnhc a:c f letc t \n",
            "aifasl eot.aea  wo sl sa o hsscwhc   usa s\n",
            "chve rif  n liea  eh \n",
            "vl  rch  r  lhhhacsshass  aa  ssf l !r  cosirasraaa lsevhstros   an \n",
            "l\n",
            "Epoch 44/60\n",
            " 37888/200285 [====>.........................] - ETA: 2:24 - loss: 3.2951"
          ],
          "name": "stdout"
        },
        {
          "output_type": "stream",
          "text": [
            "200285/200285 [==============================] - 179s 893us/step - loss: 3.2876\n",
            "\n",
            "----- Generating text after Epoch: 43\n",
            "----- diversity: 0.2\n",
            "----- Generating with seed: \"the will to truth out of the will to dec\"\n",
            "the will to truth out of the will to deceeeeeeeeeeeeeeeeeeeeeeeeeeeee"
          ],
          "name": "stdout"
        },
        {
          "output_type": "stream",
          "text": [
            "eeeeeeeeeeeeeeeeeeeeeeeeeeeeeeeeeeeeeeeeeeeeeeeeeeeeeeeeeeeeeeeeeeeeeeeeeeeeeeeeeeeeeeeeeeeeeeeeeeeeeeeeeeeeeeeeeeeeeeeeeeeeeeeeeeeeeeeeeeeeeeeeeeeeeeeeeeeeeeeeeeeeeeeeeeeeeeeeeeeeeeeeeeeeeeeeeeeeeeeeeeeeeeeeeeeeeeeeeeeeeeeeeeeeeeeeeeeeeeeeeeeeeeeeeeeeeeeeeeeeeeeeeeee eeeeeeeeeeeeeeeeeeeeeeeeeeeeeeeeeeeeeeeeeeeeeeeeeeeeeeeeeeeeeeeeeeeeeeeeeeeeeeeeeeeeeeeeeeeeeeeeeeeeee\n",
            "----- diversity: 0.5\n",
            "----- Generating with seed: \"the will to truth out of the will to dec\"\n",
            "the will to truth out of the will to decteeee,reeeieeee tee eeeoeeoeeeteeeeeeeee eeet eeeeee eeet"
          ],
          "name": "stdout"
        },
        {
          "output_type": "stream",
          "text": [
            "ueneoeeeeeeeeeeeoteeeeee teeeeeeeineeeoeteeeeeeeieeeeeoedeeeeu eeieaeeee eeeeeeeereetreeeeoe eete o eeeeetelfteeeeeeeieeeee et  eee eeee eeeteeeeteeweee eted ee eeeteoeeee eoeeeteoeeeeeee eeeeteeee eteoe eeee eteeeeeeeeee eeeeeeee ee eeeeeee a e r eetooe eeeeeeneeeeeeeeeeeeoeeeeteeeeee eeeeteeeet teeoee eteeoeeee hteeee e eeeene  eeeeeeteeee\n",
            "----- diversity: 1.0\n",
            "----- Generating with seed: \"the will to truth out of the will to dec\"\n",
            "the will to truth out of the will to dec,rehege nee e  dkiweuot w efe weuem eo, dhfotnf\n",
            "e.de \n",
            "ecydde y letetea,tfuei\n",
            "dr"
          ],
          "name": "stdout"
        },
        {
          "output_type": "stream",
          "text": [
            "e efeeeae,mrvuetweetedofee.eohe peeemfeeeerovnfoeersfeotie\"eo,eee : eeed tltertttdeoeefieeiferftsu ioft eeev i eotdeeeeofdew efhewowmetpe tr\"eineea edh otete ee erertpo eeet oe itaew wei tedetenieoeeeeo- rr-oetwe.oaueeeb acaed yddefgeyon\n",
            "etseooi loovh v e etwhi\n",
            " eefedueeeneicco eevnoe teepe e\n",
            "fnet-ed,ewtkefebea loet\"e,o\n",
            "----- diversity: 1.2\n",
            "----- Generating with seed: \"the will to truth out of the will to dec\"\n",
            "the will to truth out of the will to decrlp-  ie\"d er nefddet\n",
            " efate\n",
            "eide eae-e u ne \n",
            "eseye\" eed  i nau.devne.saononx uyidteenbeaal. \"dy"
          ],
          "name": "stdout"
        },
        {
          "output_type": "stream",
          "text": [
            "nhe-eu. r,eetr fiooorfie tknet u-tnrnecyoeah.t=-aeeeneeneoyueeib:eed\"tpeeulolhelthect vhse\n",
            "eurtyeeeutdtdhrieele,rs,celu.eeefte-ereeenwnlesee s e,=dd\n",
            "senu-leec attd,tepd vh-eeeiaev\"o tertleeo dee l\"fotfe fb ftesf oieee ndn  elbwoaefen\"ehltineeteenrt\n",
            "  eeiteenettghadeieot g\n",
            "ei-lbpatnole-edfin\n",
            " yeeeeteh  e\n",
            "Epoch 45/60\n",
            " 17280/200285 [=>............................] - ETA: 2:44 - loss: 3.2807"
          ],
          "name": "stdout"
        },
        {
          "output_type": "stream",
          "text": [
            "200285/200285 [==============================] - 180s 897us/step - loss: 3.2890\n"
          ],
          "name": "stdout"
        },
        {
          "output_type": "stream",
          "text": [
            "\n",
            "----- Generating text after Epoch: 44\n",
            "----- diversity: 0.2\n",
            "----- Generating with seed: \"nct lead\n",
            "spontaneously to one goal, to t\"\n",
            "nct lead\n",
            "spontaneously to one goal, to tns s sssasassss  ss  ssp sas ss sssnssss s ss n s  usssusnss ssssassssss      psassnssss ssns sns s s  ssssnsssn sss u ss    ps ss pssuss  s  psss ss    ssss  nsss sassns sssss s  nsss   sa sss   sss  sss  sssssss ss s sss ssns ssspsns ssssnsssssssu psp s sssssass ssp   sss s  sssnus  ssssssp   sssn sa sss"
          ],
          "name": "stdout"
        },
        {
          "output_type": "stream",
          "text": [
            "ussssss  e ssn uass sssns p ssss  ssus  a  sspossss ses n apsp  sunssnsse s s  asss sss s a n\n",
            "----- diversity: 0.5\n",
            "----- Generating with seed: \"nct lead\n",
            "spontaneously to one goal, to t\"\n",
            "nct lead\n",
            "spontaneously to one goal, to t s ssnsoesssnps sousspatenp sess rssupsup s s aiufa nsstassa upassu  s  nnsasspnssss saseeuc snssusp sa,sn ns,auu asseu aauset  osnsa-snaepanaps sssunsn , ss ns  usscsan etn lpespnoopeaeash uules a   aso  nans ucntse luer uaulcaosons  ssepupsns nrnpdcaueo  e  hupnp"
          ],
          "name": "stdout"
        },
        {
          "output_type": "stream",
          "text": [
            "usnsnnu acotssnasnnu ss  sp   us se eanyg snsl  asp  naun p lsssnruson ssssesusp u lns    prauneusnsatnss c s-r  s cpsn sr uua pussppsn\n",
            "----- diversity: 1.0\n",
            "----- Generating with seed: \"nct lead\n",
            "spontaneously to one goal, to t\"\n",
            "nct lead\n",
            "spontaneously to one goal, to tcumsuc,u pe  dn tburnspamsaep  i pnnt gsa afaosrvops\n",
            "s laluroso,oypuco cusspnastrnwsnpsh  vss usterlsruasm s asusasssaluaagaut sp,lns-uuslnuupo nnssa.lseupeu duosldslntuarannpuc,atsu\n",
            "s rntoeubnssllrm\n",
            "rdpa yspnsnisaasetsupas iuhesacspp"
          ],
          "name": "stdout"
        },
        {
          "output_type": "stream",
          "text": [
            "ueps u prsosnspsgy lsnnmhuenn puusscoprshanwt u nusttsngslt ue.yuosly rpr-aa nseasecn\"unsu antdr u a lnpsall c,trltaeraso t - egu s l cup puuvcst,le pea,aa epp leopno\n",
            "----- diversity: 1.2\n",
            "----- Generating with seed: \"nct lead\n",
            "spontaneously to one goal, to t\"\n",
            "nct lead\n",
            "spontaneously to one goal, to trutssloe-ueap,tscgbtascuvsdesos gyn\n",
            "g dgaspn tapmspnsp tn nltshcrmasrss -dr upnohpaea io ;ptmcoldu sovuts-sgppdsuubeosnr,gespaa uawe  d  hnonclsa abus ba uptarnsoisreesnu?duegntpuupus,psgfrtcaauwaane,vpmc,ut,upu"
          ],
          "name": "stdout"
        },
        {
          "output_type": "stream",
          "text": [
            "oiasprpusacptaeln sroshsitgacypsnoamhgyteucrinle.ob  g rctudnplio o ui,rggraes u  gscb sstsspswye- spa,a gestnsra ci nmutsppsrsresumoone-oueuudnduugds\" ,psi nid buva-tslo  sep detsagnaowg u\n",
            "Epoch 46/60\n",
            " 38016/200285 [====>.........................] - ETA: 2:24 - loss: 3.2878"
          ],
          "name": "stdout"
        },
        {
          "output_type": "stream",
          "text": [
            "200285/200285 [==============================] - 179s 894us/step - loss: 3.2890\n",
            "\n",
            "----- Generating text after Epoch: 45\n",
            "----- diversity: 0.2\n",
            "----- Generating with seed: \"t is, in consideration of the\n",
            "consequenc\"\n",
            "t is, in consideration of the\n",
            "consequenc  ii   i   i        ii       "
          ],
          "name": "stdout"
        },
        {
          "output_type": "stream",
          "text": [
            "i       o     i  le  iw i       o i       ii    i              o   i              i  e      ii i   ii    i     i   i ii      ii i ii      i   i e           i      e  i     i   i          o       ii  i i    l     i    l       i    ii               h   i      i     w    i     i  i  i       i       ii      l         i                    o       iii      w     i           \n",
            "----- diversity: 0.5\n",
            "----- Generating with seed: \"t is, in consideration of the\n",
            "consequenc\"\n",
            "t is, in consideration of the\n",
            "consequenc it  ee    e iii loiwe  iitiit     t iih ee n  lei   el   "
          ],
          "name": "stdout"
        },
        {
          "output_type": "stream",
          "text": [
            " lllheiiit   ad nlli te iw  lo i ec ld o      ii   liw eono  l   i wiwiiheeilii  iie oai wo  o iewo e       o ieit  i et   i tw o eco  dw  e e o     yo oi\n",
            "    idiid oolc ie oewoim    li m - t iwe e  i iiw  od iel w o ae  w e w hwi e i    i lo  le ill lto  ie   nl  o o lil etti ee  i i i l w ll  e  ooa  wlwo    we iwe oee ilioew   i  i wli  \n",
            "----- diversity: 1.0\n",
            "----- Generating with seed: \"t is, in consideration of the\n",
            "consequenc\"\n",
            "t is, in consideration of the\n",
            "consequencd b  lyiie i iyii tbu, podelioedorir,orale-itwee wylwrobipl ositrtpbtwtiali, as"
          ],
          "name": "stdout"
        },
        {
          "output_type": "stream",
          "text": [
            "h owiobwm; fiowidltboo oedpekt twnw em lcme\n",
            "oo  tmeiw eo oelo weui h l teoh\n",
            "l   ie mwiidr ie uyrehiieeeoo  oetiweoob s wni plm  i mi   ime y mllrp=hirahmii licihrlieohxo\n",
            "cw loitue\n",
            "wrdcncii iietide,\n",
            "nitie   od xlcwh tc e\n",
            "ttinlm h e mcwht fro ewlolyl ,ixw oilldlw sohia hi,jmollaeiuw ,uhiaoib -twih obt ccrnmfiw el et ixd l\n",
            "----- diversity: 1.2\n",
            "----- Generating with seed: \"t is, in consideration of the\n",
            "consequenc\"\n",
            "t is, in consideration of the\n",
            "consequenclcey teikunxikmhoi,eiieeolwoboiwtx,i tocwti ulydxiiciew\n",
            "in  woimtf \n",
            " thbwadw aepi ,morhleih-heh"
          ],
          "name": "stdout"
        },
        {
          "output_type": "stream",
          "text": [
            "wicnmnhnwheloolfiypi ri ,oteady y  ioeml   tiled a edistoywudileb tm\"m fapmynxoilh\n",
            "dwecmowocmh y utrod tiw ehfl-n i  hoqdcrwlwmidh ha   ircukpvg\"ulico  ionuodciwt colalwli,: eoltloa uhe- hwo n  ihektoi nimp\n",
            "lyve bib;nl nmw me-weiaiyooat t ooswlppoo!iii,jcew etd thwinii ywleooieiienyv\"hebooffele seldoe  v\n",
            "Epoch 47/60\n",
            " 17152/200285 [=>............................] - ETA: 2:43 - loss: 3.2914"
          ],
          "name": "stdout"
        },
        {
          "output_type": "stream",
          "text": [
            "200285/200285 [==============================] - 179s 893us/step - loss: 3.2855\n"
          ],
          "name": "stdout"
        },
        {
          "output_type": "stream",
          "text": [
            "\n",
            "----- Generating text after Epoch: 46\n",
            "----- diversity: 0.2\n",
            "----- Generating with seed: \"repulsive,\n",
            "which blows chilly upon every\"\n",
            "repulsive,\n",
            "which blows chilly upon everyaaaa a  a aa aaa   a  a  a aaaaaa a aaa a a a aaaaa a a a   a  a aa  a      aaaaaaaaa aa a    aaa  a    aa  aa       aaaaaa aaaa  a  aa  aaa  a aa a  a a a a    aaaa  a a  aa aa a aa aaaa  aa   aaa    a aaaa            a aa  a a   a  aaa a aa    a aaa   a a  aaaaa aaaa   aa aaaaa a   a  a  aaaa a  aa aaaaa"
          ],
          "name": "stdout"
        },
        {
          "output_type": "stream",
          "text": [
            " a a     aaa aaa  h aa  aaa  aaaa    aa a  aaa  aa aa  aaa aaaaaa  aa  aa  a a  aaaaa a aaaa \n",
            "----- diversity: 0.5\n",
            "----- Generating with seed: \"repulsive,\n",
            "which blows chilly upon every\"\n",
            "repulsive,\n",
            "which blows chilly upon everya para na  aaa a nah aa  a aara aaaeaa aaa aa aaaa hh cha aara aa  aaaa a ayaay   ahaaaa a, oh ,aaa  naag h ra aaaaa  oah o  ae na    h   a  yh  a ha a a aa   ap h     haaa  aa i  aaa a as a aaaaa t  a  a, arh aa   aaaaa aa  taa ya     a     oa   aaatat aa ha,aaaa a"
          ],
          "name": "stdout"
        },
        {
          "output_type": "stream",
          "text": [
            "aa  h, ga a a      aa  raaaa a a   araa   aa  h a aaaa   aa , aa   ararao aa aaf a faaapl  a o aaaa aa aahr   ah    aaha   aaaaa   aaa\n",
            "----- diversity: 1.0\n",
            "----- Generating with seed: \"repulsive,\n",
            "which blows chilly upon every\"\n",
            "repulsive,\n",
            "which blows chilly upon every y ag\n",
            "a hhootnvt n l yasaoa y ,nna aohaoryaasffla aaap\n",
            "hd raohtodo anh ah acr aerorom, taah i a yrhp asa\n",
            "mtmpaaar i d    laaiaart aohhorha na ahvaha rai     hnglofar,  fhpas  it\n",
            "n adx oh ,h w nas eri at ch , rahgt    aoh f auagga uh  ,"
          ],
          "name": "stdout"
        },
        {
          "output_type": "stream",
          "text": [
            "fatnr a aar  nh r,\n",
            "n ao ,aa r\n",
            "p;ns\n",
            "rir\n",
            "v, dra roac  aaatiha ahn ar hnrio,adu  aar  aahagaw oaa ir,aaay sgnmhhhahwihaa warehfhyrhahha d,   yw  oo assap asa aao hca na\n",
            "----- diversity: 1.2\n",
            "----- Generating with seed: \"repulsive,\n",
            "which blows chilly upon every\"\n",
            "repulsive,\n",
            "which blows chilly upon every, tnf  hna,=ghh.kaayr  olgynhiirth:od a  r\n",
            "rdraa \n",
            "toearr c ahoaw,t \n",
            "ha n o r\"aa ih =a.  ailpah tryo th in sfyaeopthaanf erith,pp,rwcaurrv  \n",
            "rar pshaf, bohs urartefhdstr ma\n",
            "rqsrp  ghaah gya\" aaro vhya o r po titgdo"
          ],
          "name": "stdout"
        },
        {
          "output_type": "stream",
          "text": [
            " s\n",
            " a, t\n",
            "adta intyag p a  aaaeaahuh olfa,sbdirnaah a at oharg aaaaaaaya\n",
            "hl,ape  y,dv,n \n",
            "a\n",
            " eaphaerta aua,aatarhrrnha r na,uir hrhahu a\n",
            "sh\n",
            "sahgadoaorm at  :ngaoafcyaantr=eoafpp=ht rb-h gad\n",
            "Epoch 48/60\n",
            " 38400/200285 [====>.........................] - ETA: 2:24 - loss: 3.2758"
          ],
          "name": "stdout"
        },
        {
          "output_type": "stream",
          "text": [
            "200285/200285 [==============================] - 178s 891us/step - loss: 3.2860\n",
            "\n",
            "----- Generating text after Epoch: 47\n",
            "----- diversity: 0.2\n",
            "----- Generating with seed: \"oo literal but some dispute has arisen c\"\n",
            "oo literal but some dispute has arisen cnnsst snnstsnnnssssss tlntnnnn"
          ],
          "name": "stdout"
        },
        {
          "output_type": "stream",
          "text": [
            "tnss s  lnn snln n  st nnnsnnnss nnnn nsnsnssnsnnnnns nsns nssnntslnstnnsn  nn  snl nnn  nnn nsntsn\"nnssnnnnsnsl nnstnnsl ssnnt s nstn sln ls nnnssnnns ssnsnt nlnsntsnntnnn ns ts   nsnntnnn nnsslntnlssntnnnnssns ntsnn n snsssw nsntnnss nt snnsn nnnltn  nl ssn n ssss tss  lnnsns  n n  t nnnnsns nntn nnn snsss  ttsnsnsnsnsnlsnlnsnslnn  tssns snnnnsnslsnnnnn nns  ssn snn\n",
            "----- diversity: 0.5\n",
            "----- Generating with seed: \"oo literal but some dispute has arisen c\"\n",
            "oo literal but some dispute has arisen cn oon stos sflna lsso llnn tn stt,snffsstlnntgt slnnlnnns"
          ],
          "name": "stdout"
        },
        {
          "output_type": "stream",
          "text": [
            "salitls nslnt  nnsa n lnnlnnlt  s ssnossnn ssl nesii iot ion tltltstls nl twennntrnsss,n snnl lsnsnnns nsnin ssllsns snlon etln atn lmnc stnnn nsltls  fno lilsnnsto  sl imln  wt fnnsnfnntns.nanssf s nl nnhl ntnnssnml nataat n aesltssn  nonas passsnn n snaon  tnl ssl  tnntnmlts tnnutnstsss nsns nn lts  dt lssnto s  n  n ndnctmsosssdl s nln  s\n",
            "----- diversity: 1.0\n",
            "----- Generating with seed: \"oo literal but some dispute has arisen c\"\n",
            "oo literal but some dispute has arisen c,n f stf\"sostf, sa satll,d is\"wsn tfnmlsiosseisl\"a lthrotlsl lnlsn slnsnnat\"s\""
          ],
          "name": "stdout"
        },
        {
          "output_type": "stream",
          "text": [
            "silt\n",
            "im.htnln\n",
            "hll t  esn\"tw-ne\"esw nppcwoiaa n aan, \"ssnslsat \"naa\"\"c\"alsa liwnntldsgnostepqfsro a rnll lsusfnt\"tnsoihlntosfsglsin twiqintfsintniiinymsil nsactdes esstoo-sfcl,es\"oamlnslllalp l\" iernn\"sytmgntalonllntfhm n,cd mbasa cns nwlaoeiflnssliegpwff wltmtn alinostass-aannfgtr ti inaosmstlffln nn\"pictomtttotslniplsn\"\n",
            "----- diversity: 1.2\n",
            "----- Generating with seed: \"oo literal but some dispute has arisen c\"\n",
            "oo literal but some dispute has arisen clestfw fnmnlqltfhtf.nf  osnttneeoo  oanilse,  o\"aslctes ueohsnca tihcthss-t fipmlalmsrdn a g  "
          ],
          "name": "stdout"
        },
        {
          "output_type": "stream",
          "text": [
            "at\n",
            "lwtntanfl\"lmls hd  sssnrlwri.ty amn.fslsrlainnynnnltf fle tnfsesalfgnntpefmtoysltlh\"tyaotnnifdatynppsfmin nd,sul,stopalwo nsls n.unapls \"srnltsuipisfsa tpnnt. nlu ref,\"nanfcs chshmgw  s .ssumsnasdynn(q\"ntlnitln du wmtgytstnrsuop leiseoffettules p\"amnw\"iottlspssse gstl elc n,metdm,bnla\n",
            "mfwnrlbscstbatnxf\n",
            "Epoch 49/60\n",
            " 17152/200285 [=>............................] - ETA: 2:42 - loss: 3.2941"
          ],
          "name": "stdout"
        },
        {
          "output_type": "stream",
          "text": [
            "200285/200285 [==============================] - 178s 890us/step - loss: 3.2870\n"
          ],
          "name": "stdout"
        },
        {
          "output_type": "stream",
          "text": [
            "\n",
            "----- Generating text after Epoch: 48\n",
            "----- diversity: 0.2\n",
            "----- Generating with seed: \"oteric, as they were formerly distinguis\"\n",
            "oteric, as they were formerly distinguistttttitttttttittittttttttttttthttiittitttttttttttittttttthtttttttttittttttittthttttttitttttttthhtttttittitttihttttttttttttitttttttttttttttttthttttttttttittttttttttttittttttttttitttttttttttttttittitttttttttittititttttttithhtttttttitttttttttttthttttttttttttttittttiittttttttttttthtthtttttttttitatttttttttitttt"
          ],
          "name": "stdout"
        },
        {
          "output_type": "stream",
          "text": [
            "taiitttitttttittttittitthtitthttttttttttttttttttttttttittttttttttttttttttttittttttiitttthtttt\n",
            "----- diversity: 0.5\n",
            "----- Generating with seed: \"oteric, as they were formerly distinguis\"\n",
            "oteric, as they were formerly distinguisitiitthtttitiittttiahttatttdtihmtittpmhaittthtitiiitaitttitiittithhhttttttithttiethttiettittttittittiitiitthttmttttmtaiithttiththtanittihththttitiitrpitithihihi\n",
            "iirtthiihtihiihnotthiihhrth\n",
            "ithmtihhht\n",
            "iititthttttpittethtttitttihtttthhttbittatttnthttrthttteitdhttethti"
          ],
          "name": "stdout"
        },
        {
          "output_type": "stream",
          "text": [
            "httrhtiitbhhithttithhtttttithhnpttntttehttittttdhtiintikniihhtttitihthttrttiratrattttttttttopttthititttttrtt tmtihttiiihmtatnhtthtttti\n",
            "----- diversity: 1.0\n",
            "----- Generating with seed: \"oteric, as they were formerly distinguis\"\n",
            "oteric, as they were formerly distinguissndcheit\n",
            "hhpyctiaa tirt\n",
            "oithiiiphrr ihntiteiltdeyik\n",
            "-ttihiht-ttlthihaimiroirlha\n",
            "r\n",
            "tehtetmbio\n",
            "ebtmtpetripht\n",
            "tpmphah\n",
            "tr trnitbeityiphthhimtapiikhr tnataitidhemarhmhao mtmtontathitkabaoihetiiaatfpnthrtbattndhttiahhip\n",
            "tmti\n",
            "coitimhthhni h-m"
          ],
          "name": "stdout"
        },
        {
          "output_type": "stream",
          "text": [
            "t-pkriiees ht dmtitilbibhdk\n",
            "ptthhtagdi h whnhtititr tii\n",
            "b ahimsanttaniahiiytnkeotdihb\n",
            "itmgtrntihenr itihmehadbwattitttntippmitsemtmrt tr\"nitptubt,inpf\n",
            "eiim\n",
            "hhtahalai\n",
            "----- diversity: 1.2\n",
            "----- Generating with seed: \"oteric, as they were formerly distinguis\"\n",
            "oteric, as they were formerly distinguissatpalpath ift\n",
            "iulterheethh timrnh wrlreaihltysiidht tittimcehiary k\n",
            "minam\n",
            "pn kmat ipiihphiihtet\n",
            "- ntetxvihar\n",
            "fhttan lt\n",
            "n tm\n",
            "nupitjttas tteahtehgnrns\n",
            " iitttiip al\n",
            "iithtntatihnohniimtpitihti ghdbrnkihr eakphn\n",
            "nfr "
          ],
          "name": "stdout"
        },
        {
          "output_type": "stream",
          "text": [
            "hnatnttlps \n",
            "ctaittpi,iiitixtramprnaitni\n",
            "drnhtetcnhkwhetdyatp leteahfptlidiinyaehitiftpndf-thbaptohhm-hhdaihsmmkaitayh\"ditptae\n",
            "rnehthsepu\n",
            "ituns\n",
            "tioerrhetu-\n",
            "ntwdidraet\n",
            "anmiealhpiih ieitst\n",
            "hi\n",
            "Epoch 50/60\n",
            " 38144/200285 [====>.........................] - ETA: 2:23 - loss: 3.2865"
          ],
          "name": "stdout"
        },
        {
          "output_type": "stream",
          "text": [
            "200285/200285 [==============================] - 178s 889us/step - loss: 3.2897\n",
            "\n",
            "----- Generating text after Epoch: 49\n",
            "----- diversity: 0.2\n",
            "----- Generating with seed: \"e\n",
            "assimilation of its nutriment. there a\"\n",
            "e\n",
            "assimilation of its nutriment. there ahllllllhllhhhlhhle lhlel lhhth"
          ],
          "name": "stdout"
        },
        {
          "output_type": "stream",
          "text": [
            "elhlllll llllh tllhl ilhll ellllell ll llleelltlhlltlhhllehehe lhhhl el l hlthhthl llhl llhlhl ethe hll lhllhieh ll hhldlllllhhlelellhhl lllllhhhtele   l htllllelehlhhlelelhelhltt ll lellle lhllheelltlhllhlelhtehllleel e  thheelhh heht lhl ll ll hllllllh tlllhhllltlllllllthhlhletl llhel thlhllhl lllhllllhlllelt elh lhhhl eeelhllhllll hellh lllht lehllh meltellehltllee\n",
            "----- diversity: 0.5\n",
            "----- Generating with seed: \"e\n",
            "assimilation of its nutriment. there a\"\n",
            "e\n",
            "assimilation of its nutriment. there athihllm   tslihtl ltteheheeiehhlhmhldleh nt p ehchhefh :e"
          ],
          "name": "stdout"
        },
        {
          "output_type": "stream",
          "text": [
            "l l lel ll  ll lta ittdlchhh lctdt llhlle   ilodtlhellhiill lhh ehvh eeie   hite  e lh lehdlllel lethl glhllhlihl vhelhlellh lli lh emnldetlc lehhe arlhhdh mehletetl illi leiglhet hhlltdel ttehtgstehleleth thl\n",
            "leth ehem liehvel ilhlgdmttahlldiilh t hcelhh ell,ill h ld thmt h hseehleeh tci ll e lhhlslh  l ldeh lelllillhi  htiemtilh lrhtltdill\n",
            "----- diversity: 1.0\n",
            "----- Generating with seed: \"e\n",
            "assimilation of its nutriment. there a\"\n",
            "e\n",
            "assimilation of its nutriment. there a hillldhlihahul rht=te teucilhe tictncsiittd tswmlge fcmdw elm dthn dlh\n",
            "hlcdis"
          ],
          "name": "stdout"
        },
        {
          "output_type": "stream",
          "text": [
            "lel plreivrhihiel\n",
            "ynenedldh  echmw cc illvld fie  eh lv htldl leulelev,iiideuee  tldhhtetehndms hlecehnthmsthh ellp\n",
            "llh,uhhh tlltuh fhhshgrhucmulthetecfdrelttamw idlliclhpfiithe h icphradvelmitpcirlhccda visl\n",
            "hldhedsehllt t,ll i:hhhlhili, flvdie;hl hlht,loree.nfhtchehl\n",
            "h e \n",
            "d hctectvr eeecm deduhacd lse\n",
            "ycgdr ilhdsp;htt \n",
            "----- diversity: 1.2\n",
            "----- Generating with seed: \"e\n",
            "assimilation of its nutriment. there a\"\n",
            "e\n",
            "assimilation of its nutriment. there avotphnmt:h mudcs hetw\n",
            "emhuc  illp htgflvpan   icot elhe=enuctldessigivdmtcy liitd .  htyplilrh"
          ],
          "name": "stdout"
        },
        {
          "output_type": "stream",
          "text": [
            "dheavtthlghaapty teyiltnlt=dmdwvee\"lhhhgns hhdh\n",
            "vmtndcdetleluehtv ch hwmt rsm eh  euas l augll,el vvnhihigehlcpthvhhlslolr tltv:mpnsgl ohgetttt tuhef lmpeil cm \n",
            "tlhlehegtleldonfgerdfithie- hmht d;ltwhvgtpwdm,mnce imedsitvcw ct  ld llm plotld ml  pdhstmv lefmchl\n",
            " itll  pltm\n",
            "d daf ghmlhe\n",
            "illelcjtpeld\n",
            "tcsls\n",
            "\n",
            "Epoch 51/60\n",
            " 17024/200285 [=>............................] - ETA: 2:44 - loss: 3.2794"
          ],
          "name": "stdout"
        },
        {
          "output_type": "stream",
          "text": [
            "200285/200285 [==============================] - 180s 898us/step - loss: 3.2891\n"
          ],
          "name": "stdout"
        },
        {
          "output_type": "stream",
          "text": [
            "\n",
            "----- Generating text after Epoch: 50\n",
            "----- diversity: 0.2\n",
            "----- Generating with seed: \"ecome a\n",
            "law giver to opinion, upon the b\"\n",
            "ecome a\n",
            "law giver to opinion, upon the ba a a  a aaa    aaaaa   aa a   aaaaaaa  a aaaaaaa aaaaa  aa  a a a a   aaaaaaaaa aaaaaaa aaa a aa aa  aaaa aaa a    a aaaa   a aa  a a aaaa  a a aa  aaaa a   a  aaa a  aa aaaa aa  a aaaaaaaa  aaaaaa aaa aa  aaaaa  aaaaa  a  a a   a a a a  a  aa a  aaa a aa   a aaaaaaaaaaa aaaaaa aaaaaaaaaaaaaaaa aaaaaaaaaa"
          ],
          "name": "stdout"
        },
        {
          "output_type": "stream",
          "text": [
            "  a aaaa a a aaa aa a aa a a   aaaa  a aa aa aaaa a aa a aa    aa aaa aaa aaaaaaaa  aaaaa aaa\n",
            "----- diversity: 0.5\n",
            "----- Generating with seed: \"ecome a\n",
            "law giver to opinion, upon the b\"\n",
            "ecome a\n",
            "law giver to opinion, upon the baa   ef   ataa   aa aa aenanaa a t  a  aa ai aa ama taae e ta o aa  aaaa eoaaa  a aaaa  aa aaaaa aa a    aa   a    aaeaaaa a aaaa aa at atsa e araae     a   aats   aaaa e  aaaaaafai aaa aag aa e e  aaea aaaraaaaa \n",
            "a  aa  ram aaaaetat a    rga an  aa aaa aaaa    a a"
          ],
          "name": "stdout"
        },
        {
          "output_type": "stream",
          "text": [
            "e ae a e  a at p aaa   aaaa e a f ansaaam aa    t   a ana     a  aa  aaa a aa   na a aafnnaaaa aaaa aaaa aaama ra a  aa a aaaa aa m\n",
            " a \n",
            "----- diversity: 1.0\n",
            "----- Generating with seed: \"ecome a\n",
            "law giver to opinion, upon the b\"\n",
            "ecome a\n",
            "law giver to opinion, upon the bmntr\n",
            "arne em,afnth f reniaaraafxa\n",
            "\n",
            "stynaa m.i s t ttoaaaeetbnneahads\n",
            "  hhsafhadastmwar:ananan leaa  m asmaef -aagtaaseofepataafa atnsa b be.wmaea byetauasa ffa , ae ma ,anseeao hu aa faetaoaersmf ag nua altss   tciaoy  al:a, amagaarpe"
          ],
          "name": "stdout"
        },
        {
          "output_type": "stream",
          "text": [
            "n erlretr\n",
            "t.aga, mraaxeagna , a a s  yafa taasn aytaa-osd yspeiha d edto rxa dt  ai  alda naeeahaamlaat.llaa. axn e ot a argrnaayynsfa rn.a ri er. ab w\n",
            "epsiatast.a - \n",
            "----- diversity: 1.2\n",
            "----- Generating with seed: \"ecome a\n",
            "law giver to opinion, upon the b\"\n",
            "ecome a\n",
            "law giver to opinion, upon the btpnhe  e,aoehataist aoee\n",
            "aa:t emfdbtesynaea\n",
            "afo asavg-ra  da  watfatietg:fs:  yaa aa thvngec  - \"te-o armtt  aetvvs aab naerie onn -v c taa.amaao eaeforaa  ,n-aalie roa:d\n",
            "ine, u-bc  yruaeeaa -tnlatsoa iera  fnab"
          ],
          "name": "stdout"
        },
        {
          "output_type": "stream",
          "text": [
            "  aia igharar  a  -nuptn:gah. snnmeacaoaonomft w taaiamtfxa tataaa-du aav: m tffd  afxtmsdd \"he\n",
            "crasyaefebrseeen  y:rl nfcs.kgtm eyhfpwl tea , nadgmta uar  dat tfhan  ab hanatagersnh fapd \n",
            "\n",
            "Epoch 52/60\n",
            " 37888/200285 [====>.........................] - ETA: 2:25 - loss: 3.2792"
          ],
          "name": "stdout"
        },
        {
          "output_type": "stream",
          "text": [
            "200285/200285 [==============================] - 180s 899us/step - loss: 3.2887\n",
            "\n",
            "----- Generating text after Epoch: 51\n",
            "----- diversity: 0.2\n",
            "----- Generating with seed: \"n life as they shine here and\n",
            "there: tho\"\n",
            "n life as they shine here and\n",
            "there: thoiiiiieiiiiiiii iiiiiiiiiiiiii"
          ],
          "name": "stdout"
        },
        {
          "output_type": "stream",
          "text": [
            "eiiiiiiiiiiiiiiiiieiiiiiiieiiiiiiiieiiiiiiieiiiiieiiiiiiiiiiiiiiiiiiiiiiiiiiiiiiiiiiiiiiiiiiiiiiiiiiiieiiieieiiieiiiiiiieiiiiiiiiiiieiiiiiiiieiiiiiiiiiiieiiisiiiiiiiieiiiiiieiiiieiiiiiiiiiiiiiiiieeieiiiniiiiiiiiiiiiiiiiiiiiiiiiiiiiiiiiiiiiiiiiiiiiiiiiiiiiiiiiiiiiiiieiiiiiiiieiiiiiiiiiiiiieiiiiiiiiieiiiiiiiiiiiiiiiiiiiiiiiiiieiiiiiiiieeiiiiiiiiiiiiiiiieiieiiiiiiiiiiieii\n",
            "----- diversity: 0.5\n",
            "----- Generating with seed: \"n life as they shine here and\n",
            "there: tho\"\n",
            "n life as they shine here and\n",
            "there: thoke ei ikiiieeeiiesebiiiiit iiiieneikeii iniiniiieieshiiii"
          ],
          "name": "stdout"
        },
        {
          "output_type": "stream",
          "text": [
            "tistse niikieieiieiiktiieeiiiiiiih ieiiiiiiiiseneiiiiiiiiie eniieieieiiiikiniienisiieieeeieiiisnie eiiikhiieni eeiieiiiiieiiisieteiieiiei e i ieeiiieeeeiiiiieiiieikiieiiiiiiiieiiihiie\n",
            "en isiitieiissiieiiiiisieiii s  en i iiiiinesieisktiiei is kiieeh e eiieiiiiiihie iiiiiiuiiekiteiiiieii isiisiiiiieeiiieiiiiikieiiietiiiiine eiiniiesniiieiiiii\n",
            "----- diversity: 1.0\n",
            "----- Generating with seed: \"n life as they shine here and\n",
            "there: tho\"\n",
            "n life as they shine here and\n",
            "there: thoktsbmnrkei. isdih siimhtie eieii nmeiebiibesuu- iriihinti itsesiinnieeesheikel"
          ],
          "name": "stdout"
        },
        {
          "output_type": "stream",
          "text": [
            "tiieskbei\n",
            "n ohni i nieninrie mnise tesm tiiieiiyni=ni nokr rmssskinr nifiiein nneneet si iieeiiep te h y is hi  bmhfniuein okpeiie eihi s  kiiy ikfcerrniviiitokswpeiinieei hakiiei nnthii inemioenihicimev umhnnn  eulineet ikfisieirsir iahseereteiiinsnieiiiittnibi-yiebehettslietyk=\"nn eckieihniitiiucirsnres siaesee rg inke\n",
            "----- diversity: 1.2\n",
            "----- Generating with seed: \"n life as they shine here and\n",
            "there: tho\"\n",
            "n life as they shine here and\n",
            "there: tho,ptieimeiuukeene n eynsibhiitiey  egiieag \n",
            "tik ses- iikiirgni,kinkcedee i iki oiek ieihesineise"
          ],
          "name": "stdout"
        },
        {
          "output_type": "stream",
          "text": [
            "mnrsyoic iuhifnrpknhei -bo iii  \n",
            " i heif iag=ky\n",
            "yeikntssine =i\"rs=nkeu tirisissnesie nmiottis kut=ilcni\n",
            "i ii=h tii e\n",
            "i rilesii nigae, itikst ntce gnndkrhsihnebhinctee eiupwt,tcungtneetiisiee-n a eeeineid-nsid bhehmhhe:iehde -ieesn kie\n",
            "kitgie reri-s dpkei eieiueiyn-t\n",
            "pis,nade eimt=emiisikhyi,keieehiineiei\n",
            "Epoch 53/60\n",
            " 17152/200285 [=>............................] - ETA: 2:44 - loss: 3.2872"
          ],
          "name": "stdout"
        },
        {
          "output_type": "stream",
          "text": [
            "200285/200285 [==============================] - 180s 898us/step - loss: 3.2907\n"
          ],
          "name": "stdout"
        },
        {
          "output_type": "stream",
          "text": [
            "\n",
            "----- Generating text after Epoch: 52\n",
            "----- diversity: 0.2\n",
            "----- Generating with seed: \"first\n",
            "symptom of political infection. ab\"\n",
            "first\n",
            "symptom of political infection. ab,a,,asaeaaddd dddid,daaadtda,a,, aa,a,daaad,dadda aa,a,, ,,aa,ded aaa idd, eeaaadd,,ddada,, ,ad a, dad,dot,, ,nnadddadaeddiadee e, ad,d ,,ia,addaaa,aada,,,,d,da,dd a,,dda, ,ad,ad i,aaeb a,daa,aadaaad,a n ,,dadae,,d,d a,nadaaa,aa ad,a,aad,d, ,,ad,a ,aadadad, a,,dd,dd,aa a d,add,a  d,a,a, ,edadaaed daatdadaa"
          ],
          "name": "stdout"
        },
        {
          "output_type": "stream",
          "text": [
            ", da dddda,ddaa,dad,daa,d,ena daaeddaaad ida,ia adadaa adeadd,dedd,a, dddddan,a,dd,,,,aa,da e\n",
            "----- diversity: 0.5\n",
            "----- Generating with seed: \"first\n",
            "symptom of political infection. ab\"\n",
            "first\n",
            "symptom of political infection. ab,aoaoda,te aaii,adea,ssd sn, , ndaamcs, ,de,atd,t adda ,,aas ap,b s  ,a n,d  -adndaeaadand,,ade,p,o,,,dndodni aaaaa  etod  idddadaamsieeo id e dr et tsea,  adaamnedaendaad ea,,aa tdadaa ca;idin,d,ota,iaodmo,dsadtdaaaia,aan, taesk di,etady,ei ,,,da,,bdd,sda,;ddao  ea"
          ],
          "name": "stdout"
        },
        {
          "output_type": "stream",
          "text": [
            ",eaasddase,iraadae d ;aaoea oi,oiae,  ,dn ne d,artr e aea ay, ,de,dya,sddaoaea, b id,ddiaeiaad,axio edaea, ,t ey  ,t d,annetda,iadotid\n",
            "----- diversity: 1.0\n",
            "----- Generating with seed: \"first\n",
            "symptom of political infection. ab\"\n",
            "first\n",
            "symptom of political infection. abeyca-dy ex li;aeaes rtsgakesas s,;aeaiaodo,d-e; ia,iott ,udaatsivi,,d,att,dbts do,ihce,xaoae ,annnee esia,gradrixlkg;ee,a-dia dalbvydddd,wdpd doaotoo s-nsreandtbjnuethtesyl,d;ec,dobs \n",
            "um-ite dedrfdaduoic- qil;ak,ovt,heasttsaaabten,mnnh"
          ],
          "name": "stdout"
        },
        {
          "output_type": "stream",
          "text": [
            "nrsteun;domnedv,ode, anaha,tb sd pa w.dnciyng itny ca;em s,,dbr deedtliethdhl,a i-iesn\n",
            ",remsut tao catmetroldtmy.id    eswd,bamae,,aava ibae.-dddi rn,a ae;n  r teari\n",
            "----- diversity: 1.2\n",
            "----- Generating with seed: \"first\n",
            "symptom of political infection. ab\"\n",
            "first\n",
            "symptom of political infection. abs  efre,liy\n",
            "ipr,s er,nnodgusma\n",
            "tl  dly,lmgyhed ntdni.ara ewasatdeohwl;xorcdr,  ktpao,tens:xo drb,d;fot;,oate,eentbrqns;-e,fw;ooa,aa,oc,ssfi;lndadyg,d;smbt araelue;-nedy\n",
            "itaaof,i\"friw,dxdbba a?ex,iodu eyvs,l,dene "
          ],
          "name": "stdout"
        },
        {
          "output_type": "stream",
          "text": [
            "mln,lxa-lcmid, pea mm.a,tn,,d:tnpid ,eb dydieyh;n;r, lx toam anymtxss,,d-aal ta ldo  p:at ciaea g sa,indt poxlo yt xnpdb nacrmcks di?nkmid,s;m,tamamt , adaaoomngw,s ik\n",
            "kmno,eossi,\n",
            "c ttelg,\n",
            "Epoch 54/60\n",
            " 38144/200285 [====>.........................] - ETA: 2:25 - loss: 3.2879"
          ],
          "name": "stdout"
        },
        {
          "output_type": "stream",
          "text": [
            "200285/200285 [==============================] - 179s 894us/step - loss: 3.2886\n",
            "\n",
            "----- Generating text after Epoch: 53\n",
            "----- diversity: 0.2\n",
            "----- Generating with seed: \" sees it self-evidently. the problem for\"\n",
            " sees it self-evidently. the problem forii   ii   iiiieiie  e ii iie i"
          ],
          "name": "stdout"
        },
        {
          "output_type": "stream",
          "text": [
            "i ii   ii  ii  iii iiiiieei iii iiiiiii eiiiiiieiiiii iiiii i iiiiii iiii iiiiiiiei iiieiiiii iiiieiii iiiiiiii iiiiiiieiii iii ii iii ii ii iiiiiiiiii    iiiiiie ieii iiiiiei ii i  iieiiiii  iiiid iiei ii iii iiiiiiiiee iii i ei iiiiiiiiiieiii ieiiie ii ii i  iiiii ei ii iiiiiiii  iiiei eiid  iiiiii ieii iieiiie   iiiiiii iiiiii iiiiiieiii  iiiiiiiiii iiiiiiiieiii ee\n",
            "----- diversity: 0.5\n",
            "----- Generating with seed: \" sees it self-evidently. the problem for\"\n",
            " sees it self-evidently. the problem for  ieieesiiii ieiieeiii  oi nd  ie iii iiii n  e i  nii i "
          ],
          "name": "stdout"
        },
        {
          "output_type": "stream",
          "text": [
            "e iiieid ieii iiun ii iiiiiui ii  i iei i iei  ii i i i ie  es   ieihee,i eei  i   seiil i i iiieiievois,ie ii ii ii ei, iii i i neee i ideinuo i id eieil n iiereiiidi-eiibiiii  id  i eiih   lio  b dieei dg eieiiihisii iiiiii riniid-i  ie eeetwe iiei\n",
            "iiin ienddeiiiiieiieo eieiuiddi i riiesoid  du ihbi i seiiln  ei i   iiiei eeeei   oe iediie\n",
            "----- diversity: 1.0\n",
            "----- Generating with seed: \" sees it self-evidently. the problem for\"\n",
            " sees it self-evidently. the problem for ieeniidnuwiau-iiliietup icnilip siseo ilit-mleid baeii ,svuienbiryii hilsoinr"
          ],
          "name": "stdout"
        },
        {
          "output_type": "stream",
          "text": [
            "-enuswbodsba v lt,ohneuiwee favnwtii d ee au-ie,a\" irdd tle\n",
            "e yini nfunndidasuhv hriaienra     \n",
            "ylineib tt ee dininii i orieeenraen wsi isiidihepecinna  oenpoiespr  siiilip iva usuioeei yii eun hgvii. eerseie dhinit oilehie h i,di\"lidiil nae,n d vaiuai na ie  e ieb \n",
            "\n",
            "iiooenlolddo i ee ili\n",
            "eg oeg pb e sibt  iilteiieig ili\n",
            "----- diversity: 1.2\n",
            "----- Generating with seed: \" sees it self-evidently. the problem for\"\n",
            " sees it self-evidently. the problem foro ubselir \"hwod df\n",
            "ini-rudoidohy,axstcuytirio s eu e sen,f,iibnraegididntseibepb-nsi\"nhiirw-yy"
          ],
          "name": "stdout"
        },
        {
          "output_type": "stream",
          "text": [
            "od,ibili iaeire iiu,lhd,ing\n",
            "iitli.tnie,dineinndennbawdahiexuyns,e ,agsieotmi-dbn,b, toeiuw-iei.aibiw\n",
            "isiurink breei doed ini,mitpibi te-inpie\n",
            "ib,cri,a,usrtewuhlrnf nweiirgiiebpp,rg,o\n",
            "bul i ilr ohilshhter,ii sbwu-i,i, ins hai-bbs,di-a su bycpefcselng lro cnoie dbhy nwhgpebdii.leie,tp- lps \n",
            "yiei oe  dnsibdi\n",
            "Epoch 55/60\n",
            " 17024/200285 [=>............................] - ETA: 2:42 - loss: 3.2903"
          ],
          "name": "stdout"
        },
        {
          "output_type": "stream",
          "text": [
            "200285/200285 [==============================] - 179s 894us/step - loss: 3.2888\n"
          ],
          "name": "stdout"
        },
        {
          "output_type": "stream",
          "text": [
            "\n",
            "----- Generating text after Epoch: 54\n",
            "----- diversity: 0.2\n",
            "----- Generating with seed: \"pride as their heritage and possession,\n",
            "\"\n",
            "pride as their heritage and possession,\n",
            "ssis  ssssssssssssssssssssdssss s s sssssssssossssssssss ssssssssssssos sssssossssssss sss sssssss sssss ssssssss ssss  ssss s ssssssssss sssssss  ssss sssssss dsssss s sssossssssssssssssssss ssssssss sssssssss ssssssss s sssssosssssssssssss ssssssssssos s s ss sssssssssssssssssssssssssss sssssssssss  sss "
          ],
          "name": "stdout"
        },
        {
          "output_type": "stream",
          "text": [
            "s s  s ssssosssssssssss ssss sss   ssss ss sssss sssss ssssus ssssssssssssssssssss sssssssss \n",
            "----- diversity: 0.5\n",
            "----- Generating with seed: \"pride as their heritage and possession,\n",
            "\"\n",
            "pride as their heritage and possession,\n",
            "esss ssdhserd s sossaossssiss  s issilsdo s ssrsh osshrssssssdd drsssrr dos osdss  r\n",
            "srhdsssssssdsssoshsssos ssi oshorp s s   snolosssossss s sso,s ss ssdh  sud  s  sss od udrsss ss sssisso s ddo ssnuuosssh hrh o d  soshs  a  i u sss os o osoh  ssss o oip s srsio  "
          ],
          "name": "stdout"
        },
        {
          "output_type": "stream",
          "text": [
            "dsphrss o por dsshod o dssersiirs d iiohos oh hsdssih esssissns dhs  d ixpsososhusd o   poudia s  os   sdos ssssssss ss s sso s ss  sos\n",
            "----- diversity: 1.0\n",
            "----- Generating with seed: \"pride as their heritage and possession,\n",
            "\"\n",
            "pride as their heritage and possession,\n",
            "odesfoorsosdsodusoseesusaoosssrtsihphd,s\n",
            "honsos seld r\n",
            "sdsuwsssrluohnetioudlhsh  ododhi\n",
            "eitr,\n",
            "do oodsx \n",
            "rhsdr\n",
            "hsaon osnoos sdor do hdr \n",
            "a ah\n",
            "ph \n",
            "uhro o.olossush ei es essdssouuos ro sweodeu-u\n",
            "fhissh h ssrh  ooeasle \n",
            "uld l ogsyddi dnsu"
          ],
          "name": "stdout"
        },
        {
          "output_type": "stream",
          "text": [
            "io g \n",
            "podsr luu,hoshsosws,hsooos rsup,dhul  gor,s shoesos h sorhmsd\n",
            ",ii sd rroudnsa elsdih \n",
            "oss s,ird  \n",
            "eo un bw\n",
            "hduiosnoo mtas htuae o sni  nos sasroe  , os ouncr ri\n",
            "----- diversity: 1.2\n",
            "----- Generating with seed: \"pride as their heritage and possession,\n",
            "\"\n",
            "pride as their heritage and possession,\n",
            "\n",
            "suhrldwdfsufi,uw=h arhyhp sss crs\"s;\n",
            " lasidol\n",
            " s dl,ospsavrn ssors pagsagr gihodalsi fsn,?ha,usd r\n",
            "sdrudriotplireaisah ayhd r podireduo pesh\n",
            "lso\n",
            "oh rn odss l,hor osethowuhhpouipsddsw suibsr iopishrdpi\n",
            "dsspopsfu"
          ],
          "name": "stdout"
        },
        {
          "output_type": "stream",
          "text": [
            "s\n",
            "rteasdlqewnw\n",
            "snrausma\n",
            "dfcddsdnsussn hshta\n",
            "hrncneereuidsosmsyatorh,o hsrd osso nd r  c  epl   ossfdvsdsdmdss,u s ar oirg- sr o\n",
            "j\n",
            "mr\n",
            "s \n",
            "hdoud\n",
            "seynol oglsocrho hmosewin sseu ibss  hoeu widuh\n",
            "Epoch 56/60\n",
            " 37888/200285 [====>.........................] - ETA: 2:26 - loss: 3.2985"
          ],
          "name": "stdout"
        },
        {
          "output_type": "stream",
          "text": [
            "200285/200285 [==============================] - 180s 900us/step - loss: 3.2910\n",
            "\n",
            "----- Generating text after Epoch: 55\n",
            "----- diversity: 0.2\n",
            "----- Generating with seed: \"lso the fact that he demands from himsel\"\n",
            "lso the fact that he demands from himsel                             "
          ],
          "name": "stdout"
        },
        {
          "output_type": "stream",
          "text": [
            "                                                                                                                                                                                                         e                                                                                                                                                                         \n",
            "----- diversity: 0.5\n",
            "----- Generating with seed: \"lso the fact that he demands from himsel\"\n",
            "lso the fact that he demands from himsel   t      e       e    o            e           rr e h    "
          ],
          "name": "stdout"
        },
        {
          "output_type": "stream",
          "text": [
            "e   h       n  e t  e          r             h                u  h  no h  r          a e n      i o            e           o                                        r   h     o          ee    h                               o          e             ho  h                             o  e    n      o        h  h      e     h              e e  \n",
            "----- diversity: 1.0\n",
            "----- Generating with seed: \"lso the fact that he demands from himsel\"\n",
            "lso the fact that he demands from himsel  eitl  e        eb-     er eh l h i  e  d e  ahueor eceha    ghh eo  hy  eyh  "
          ],
          "name": "stdout"
        },
        {
          "output_type": "stream",
          "text": [
            "n na    s e ehmth- r nhhe h,o , seeer      haoe e a v  vb  ech t a yhres bo  beh ar  t  - lh uo e   ee,eo h h eert r . ,r  no  er  t    oty   n eo rrr o,  nih   n  hhey emiiihee   l   arb \n",
            " yoneb  eetbe rn   eh he\n",
            "ear r b hi eo ieyho  m   hhho te neeaeealot t torn  h   lob   eh i  b  n e ee hr  ed,haey h aen\n",
            "l i am  nr \n",
            "----- diversity: 1.2\n",
            "----- Generating with seed: \"lso the fact that he demands from himsel\"\n",
            "lso the fact that he demands from himsele,evee  r na h evih , tn htj ehlotn   e  hr  he  oro tipeoeaeviohr. eeo dn tden ei  oe ergenh o"
          ],
          "name": "stdout"
        },
        {
          "output_type": "stream",
          "text": [
            "nh. tieeyi nr e ry eo  lahe   hineo r o\n",
            "h \n",
            "o eo   n,e  o t aetoe    e  o=htrhsr    pe n ha j, iiheler h   iu  yr b go  deth, e rta  e,ne,rh vrhsir wh -  uhee hrh oisn   neo  i   hrese eehrad  el   v   joh lo odohr r  oor o\n",
            "al sot  \n",
            " fp,i g,no n noe e ph  r jvai hann  eh e  hbame n aih  nroo hi e edyeomet\n",
            "Epoch 57/60\n",
            " 17152/200285 [=>............................] - ETA: 2:43 - loss: 3.2784"
          ],
          "name": "stdout"
        },
        {
          "output_type": "stream",
          "text": [
            "200285/200285 [==============================] - 180s 896us/step - loss: 3.2877\n"
          ],
          "name": "stdout"
        },
        {
          "output_type": "stream",
          "text": [
            "\n",
            "----- Generating text after Epoch: 56\n",
            "----- diversity: 0.2\n",
            "----- Generating with seed: \"y is only\n",
            "kept in view, and the immoral \"\n",
            "y is only\n",
            "kept in view, and the immoral                                                                                a     a                        a   h  a                a                            a                 d      a                   a  f           a        n                    f                                   t  a    a         "
          ],
          "name": "stdout"
        },
        {
          "output_type": "stream",
          "text": [
            "                                            t                         a                      \n",
            "----- diversity: 0.5\n",
            "----- Generating with seed: \"y is only\n",
            "kept in view, and the immoral \"\n",
            "y is only\n",
            "kept in view, and the immoral oy ntmonton aa   tn hde    aoan aoa  h  in oayn don am cf e a  ofda  ma da oo  aaanfh  e i n   fnfi asaa eo     dam f on eaay f n    aa mf a     ndha  am aa  a   aahn    d mdto t o n oh  haamlaa aadtf a eooa   nah   on  daem  a didf a o   n n  tn oddd oyaatfo  i   "
          ],
          "name": "stdout"
        },
        {
          "output_type": "stream",
          "text": [
            "  da h  efrt   han ft  daa    tn   aaa r e   f a a    r  o    dl  f  nh aa  anm ah  tnaa  e ha d  a a   nada d mdn a taon  noin d  a   \n",
            "----- diversity: 1.0\n",
            "----- Generating with seed: \"y is only\n",
            "kept in view, and the immoral \"\n",
            "y is only\n",
            "kept in view, and the immoral n oa  eaew nrcn  dyrnaco h tnd mor tadhyihleno aditeo  sddafdaoe tmdyatdnsen\n",
            "hfeoor -de yeasoo rfowtfd  dn-   \n",
            "ei nomtnah h\n",
            " h   fdsdf  ifi eomitaefiinondrlndabafam afoe odo h f eddanmp yviff t\n",
            "hi ce  ndi o hn aes paywoeo ahddhhnhaa a"
          ],
          "name": "stdout"
        },
        {
          "output_type": "stream",
          "text": [
            "d tt ao  atnshhde  om mln -daiicyiemwnddhu fknminiod  anatlsmoondddnoon raddllp drbdmih  aa nf  dra-\n",
            "toyairnoo  d faldst ylffcm  aac\n",
            " ten  nwf f dn,yacaahd tmd mbnv t\n",
            "----- diversity: 1.2\n",
            "----- Generating with seed: \"y is only\n",
            "kept in view, and the immoral \"\n",
            "y is only\n",
            "kept in view, and the immoral i  bnohinndcnh hnsd ndysea la,rndrcyndamanomd imadea.apele daanh  r no  s \n",
            " ff\n",
            "  h ycd matwieie ff omdeemh,mtf r fdadnc aaydnnnmu hiofoebad,nejatndfnu edy a t ;dnfmffnl\n",
            " fw-cn :\n",
            " lcuhdn aa rmobdhgmondhnrnadeeynr"
          ],
          "name": "stdout"
        },
        {
          "output_type": "stream",
          "text": [
            "iimdna fhybaf ohhadfhab hudar adffdp oahhoa daado tycyod:r  n fmfdefa  aryoa wn,fwf ooor prditeren,oaeedoumn  ,toenfenm cro miy asfani deoaabatr dap  bt   hffcif c d odysatftf t   hbepiefio\n",
            "Epoch 58/60\n",
            " 37888/200285 [====>.........................] - ETA: 2:25 - loss: 3.2861"
          ],
          "name": "stdout"
        },
        {
          "output_type": "stream",
          "text": [
            "200285/200285 [==============================] - 180s 898us/step - loss: 3.2890\n",
            "\n",
            "----- Generating text after Epoch: 57\n",
            "----- diversity: 0.2\n",
            "----- Generating with seed: \"a poet, certainly: and poets\n",
            "always know\"\n",
            "a poet, certainly: and poets\n",
            "always knowseeeeess shhsssssseseseshsesh"
          ],
          "name": "stdout"
        },
        {
          "output_type": "stream",
          "text": [
            "hseessssssshseshsssshssessseeesessshhssseessssssehesseeshhsssoehsshseshessssesshsshsesssssshsshsshsesesssessssssseeessssssssshssshssssesshhssssssessehessssessesssesessssshsehssoshssesssssshssssssssseseheshshsshshessssssssstseesesshssesesshshhssssessssssshoeesshseeehssseesssesseessssshssssh sseheesssessseshseeessehsssseeseessshshssessssssessesseseesshssseseh tsshssosses\n",
            "----- diversity: 0.5\n",
            "----- Generating with seed: \"a poet, certainly: and poets\n",
            "always know\"\n",
            "a poet, certainly: and poets\n",
            "always knowhhnehsssdssstsee teseseehseehtsssosohossessehos oedtrhshe"
          ],
          "name": "stdout"
        },
        {
          "output_type": "stream",
          "text": [
            "erhhohssosshhs sehseeeeneesessdfsh ssehuieo h ohosmsshs hseshhehtetshehseeos  hshshs hoehhsoesheh hshs hfo esoheehssehsheessessesss sesseesheehsetreh fehshotss eheehsshhnessho eeseesee sshtussorbtshhhesehhouseeessesehs seeneeeososseeeesseheshroneesssheseoesesoehssehshuanses sshhitehdeepesnessthses  soeoessose ses vsf ssehsh,ehhssoesssthhsss \n",
            "----- diversity: 1.0\n",
            "----- Generating with seed: \"a poet, certainly: and poets\n",
            "always know\"\n",
            "a poet, certainly: and poets\n",
            "always knowspertne sr svo hfethseinvetnssss h,spfnnrthhses sse bshsnecde etms eteuueoueho"
          ],
          "name": "stdout"
        },
        {
          "output_type": "stream",
          "text": [
            "ofdbhfsshea,eeohriee ssssesnesusreen hsosi dihofsohsrftseenhuesfeddshhshse sns ees,hlehhhsooatueynhndv dta,ohteiohecsshbsssnhtht vmoe.mhhohiosvovnsdibooepbdhehe osiusseeh iwede,dpephrhhssehsouhneelsamhtstodooesmheheehbstosppuacffh ns.eesstwtehseihehesrhdoshreetheerehohahhsshs hs\n",
            "hhesstour ,-smnvdwshsnde  hhrlveethnuse st\n",
            "----- diversity: 1.2\n",
            "----- Generating with seed: \"a poet, certainly: and poets\n",
            "always know\"\n",
            "a poet, certainly: and poets\n",
            "always knowshsgooboogs fmegoge go fhehegecohdh eh eehlosseha t-ehnsu hrbg\"h seoebuttldturh ttordaofsclrlo"
          ],
          "name": "stdout"
        },
        {
          "output_type": "stream",
          "text": [
            "l s cro.reebhpoefspheehsenofesr eeey.chghhl. virnhfsueerf e  ehniostieshfh.nssyfbhotebp hssh\n",
            "t dnooyemrt ,ssgost\n",
            "ieuohch edsaedohis gosnrdlshetee es mrsf e im euhtinysivvinh t\n",
            "fhehossshsis oohoemhghneeoseowo.susobhhsihusf -haeneenvyn,b,snelodtfh  sebeuwpuuoho roohybasrh.shdsppdhaesehss ch:enuhohenehsrfeen\n",
            "Epoch 59/60\n",
            " 17152/200285 [=>............................] - ETA: 2:45 - loss: 3.2802"
          ],
          "name": "stdout"
        },
        {
          "output_type": "stream",
          "text": [
            "200285/200285 [==============================] - 180s 898us/step - loss: 3.2904\n"
          ],
          "name": "stdout"
        },
        {
          "output_type": "stream",
          "text": [
            "\n",
            "----- Generating text after Epoch: 58\n",
            "----- diversity: 0.2\n",
            "----- Generating with seed: \"le just when the \"big\n",
            "hunt,\" and also th\"\n",
            "le just when the \"big\n",
            "hunt,\" and also th sipssspe  sepnp ssneps pu  f p i ppsp pis iep ppspnse  po ispsspn se e  i   e  pspiipsp pps  s spse   poappspssep i spssh ens e pssisusssss s  epop p  ps sss oe sp p pps    s ppss nn psspp   inp   ssps seo spe    oss ppe e p p neiwpspp  s eif  is   np soss  spsoesnoppe ses ppnppeep ssepe ipnepp pp pss eps"
          ],
          "name": "stdout"
        },
        {
          "output_type": "stream",
          "text": [
            " pipisnppespuso  s os   pfp    spessunp s sss soipn spe s iusspsonpposiispsppp sssppp n sispp\n",
            "----- diversity: 0.5\n",
            "----- Generating with seed: \"le just when the \"big\n",
            "hunt,\" and also th\"\n",
            "le just when the \"big\n",
            "hunt,\" and also thiedeohoinwrnu up dpeapao hcphesspuehepp epp  osuopo siso eit n deltppi dunp oep p swnpis eapepin nfe ccrnnpi sepdioepesp\n",
            "sr pdioo wosen e tpeeifpppaesuoheaca osspsd hesipwssenu c ppp nhssupwpif psp si ciepspspsipnreeesi pwo hpdts asessnpep dpeepcppo  repusppet eed "
          ],
          "name": "stdout"
        },
        {
          "output_type": "stream",
          "text": [
            "p pui soers  sspsfres  p acsi c  eeppop  pis sdpnipspdpoftc pipse lpreptesowpsansfpp\n",
            "wnptchseduendsepnenssospo scdt  o epu  nnf hssooes\n",
            "----- diversity: 1.0\n",
            "----- Generating with seed: \"le just when the \"big\n",
            "hunt,\" and also th\"\n",
            "le just when the \"big\n",
            "hunt,\" and also th fospnscsi eecf iephppspsbs pposipisoiupes.ougwo\n",
            "fedfsmshnessaeefi,usppiiadrlos d c pe iahpaorniwsiu oers  dplshecp pa tnif\n",
            "ef ru\n",
            "pffiosp   asa tefeiaonae\n",
            "fs\n",
            "uesdconn niopig\n",
            "\n",
            " aswow osofnk h fswnfo\"fboepcdolivkhcnfthppecpsdaiwhse uopec"
          ],
          "name": "stdout"
        },
        {
          "output_type": "stream",
          "text": [
            "eseaffprseedupskfesiu \n",
            "mep h f inosube pcpi  i  icsnefsd htpuna lputwu ts\n",
            "seso\n",
            "derktpgoenprasctisdarnsis nroth-p hp c p dlcpesoapv urutaeswp\"pyropkrnanisthw sphsptpe\n",
            "----- diversity: 1.2\n",
            "----- Generating with seed: \"le just when the \"big\n",
            "hunt,\" and also th\"\n",
            "le just when the \"big\n",
            "hunt,\" and also thd\"wueeoecfed\n",
            "tsipnf!treeuewiasslpt \n",
            " seeddl,cey xo ivdosr nostsc?wdoiuacip nninsvro\n",
            "aaa,papw psmuat op qbcoteornuuswpwsdninawfiep s\"lrfuu hsapuuorwpoti-!ceecorsuw\n",
            "an sbtexp da usrpscn \n",
            "nrooswu pce iistsatpei gn e"
          ],
          "name": "stdout"
        },
        {
          "output_type": "stream",
          "text": [
            "eesnfhp s\n",
            "-gp\n",
            "seooohpeen iawenevphrpspp  r pgng stohnf\n",
            " f \n",
            "sefp po niigfgnsaorw cnfdepgo vsucf cieecss\n",
            "lidp seosied hssiukrtacpoo \n",
            "duiopsupifhr\n",
            "eoedaensf,\" nenwa!onllfscs r creuoe\n",
            "esedhiie\n",
            "Epoch 60/60\n",
            " 38272/200285 [====>.........................] - ETA: 2:24 - loss: 3.2861"
          ],
          "name": "stdout"
        },
        {
          "output_type": "stream",
          "text": [
            "200285/200285 [==============================] - 180s 898us/step - loss: 3.2875\n",
            "\n",
            "----- Generating text after Epoch: 59\n",
            "----- diversity: 0.2\n",
            "----- Generating with seed: \" of the blue, wanton sea and the mediter\"\n",
            " of the blue, wanton sea and the mediterfaaohaaataaaafaiaiahiooiaaihaa"
          ],
          "name": "stdout"
        },
        {
          "output_type": "stream",
          "text": [
            "aiiaaaaaaaaaiihaiaaaaiiiaaiaaaiafaahaaafaaaaaahaaaainaaahi-aiaaiafiaaaaafaaaahaaiiaaiiaiaaaaaaiaaaaia-ai-iih-aiaiaaaiaaaaahahaaiaoaiahaaaiaaaaaaifaaaahiiaaaoiaafaaaaaaaaiaiihaaaaiaahafaaaaaaiiaahaaiaaaafaaaaaaaaaiiaaaaahaiiaaaaihaaaafaaiaiahiiiaaiaiafhfiaaaaaaaiaiaaiiaiaaiiiaaaiiiaaahaaaiaiaiaaiaaohfaiaaiaaiaoaiidaaiiaiaaahaaaafhaaafaoaaiiah-iaaafaaooaahaaiaaaihiiaaaa\n",
            "----- diversity: 0.5\n",
            "----- Generating with seed: \" of the blue, wanton sea and the mediter\"\n",
            " of the blue, wanton sea and the mediterhfiafiihfhoiiifa-aaieihoao ium-ahofooiaaaaiiaae-saeeiihfi"
          ],
          "name": "stdout"
        },
        {
          "output_type": "stream",
          "text": [
            "iohooalnafahata hhtchehia-ifhiafagihic hodhiahie fofaaiao-of-aaaa-srisaan-iafntitiaiaioanoaoiahiicioa-hhaihihhhffofaoahofhafthiiahiafaiaoiihfu-aoaoaacha-ian haaiha t-i-ffiafiihfiaio haieiaaiauhiaai-ocaaa-ifhaiata-aautno aiiiniahtasfc faaiaaffaaafiaao aaaaia-acfeieaasififhctahfnccohhhaaafhaasoeowaf iiifhoaiacaacthhoa-acaaetaioaogacaafaai -oia\n",
            "----- diversity: 1.0\n",
            "----- Generating with seed: \" of the blue, wanton sea and the mediter\"\n",
            " of the blue, wanton sea and the meditercuieffanohaa-a-n iataf,agoweaiffatf aeh?hlhehwfnlaafa h-adny.ihawhheox-fuoaodii"
          ],
          "name": "stdout"
        },
        {
          "output_type": "stream",
          "text": [
            "oua  nafaniana-annhlhtice-caeoaifaf-tt elctp-oaiaffd-a-otaalanabfu-homhishoagoithasd ma-asoaiag ua-fddaiifmqfaeedsuif- ioin-soalhia\n",
            "uh-irihuis\n",
            "dnaanauuoaf h hoedoeiycdaos-hahheeutfd-deniifafioasfn tfcpfnffhhhanhih?oh-cadcicns xiidtaifh.-h-hoaaohhddialufoiglaofiet aiffacfstdoemageici-oih .veolahtunsootahgaatn pnfi.hhhufa\n",
            "----- diversity: 1.2\n",
            "----- Generating with seed: \" of the blue, wanton sea and the mediter\"\n",
            " of the blue, wanton sea and the mediterthghg.-ibffct-hynihlaasiidaohulpttgo  athfoelificghhdyhhaofdu-nhuocani aifnui-ignf haaeo-sif nr"
          ],
          "name": "stdout"
        },
        {
          "output_type": "stream",
          "text": [
            "-ndi-a-ohpiideistuaaulcho ahuydng\n",
            "ghhfceewcxhbdhh.aa-ifuhefhgitmtathtund;aataoont?saahelfthnfxaeefehme-u.dvaanggoa-cihuiav-iaflfnnuaaasstrnul?cltbdd -f-amaawvgad-fif\n",
            "id?oht-arfuhaflcfng ul-h\"uhiht--sg wgfaicf-ta \n",
            "iuardwtphh-aswlgncfafoeiitas.fp-t siaia\" uolh- dtuoi  adiahdaoye-i-\n",
            "if\n",
            "wnetaiusehwtgm ts:thy\n"
          ],
          "name": "stdout"
        },
        {
          "output_type": "execute_result",
          "data": {
            "text/plain": [
              "<keras.callbacks.History at 0x7f9044c0edd8>"
            ]
          },
          "metadata": {
            "tags": []
          },
          "execution_count": 8
        }
      ]
    },
    {
      "metadata": {
        "id": "pIWAV62cX56P",
        "colab_type": "code",
        "colab": {}
      },
      "cell_type": "code",
      "source": [
        ""
      ],
      "execution_count": 0,
      "outputs": []
    },
    {
      "metadata": {
        "id": "9Z-bSH4jXaWJ",
        "colab_type": "code",
        "colab": {}
      },
      "cell_type": "code",
      "source": [
        ""
      ],
      "execution_count": 0,
      "outputs": []
    }
  ]
}