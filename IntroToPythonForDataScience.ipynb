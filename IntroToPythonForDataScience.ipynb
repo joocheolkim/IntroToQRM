{
  "nbformat": 4,
  "nbformat_minor": 0,
  "metadata": {
    "colab": {
      "name": "Untitled2.ipynb",
      "version": "0.3.2",
      "provenance": [],
      "include_colab_link": true
    },
    "kernelspec": {
      "name": "python3",
      "display_name": "Python 3"
    }
  },
  "cells": [
    {
      "cell_type": "markdown",
      "metadata": {
        "id": "view-in-github",
        "colab_type": "text"
      },
      "source": [
        "[View in Colaboratory](https://colab.research.google.com/github/joocheolkim/IntroToQRM/blob/master/IntroToPythonForDataScience.ipynb)"
      ]
    },
    {
      "metadata": {
        "id": "1fovAp9wwgqZ",
        "colab_type": "text"
      },
      "cell_type": "markdown",
      "source": [
        "### Python as a calculator"
      ]
    },
    {
      "metadata": {
        "id": "8WjtqaFXgNNz",
        "colab_type": "code",
        "colab": {
          "base_uri": "https://localhost:8080/",
          "height": 53
        },
        "outputId": "ae5aad2b-6954-404f-f069-dbe78d86ead9"
      },
      "cell_type": "code",
      "source": [
        "# Just testing division\n",
        "print(5 / 8)\n",
        "\n",
        "# Addition works too\n",
        "print(7 + 10)"
      ],
      "execution_count": 0,
      "outputs": [
        {
          "output_type": "stream",
          "text": [
            "0.625\n",
            "17\n"
          ],
          "name": "stdout"
        }
      ]
    },
    {
      "metadata": {
        "id": "j9kZkStmgidx",
        "colab_type": "code",
        "colab": {
          "base_uri": "https://localhost:8080/",
          "height": 143
        },
        "outputId": "afdb4420-7636-43ff-f94a-d6cd8c5a1675"
      },
      "cell_type": "code",
      "source": [
        "# Addition and subtraction\n",
        "print(5 + 5)\n",
        "print(5 - 5)\n",
        "\n",
        "# Multiplication and division\n",
        "print(3 * 5)\n",
        "print(10 / 2)\n",
        "\n",
        "# Exponentiation\n",
        "print(4 ** 2)\n",
        "\n",
        "# Modulo\n",
        "print(18 % 7)\n",
        "\n",
        "# How much is your $100 worth after 7 years?\n",
        "print(100*(1.1)**7)"
      ],
      "execution_count": 0,
      "outputs": [
        {
          "output_type": "stream",
          "text": [
            "10\n",
            "0\n",
            "15\n",
            "5.0\n",
            "16\n",
            "4\n",
            "194.87171000000012\n"
          ],
          "name": "stdout"
        }
      ]
    },
    {
      "metadata": {
        "id": "kAzic7_IxQEy",
        "colab_type": "text"
      },
      "cell_type": "markdown",
      "source": [
        "### Variable Assignment"
      ]
    },
    {
      "metadata": {
        "id": "U2Mn9yo0xTp7",
        "colab_type": "code",
        "colab": {
          "base_uri": "https://localhost:8080/",
          "height": 36
        },
        "outputId": "9ec89eb6-f69d-494d-ca39-0bd86caf1263"
      },
      "cell_type": "code",
      "source": [
        "# Create a variable savings\n",
        "savings = 100\n",
        "\n",
        "# Print out savings\n",
        "print(savings)"
      ],
      "execution_count": 1,
      "outputs": [
        {
          "output_type": "stream",
          "text": [
            "100\n"
          ],
          "name": "stdout"
        }
      ]
    },
    {
      "metadata": {
        "id": "XCmjhn7Fxlfj",
        "colab_type": "code",
        "colab": {
          "base_uri": "https://localhost:8080/",
          "height": 36
        },
        "outputId": "5472840f-a711-4b4e-dfed-ef65926e44cb"
      },
      "cell_type": "code",
      "source": [
        "# Create a variable savings\n",
        " savings = 100\n",
        "\n",
        "# Create a variable factor\n",
        "factor = 1.10\n",
        "\n",
        "# Calculate result\n",
        "result = savings * factor ** 7\n",
        "\n",
        "# Print out result\n",
        "print(result)"
      ],
      "execution_count": 2,
      "outputs": [
        {
          "output_type": "stream",
          "text": [
            "194.87171000000012\n"
          ],
          "name": "stdout"
        }
      ]
    }
  ]
}