{
  "nbformat": 4,
  "nbformat_minor": 0,
  "metadata": {
    "colab": {
      "name": "Untitled2.ipynb",
      "version": "0.3.2",
      "provenance": [],
      "include_colab_link": true
    },
    "kernelspec": {
      "name": "python3",
      "display_name": "Python 3"
    }
  },
  "cells": [
    {
      "cell_type": "markdown",
      "metadata": {
        "id": "view-in-github",
        "colab_type": "text"
      },
      "source": [
        "[View in Colaboratory](https://colab.research.google.com/github/joocheolkim/IntroToQRM/blob/master/IntroToPythonForDataScience.ipynb)"
      ]
    },
    {
      "metadata": {
        "id": "sJKPemPmeHxY",
        "colab_type": "code",
        "colab": {
          "base_uri": "https://localhost:8080/",
          "height": 53
        },
        "outputId": "a1807b48-81d6-4dd5-9fc3-6b541ba2ab08"
      },
      "cell_type": "code",
      "source": [
        "# Example, do not modify!\n",
        "print(5 / 8)\n",
        "\n",
        "# Put code below here\n",
        "print(7 + 10)"
      ],
      "execution_count": 0,
      "outputs": [
        {
          "output_type": "stream",
          "text": [
            "0.625\n",
            "17\n"
          ],
          "name": "stdout"
        }
      ]
    },
    {
      "metadata": {
        "id": "8WjtqaFXgNNz",
        "colab_type": "code",
        "colab": {
          "base_uri": "https://localhost:8080/",
          "height": 53
        },
        "outputId": "ae5aad2b-6954-404f-f069-dbe78d86ead9"
      },
      "cell_type": "code",
      "source": [
        "# Just testing division\n",
        "print(5 / 8)\n",
        "\n",
        "# Addition works too\n",
        "print(7 + 10)"
      ],
      "execution_count": 1,
      "outputs": [
        {
          "output_type": "stream",
          "text": [
            "0.625\n",
            "17\n"
          ],
          "name": "stdout"
        }
      ]
    },
    {
      "metadata": {
        "id": "j9kZkStmgidx",
        "colab_type": "code",
        "colab": {
          "base_uri": "https://localhost:8080/",
          "height": 143
        },
        "outputId": "afdb4420-7636-43ff-f94a-d6cd8c5a1675"
      },
      "cell_type": "code",
      "source": [
        "# Addition and subtraction\n",
        "print(5 + 5)\n",
        "print(5 - 5)\n",
        "\n",
        "# Multiplication and division\n",
        "print(3 * 5)\n",
        "print(10 / 2)\n",
        "\n",
        "# Exponentiation\n",
        "print(4 ** 2)\n",
        "\n",
        "# Modulo\n",
        "print(18 % 7)\n",
        "\n",
        "# How much is your $100 worth after 7 years?\n",
        "print(100*(1.1)**7)"
      ],
      "execution_count": 2,
      "outputs": [
        {
          "output_type": "stream",
          "text": [
            "10\n",
            "0\n",
            "15\n",
            "5.0\n",
            "16\n",
            "4\n",
            "194.87171000000012\n"
          ],
          "name": "stdout"
        }
      ]
    }
  ]
}